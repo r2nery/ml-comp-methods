{
 "cells": [
  {
   "cell_type": "code",
   "execution_count": 35,
   "metadata": {},
   "outputs": [],
   "source": [
    "import timeit\n",
    "import math\n",
    "import matplotlib.pyplot as plt\n",
    "import numpy as np\n",
    "import pandas as pd\n",
    "import random\n",
    "import statsmodels.api as sm\n",
    "from statsmodels.sandbox.regression.gmm import IV2SLS\n",
    "from statsmodels.sandbox.regression.gmm import IVGMM\n",
    "from statsmodels.api import add_constant\n",
    "import patsy as ps\n",
    "import wooldridge"
   ]
  },
  {
   "attachments": {},
   "cell_type": "markdown",
   "metadata": {},
   "source": [
    "# Regressão Linear"
   ]
  },
  {
   "attachments": {},
   "cell_type": "markdown",
   "metadata": {},
   "source": [
    "#### 1) Um problema de interesse para autoridades de saúde é determinar os efeitos do fumo durante a gravidez na saúde do bebê. Uma medida da saúde do bebê é o peso no nascimento (bwght); um peso no nascimento muito baixo pode colocar o bebê em risco de contrair várias doenças. Uma vez que fatores além do tabagismo que afetam o peso no nascimento provavelmente estão correlacionados com o tabagismo, devemos levar esses fatores em consideração. Por exemplo, uma renda mais alta geralmente resulta em acesso a melhor atendimento pré-natal, bem como melhor nutrição para a mãe. Uma equação que reconhece isso é:"
   ]
  },
  {
   "attachments": {},
   "cell_type": "markdown",
   "metadata": {},
   "source": [
    "$$\\text{bwght} = \\beta_1 \\text{cigs} + \\beta_2 \\text{faminc} + u$$"
   ]
  },
  {
   "cell_type": "code",
   "execution_count": 36,
   "metadata": {},
   "outputs": [
    {
     "data": {
      "text/html": [
       "<div>\n",
       "<style scoped>\n",
       "    .dataframe tbody tr th:only-of-type {\n",
       "        vertical-align: middle;\n",
       "    }\n",
       "\n",
       "    .dataframe tbody tr th {\n",
       "        vertical-align: top;\n",
       "    }\n",
       "\n",
       "    .dataframe thead th {\n",
       "        text-align: right;\n",
       "    }\n",
       "</style>\n",
       "<table border=\"1\" class=\"dataframe\">\n",
       "  <thead>\n",
       "    <tr style=\"text-align: right;\">\n",
       "      <th></th>\n",
       "      <th>faminc</th>\n",
       "      <th>cigtax</th>\n",
       "      <th>cigprice</th>\n",
       "      <th>bwght</th>\n",
       "      <th>fatheduc</th>\n",
       "      <th>motheduc</th>\n",
       "      <th>parity</th>\n",
       "      <th>male</th>\n",
       "      <th>white</th>\n",
       "      <th>cigs</th>\n",
       "      <th>lbwght</th>\n",
       "      <th>bwghtlbs</th>\n",
       "      <th>packs</th>\n",
       "      <th>lfaminc</th>\n",
       "    </tr>\n",
       "  </thead>\n",
       "  <tbody>\n",
       "    <tr>\n",
       "      <th>0</th>\n",
       "      <td>13.5</td>\n",
       "      <td>16.5</td>\n",
       "      <td>122.300003</td>\n",
       "      <td>109</td>\n",
       "      <td>12.0</td>\n",
       "      <td>12.0</td>\n",
       "      <td>1</td>\n",
       "      <td>1</td>\n",
       "      <td>1</td>\n",
       "      <td>0</td>\n",
       "      <td>4.691348</td>\n",
       "      <td>6.8125</td>\n",
       "      <td>0.0</td>\n",
       "      <td>2.602690</td>\n",
       "    </tr>\n",
       "    <tr>\n",
       "      <th>1</th>\n",
       "      <td>7.5</td>\n",
       "      <td>16.5</td>\n",
       "      <td>122.300003</td>\n",
       "      <td>133</td>\n",
       "      <td>6.0</td>\n",
       "      <td>12.0</td>\n",
       "      <td>2</td>\n",
       "      <td>1</td>\n",
       "      <td>0</td>\n",
       "      <td>0</td>\n",
       "      <td>4.890349</td>\n",
       "      <td>8.3125</td>\n",
       "      <td>0.0</td>\n",
       "      <td>2.014903</td>\n",
       "    </tr>\n",
       "    <tr>\n",
       "      <th>2</th>\n",
       "      <td>0.5</td>\n",
       "      <td>16.5</td>\n",
       "      <td>122.300003</td>\n",
       "      <td>129</td>\n",
       "      <td>NaN</td>\n",
       "      <td>12.0</td>\n",
       "      <td>2</td>\n",
       "      <td>0</td>\n",
       "      <td>0</td>\n",
       "      <td>0</td>\n",
       "      <td>4.859812</td>\n",
       "      <td>8.0625</td>\n",
       "      <td>0.0</td>\n",
       "      <td>-0.693147</td>\n",
       "    </tr>\n",
       "    <tr>\n",
       "      <th>3</th>\n",
       "      <td>15.5</td>\n",
       "      <td>16.5</td>\n",
       "      <td>122.300003</td>\n",
       "      <td>126</td>\n",
       "      <td>12.0</td>\n",
       "      <td>12.0</td>\n",
       "      <td>2</td>\n",
       "      <td>1</td>\n",
       "      <td>0</td>\n",
       "      <td>0</td>\n",
       "      <td>4.836282</td>\n",
       "      <td>7.8750</td>\n",
       "      <td>0.0</td>\n",
       "      <td>2.740840</td>\n",
       "    </tr>\n",
       "    <tr>\n",
       "      <th>4</th>\n",
       "      <td>27.5</td>\n",
       "      <td>16.5</td>\n",
       "      <td>122.300003</td>\n",
       "      <td>134</td>\n",
       "      <td>14.0</td>\n",
       "      <td>12.0</td>\n",
       "      <td>2</td>\n",
       "      <td>1</td>\n",
       "      <td>1</td>\n",
       "      <td>0</td>\n",
       "      <td>4.897840</td>\n",
       "      <td>8.3750</td>\n",
       "      <td>0.0</td>\n",
       "      <td>3.314186</td>\n",
       "    </tr>\n",
       "  </tbody>\n",
       "</table>\n",
       "</div>"
      ],
      "text/plain": [
       "   faminc  cigtax    cigprice  bwght  fatheduc  motheduc  parity  male  white  \\\n",
       "0    13.5    16.5  122.300003    109      12.0      12.0       1     1      1   \n",
       "1     7.5    16.5  122.300003    133       6.0      12.0       2     1      0   \n",
       "2     0.5    16.5  122.300003    129       NaN      12.0       2     0      0   \n",
       "3    15.5    16.5  122.300003    126      12.0      12.0       2     1      0   \n",
       "4    27.5    16.5  122.300003    134      14.0      12.0       2     1      1   \n",
       "\n",
       "   cigs    lbwght  bwghtlbs  packs   lfaminc  \n",
       "0     0  4.691348    6.8125    0.0  2.602690  \n",
       "1     0  4.890349    8.3125    0.0  2.014903  \n",
       "2     0  4.859812    8.0625    0.0 -0.693147  \n",
       "3     0  4.836282    7.8750    0.0  2.740840  \n",
       "4     0  4.897840    8.3750    0.0  3.314186  "
      ]
     },
     "execution_count": 36,
     "metadata": {},
     "output_type": "execute_result"
    }
   ],
   "source": [
    "bwght = wooldridge.data('bwght')\n",
    "bwght.head()"
   ]
  },
  {
   "attachments": {},
   "cell_type": "markdown",
   "metadata": {},
   "source": [
    "##### (i) Qual é o sinal mais provável para $\\beta_2$?"
   ]
  },
  {
   "attachments": {},
   "cell_type": "markdown",
   "metadata": {},
   "source": [
    "Podemos imaginar que $\\beta_2 > 0$, pelo raciocínio a priori de que uma maior renda traria melhores cuidados para a mãe durante o pré-natal."
   ]
  },
  {
   "attachments": {},
   "cell_type": "markdown",
   "metadata": {},
   "source": [
    "##### (ii) Você acha que cigs e faminc provavelmente estão correlacionados? Explique por que a correlação pode ser positiva ou negativa."
   ]
  },
  {
   "attachments": {},
   "cell_type": "markdown",
   "metadata": {},
   "source": [
    "Por um lado, um aumento na renda geralmente aumenta o consumo de um bem, e cigs e faminc podem estar positivamente correlacionados. \n",
    "Por outro lado, os rendimentos familiares também são maiores para famílias com mais educação, e a educação e o consumo de cigarros tendem a estar negativamente correlacionados."
   ]
  },
  {
   "cell_type": "code",
   "execution_count": 37,
   "metadata": {},
   "outputs": [
    {
     "data": {
      "text/plain": [
       "-0.1730449257358646"
      ]
     },
     "execution_count": 37,
     "metadata": {},
     "output_type": "execute_result"
    }
   ],
   "source": [
    "bwght.cigs.corr(bwght.faminc)"
   ]
  },
  {
   "attachments": {},
   "cell_type": "markdown",
   "metadata": {},
   "source": [
    "##### (iii) Agora, estime a equação com e sem faminc, usando os dados de BWGHT do Wooldridge. Relate os resultados em forma de equação, incluindo o tamanho da amostra e R-quadrado. Discuta seus resultados, focando se  inclusão de faminc muda substancialmente o efeito estimado de cigs em bwght."
   ]
  },
  {
   "cell_type": "code",
   "execution_count": 38,
   "metadata": {},
   "outputs": [
    {
     "name": "stdout",
     "output_type": "stream",
     "text": [
      "                            OLS Regression Results                            \n",
      "==============================================================================\n",
      "Dep. Variable:                  bwght   R-squared:                       0.023\n",
      "Model:                            OLS   Adj. R-squared:                  0.022\n",
      "Method:                 Least Squares   F-statistic:                     32.24\n",
      "Date:                Tue, 20 Jun 2023   Prob (F-statistic):           1.66e-08\n",
      "Time:                        17:12:28   Log-Likelihood:                -6135.5\n",
      "No. Observations:                1388   AIC:                         1.227e+04\n",
      "Df Residuals:                    1386   BIC:                         1.229e+04\n",
      "Df Model:                           1                                         \n",
      "Covariance Type:            nonrobust                                         \n",
      "==============================================================================\n",
      "                 coef    std err          t      P>|t|      [0.025      0.975]\n",
      "------------------------------------------------------------------------------\n",
      "Intercept    119.7719      0.572    209.267      0.000     118.649     120.895\n",
      "cigs          -0.5138      0.090     -5.678      0.000      -0.691      -0.336\n",
      "==============================================================================\n",
      "Omnibus:                      118.187   Durbin-Watson:                   1.924\n",
      "Prob(Omnibus):                  0.000   Jarque-Bera (JB):              635.742\n",
      "Skew:                          -0.156   Prob(JB):                    8.92e-139\n",
      "Kurtosis:                       6.301   Cond. No.                         6.72\n",
      "==============================================================================\n",
      "\n",
      "Notes:\n",
      "[1] Standard Errors assume that the covariance matrix of the errors is correctly specified.\n"
     ]
    }
   ],
   "source": [
    "# Regressão por OLS sem faminc\n",
    "formula = 'bwght ~ cigs'\n",
    "y, X = ps.dmatrices(formula, data=bwght, return_type='dataframe')\n",
    "model = sm.OLS(y, X, missing=\"drop\").fit()\n",
    "print(model.summary())"
   ]
  },
  {
   "cell_type": "code",
   "execution_count": 39,
   "metadata": {},
   "outputs": [
    {
     "name": "stdout",
     "output_type": "stream",
     "text": [
      "                            OLS Regression Results                            \n",
      "==============================================================================\n",
      "Dep. Variable:                  bwght   R-squared:                       0.030\n",
      "Model:                            OLS   Adj. R-squared:                  0.028\n",
      "Method:                 Least Squares   F-statistic:                     21.27\n",
      "Date:                Tue, 20 Jun 2023   Prob (F-statistic):           7.94e-10\n",
      "Time:                        17:12:28   Log-Likelihood:                -6130.4\n",
      "No. Observations:                1388   AIC:                         1.227e+04\n",
      "Df Residuals:                    1385   BIC:                         1.228e+04\n",
      "Df Model:                           2                                         \n",
      "Covariance Type:            nonrobust                                         \n",
      "==============================================================================\n",
      "                 coef    std err          t      P>|t|      [0.025      0.975]\n",
      "------------------------------------------------------------------------------\n",
      "Intercept    116.9741      1.049    111.512      0.000     114.916     119.032\n",
      "cigs          -0.4634      0.092     -5.060      0.000      -0.643      -0.284\n",
      "faminc         0.0928      0.029      3.178      0.002       0.036       0.150\n",
      "==============================================================================\n",
      "Omnibus:                      116.751   Durbin-Watson:                   1.922\n",
      "Prob(Omnibus):                  0.000   Jarque-Bera (JB):              619.781\n",
      "Skew:                          -0.154   Prob(JB):                    2.61e-135\n",
      "Kurtosis:                       6.259   Cond. No.                         67.4\n",
      "==============================================================================\n",
      "\n",
      "Notes:\n",
      "[1] Standard Errors assume that the covariance matrix of the errors is correctly specified.\n"
     ]
    }
   ],
   "source": [
    "# Regressão por OLS com faminc\n",
    "formula = 'bwght ~ cigs + faminc'\n",
    "y, X = ps.dmatrices(formula, data=bwght, return_type='dataframe')\n",
    "model = sm.OLS(y, X, missing=\"drop\").fit()\n",
    "print(model.summary())\n",
    "\n",
    "\"\"\"\n",
    "O efeito do consumo de cigarros é ligeiramente menor quando faminc é adicionado \n",
    "à regressão, mas a diferença não é significativa. Isso ocorre devido ao fato de \n",
    "que cigs e faminc não estão muito correlacionados, e o coeficiente em faminc é \n",
    "pequeno. (A variável faminc é medida em milhares, então um aumento de $10.000 \n",
    "na renda de 1988 aumenta o peso de nascimento previsto em apenas 0,93 onças.)\n",
    "\"\"\";"
   ]
  },
  {
   "attachments": {},
   "cell_type": "markdown",
   "metadata": {},
   "source": [
    "#### 2) Considere o seguinte modelo para explicar o comportamento do sono:"
   ]
  },
  {
   "attachments": {},
   "cell_type": "markdown",
   "metadata": {},
   "source": [
    "$$ \\text{sleep} = \\beta_0 + \\beta_1 \\text{totwork} + \\beta_2 \\text{educ} + \\beta_3 \\text{age} + \\beta_4 \\text{age}^2 + \\beta_5 \\text{yngkid} + \\beta_6 \\text{male} + u"
   ]
  },
  {
   "attachments": {},
   "cell_type": "markdown",
   "metadata": {},
   "source": [
    "##### (i) Escreva um modelo que permita que a variância de u difira entre homens e mulheres. A variância não deve depender de outros fatores."
   ]
  },
  {
   "attachments": {},
   "cell_type": "markdown",
   "metadata": {},
   "source": [
    "No modelo pedido, a variância de u deve depender apenas do gênero. Portanto, temos:\n",
    "$$Var(u|totwrk,educ,age,yngkid,male) = Var(u|male) = \\delta_0 + \\delta_1 male$$\n",
    "A variância para mulheres será apenas $\\delta_0$ e para homens $\\delta_0 + \\delta_1$. A diferença entre variâncias será $\\delta_1$."
   ]
  },
  {
   "attachments": {},
   "cell_type": "markdown",
   "metadata": {},
   "source": [
    "##### (ii) Use os dados em SLEEP75 (Wooldridge) para estimar os parâmetros do modelo para heteroscedasticidade. (Você precisa primeiro estimar a equação de sono por Mínimos Quadrados Ordinários (OLS) para obter os resíduos de OLS.) A variância estimada de u é maior para homens ou para mulheres? \n",
    "\n",
    "##### (iii) A variância de u é estatisticamente diferente para homens e mulheres?"
   ]
  },
  {
   "cell_type": "code",
   "execution_count": 40,
   "metadata": {},
   "outputs": [],
   "source": [
    "sleep75 = wooldridge.data('sleep75')"
   ]
  },
  {
   "cell_type": "code",
   "execution_count": 41,
   "metadata": {},
   "outputs": [
    {
     "name": "stdout",
     "output_type": "stream",
     "text": [
      "                            OLS Regression Results                            \n",
      "==============================================================================\n",
      "Dep. Variable:                  sleep   R-squared:                       0.123\n",
      "Model:                            OLS   Adj. R-squared:                  0.115\n",
      "Method:                 Least Squares   F-statistic:                     16.30\n",
      "Date:                Tue, 20 Jun 2023   Prob (F-statistic):           1.28e-17\n",
      "Time:                        17:12:28   Log-Likelihood:                -5259.3\n",
      "No. Observations:                 706   AIC:                         1.053e+04\n",
      "Df Residuals:                     699   BIC:                         1.056e+04\n",
      "Df Model:                           6                                         \n",
      "Covariance Type:            nonrobust                                         \n",
      "==============================================================================\n",
      "                 coef    std err          t      P>|t|      [0.025      0.975]\n",
      "------------------------------------------------------------------------------\n",
      "Intercept   3840.8521    239.414     16.043      0.000    3370.795    4310.909\n",
      "totwrk        -0.1634      0.018     -8.997      0.000      -0.199      -0.128\n",
      "educ         -11.7133      5.872     -1.995      0.046     -23.242      -0.184\n",
      "age           -8.6974     11.329     -0.768      0.443     -30.941      13.546\n",
      "agesq          0.1284      0.135      0.954      0.341      -0.136       0.393\n",
      "yngkid        -0.0228     50.276     -0.000      1.000     -98.734      98.688\n",
      "male          87.7546     34.668      2.531      0.012      19.689     155.820\n",
      "==============================================================================\n",
      "Omnibus:                       67.254   Durbin-Watson:                   1.938\n",
      "Prob(Omnibus):                  0.000   Jarque-Bera (JB):              184.068\n",
      "Skew:                          -0.480   Prob(JB):                     1.07e-40\n",
      "Kurtosis:                       5.310   Cond. No.                     4.32e+04\n",
      "==============================================================================\n",
      "\n",
      "Notes:\n",
      "[1] Standard Errors assume that the covariance matrix of the errors is correctly specified.\n",
      "[2] The condition number is large, 4.32e+04. This might indicate that there are\n",
      "strong multicollinearity or other numerical problems.\n"
     ]
    }
   ],
   "source": [
    "# Estimando sono por OLS\n",
    "formula = 'sleep ~ totwrk + educ + age + agesq + yngkid + male'\n",
    "y, X = ps.dmatrices(formula, data=sleep75, return_type='dataframe')\n",
    "model = sm.OLS(y, X, missing=\"drop\").fit()\n",
    "print(model.summary())"
   ]
  },
  {
   "cell_type": "code",
   "execution_count": 43,
   "metadata": {},
   "outputs": [
    {
     "name": "stdout",
     "output_type": "stream",
     "text": [
      "                            OLS Regression Results                            \n",
      "==============================================================================\n",
      "Dep. Variable:                   u_sq   R-squared:                       0.002\n",
      "Model:                            OLS   Adj. R-squared:                  0.000\n",
      "Method:                 Least Squares   F-statistic:                     1.117\n",
      "Date:                Tue, 20 Jun 2023   Prob (F-statistic):              0.291\n",
      "Time:                        17:12:28   Log-Likelihood:                -10032.\n",
      "No. Observations:                 706   AIC:                         2.007e+04\n",
      "Df Residuals:                     704   BIC:                         2.008e+04\n",
      "Df Model:                           1                                         \n",
      "Covariance Type:            nonrobust                                         \n",
      "==============================================================================\n",
      "                 coef    std err          t      P>|t|      [0.025      0.975]\n",
      "------------------------------------------------------------------------------\n",
      "Intercept   1.894e+05   2.05e+04      9.216      0.000    1.49e+05     2.3e+05\n",
      "male       -2.885e+04   2.73e+04     -1.057      0.291   -8.24e+04    2.47e+04\n",
      "==============================================================================\n",
      "Omnibus:                      982.035   Durbin-Watson:                   2.038\n",
      "Prob(Omnibus):                  0.000   Jarque-Bera (JB):           230588.128\n",
      "Skew:                           7.369   Prob(JB):                         0.00\n",
      "Kurtosis:                      90.301   Cond. No.                         2.80\n",
      "==============================================================================\n",
      "\n",
      "Notes:\n",
      "[1] Standard Errors assume that the covariance matrix of the errors is correctly specified.\n"
     ]
    }
   ],
   "source": [
    "# Regredindo o resíduo ao quadrado em male\n",
    "sleep75[\"u_sq\"] = model.resid ** 2\n",
    "formula = 'u_sq ~ male'\n",
    "y, X = ps.dmatrices(formula, data=sleep75, return_type='dataframe')\n",
    "model = sm.OLS(y, X, missing=\"drop\").fit()\n",
    "print(model.summary())\n",
    "\n",
    "\"\"\"\n",
    "Vemos que o intercepto para \"male\" na regressão com o resíduo quadrado como \n",
    "variável dependente é negativo, o que indicaria que a variância estimada é \n",
    "menor para homens.\n",
    "\n",
    "Porém, o resultado de menor variância no erro para homens não é significante, \n",
    "pois temos uma estatística t de apenas -1.06 (p-valor 0.291: não é significante \n",
    "até em um nível de 20%)\n",
    "\"\"\";"
   ]
  },
  {
   "attachments": {},
   "cell_type": "markdown",
   "metadata": {},
   "source": [
    "#### 3) Os dados em FERTIL2 (wooldridge) incluem, para mulheres em Botsuana durante 1988, informações sobre o número de filhos, anos de educação, idade e variáveis de status religioso e econômico."
   ]
  },
  {
   "cell_type": "code",
   "execution_count": 44,
   "metadata": {},
   "outputs": [
    {
     "data": {
      "text/html": [
       "<div>\n",
       "<style scoped>\n",
       "    .dataframe tbody tr th:only-of-type {\n",
       "        vertical-align: middle;\n",
       "    }\n",
       "\n",
       "    .dataframe tbody tr th {\n",
       "        vertical-align: top;\n",
       "    }\n",
       "\n",
       "    .dataframe thead th {\n",
       "        text-align: right;\n",
       "    }\n",
       "</style>\n",
       "<table border=\"1\" class=\"dataframe\">\n",
       "  <thead>\n",
       "    <tr style=\"text-align: right;\">\n",
       "      <th></th>\n",
       "      <th>mnthborn</th>\n",
       "      <th>yearborn</th>\n",
       "      <th>age</th>\n",
       "      <th>electric</th>\n",
       "      <th>radio</th>\n",
       "      <th>tv</th>\n",
       "      <th>bicycle</th>\n",
       "      <th>educ</th>\n",
       "      <th>ceb</th>\n",
       "      <th>agefbrth</th>\n",
       "      <th>...</th>\n",
       "      <th>heduc</th>\n",
       "      <th>agesq</th>\n",
       "      <th>urban</th>\n",
       "      <th>urb_educ</th>\n",
       "      <th>spirit</th>\n",
       "      <th>protest</th>\n",
       "      <th>catholic</th>\n",
       "      <th>frsthalf</th>\n",
       "      <th>educ0</th>\n",
       "      <th>evermarr</th>\n",
       "    </tr>\n",
       "  </thead>\n",
       "  <tbody>\n",
       "    <tr>\n",
       "      <th>0</th>\n",
       "      <td>5</td>\n",
       "      <td>64</td>\n",
       "      <td>24</td>\n",
       "      <td>1.0</td>\n",
       "      <td>1.0</td>\n",
       "      <td>1.0</td>\n",
       "      <td>1.0</td>\n",
       "      <td>12</td>\n",
       "      <td>0</td>\n",
       "      <td>NaN</td>\n",
       "      <td>...</td>\n",
       "      <td>NaN</td>\n",
       "      <td>576</td>\n",
       "      <td>1</td>\n",
       "      <td>12</td>\n",
       "      <td>0</td>\n",
       "      <td>0</td>\n",
       "      <td>0</td>\n",
       "      <td>1</td>\n",
       "      <td>0</td>\n",
       "      <td>0</td>\n",
       "    </tr>\n",
       "    <tr>\n",
       "      <th>1</th>\n",
       "      <td>1</td>\n",
       "      <td>56</td>\n",
       "      <td>32</td>\n",
       "      <td>1.0</td>\n",
       "      <td>1.0</td>\n",
       "      <td>1.0</td>\n",
       "      <td>1.0</td>\n",
       "      <td>13</td>\n",
       "      <td>3</td>\n",
       "      <td>25.0</td>\n",
       "      <td>...</td>\n",
       "      <td>12.0</td>\n",
       "      <td>1024</td>\n",
       "      <td>1</td>\n",
       "      <td>13</td>\n",
       "      <td>0</td>\n",
       "      <td>0</td>\n",
       "      <td>0</td>\n",
       "      <td>1</td>\n",
       "      <td>0</td>\n",
       "      <td>1</td>\n",
       "    </tr>\n",
       "    <tr>\n",
       "      <th>2</th>\n",
       "      <td>7</td>\n",
       "      <td>58</td>\n",
       "      <td>30</td>\n",
       "      <td>1.0</td>\n",
       "      <td>0.0</td>\n",
       "      <td>0.0</td>\n",
       "      <td>0.0</td>\n",
       "      <td>5</td>\n",
       "      <td>1</td>\n",
       "      <td>27.0</td>\n",
       "      <td>...</td>\n",
       "      <td>7.0</td>\n",
       "      <td>900</td>\n",
       "      <td>1</td>\n",
       "      <td>5</td>\n",
       "      <td>1</td>\n",
       "      <td>0</td>\n",
       "      <td>0</td>\n",
       "      <td>0</td>\n",
       "      <td>0</td>\n",
       "      <td>1</td>\n",
       "    </tr>\n",
       "    <tr>\n",
       "      <th>3</th>\n",
       "      <td>11</td>\n",
       "      <td>45</td>\n",
       "      <td>42</td>\n",
       "      <td>1.0</td>\n",
       "      <td>0.0</td>\n",
       "      <td>1.0</td>\n",
       "      <td>0.0</td>\n",
       "      <td>4</td>\n",
       "      <td>3</td>\n",
       "      <td>17.0</td>\n",
       "      <td>...</td>\n",
       "      <td>11.0</td>\n",
       "      <td>1764</td>\n",
       "      <td>1</td>\n",
       "      <td>4</td>\n",
       "      <td>0</td>\n",
       "      <td>0</td>\n",
       "      <td>0</td>\n",
       "      <td>0</td>\n",
       "      <td>0</td>\n",
       "      <td>1</td>\n",
       "    </tr>\n",
       "    <tr>\n",
       "      <th>4</th>\n",
       "      <td>5</td>\n",
       "      <td>45</td>\n",
       "      <td>43</td>\n",
       "      <td>1.0</td>\n",
       "      <td>1.0</td>\n",
       "      <td>1.0</td>\n",
       "      <td>1.0</td>\n",
       "      <td>11</td>\n",
       "      <td>2</td>\n",
       "      <td>24.0</td>\n",
       "      <td>...</td>\n",
       "      <td>14.0</td>\n",
       "      <td>1849</td>\n",
       "      <td>1</td>\n",
       "      <td>11</td>\n",
       "      <td>0</td>\n",
       "      <td>1</td>\n",
       "      <td>0</td>\n",
       "      <td>1</td>\n",
       "      <td>0</td>\n",
       "      <td>1</td>\n",
       "    </tr>\n",
       "  </tbody>\n",
       "</table>\n",
       "<p>5 rows × 27 columns</p>\n",
       "</div>"
      ],
      "text/plain": [
       "   mnthborn  yearborn  age  electric  radio   tv  bicycle  educ  ceb  \\\n",
       "0         5        64   24       1.0    1.0  1.0      1.0    12    0   \n",
       "1         1        56   32       1.0    1.0  1.0      1.0    13    3   \n",
       "2         7        58   30       1.0    0.0  0.0      0.0     5    1   \n",
       "3        11        45   42       1.0    0.0  1.0      0.0     4    3   \n",
       "4         5        45   43       1.0    1.0  1.0      1.0    11    2   \n",
       "\n",
       "   agefbrth  ...  heduc  agesq  urban  urb_educ  spirit  protest  catholic  \\\n",
       "0       NaN  ...    NaN    576      1        12       0        0         0   \n",
       "1      25.0  ...   12.0   1024      1        13       0        0         0   \n",
       "2      27.0  ...    7.0    900      1         5       1        0         0   \n",
       "3      17.0  ...   11.0   1764      1         4       0        0         0   \n",
       "4      24.0  ...   14.0   1849      1        11       0        1         0   \n",
       "\n",
       "   frsthalf  educ0  evermarr  \n",
       "0         1      0         0  \n",
       "1         1      0         1  \n",
       "2         0      0         1  \n",
       "3         0      0         1  \n",
       "4         1      0         1  \n",
       "\n",
       "[5 rows x 27 columns]"
      ]
     },
     "execution_count": 44,
     "metadata": {},
     "output_type": "execute_result"
    }
   ],
   "source": [
    "fertil2 = wooldridge.data('fertil2')\n",
    "fertil2.head()"
   ]
  },
  {
   "attachments": {},
   "cell_type": "markdown",
   "metadata": {},
   "source": [
    "##### (i) Estime o modelo abaixo por Mínimos Quadrados Ordinários (OLS) e interprete as estimativas. Em particular, mantendo a idade fixa, qual é o efeito estimado de mais um ano de educação na fertilidade? Se 100 mulheres recebessem mais um ano de educação, quantos filhos a menos elas esperariam ter?"
   ]
  },
  {
   "attachments": {},
   "cell_type": "markdown",
   "metadata": {},
   "source": [
    "$$\\text{children} = \\beta_0 + \\beta_1 \\text{educ} + \\beta_2 \\text{age} + \\beta_3 \\text{age}^2 + u$$"
   ]
  },
  {
   "cell_type": "code",
   "execution_count": 45,
   "metadata": {},
   "outputs": [
    {
     "name": "stdout",
     "output_type": "stream",
     "text": [
      "                            OLS Regression Results                            \n",
      "==============================================================================\n",
      "Dep. Variable:               children   R-squared:                       0.569\n",
      "Model:                            OLS   Adj. R-squared:                  0.568\n",
      "Method:                 Least Squares   F-statistic:                     1915.\n",
      "Date:                Tue, 20 Jun 2023   Prob (F-statistic):               0.00\n",
      "Time:                        17:12:28   Log-Likelihood:                -7835.6\n",
      "No. Observations:                4361   AIC:                         1.568e+04\n",
      "Df Residuals:                    4357   BIC:                         1.570e+04\n",
      "Df Model:                           3                                         \n",
      "Covariance Type:            nonrobust                                         \n",
      "==============================================================================\n",
      "                 coef    std err          t      P>|t|      [0.025      0.975]\n",
      "------------------------------------------------------------------------------\n",
      "Intercept     -4.1383      0.241    -17.200      0.000      -4.610      -3.667\n",
      "educ          -0.0906      0.006    -15.298      0.000      -0.102      -0.079\n",
      "age            0.3324      0.017     20.088      0.000       0.300       0.365\n",
      "agesq         -0.0026      0.000     -9.651      0.000      -0.003      -0.002\n",
      "==============================================================================\n",
      "Omnibus:                      203.406   Durbin-Watson:                   1.868\n",
      "Prob(Omnibus):                  0.000   Jarque-Bera (JB):              715.951\n",
      "Skew:                           0.017   Prob(JB):                    3.41e-156\n",
      "Kurtosis:                       4.985   Cond. No.                     1.07e+04\n",
      "==============================================================================\n",
      "\n",
      "Notes:\n",
      "[1] Standard Errors assume that the covariance matrix of the errors is correctly specified.\n",
      "[2] The condition number is large, 1.07e+04. This might indicate that there are\n",
      "strong multicollinearity or other numerical problems.\n"
     ]
    }
   ],
   "source": [
    "formula = 'children ~ educ + age + agesq'\n",
    "y, X = ps.dmatrices(formula, data=fertil2, return_type='dataframe')\n",
    "model = sm.OLS(y, X).fit()\n",
    "print(model.summary())\n",
    "\n",
    "\"\"\"\n",
    "Mantendo a idade fixa, cada ano de educação a mais resultaria em 0.91 filhos a menos. \n",
    "Isso significa que, para um grupo de 100 mulheres de mesma idade que obtiverem mais \n",
    "um ano de educação, esperaríamos 9 filhos a menos.\n",
    "\"\"\";"
   ]
  },
  {
   "attachments": {},
   "cell_type": "markdown",
   "metadata": {},
   "source": [
    "##### (ii) A variável frsthalf é uma variável dummy que é igual a um se a mulher nasceu durante os primeiros seis meses do ano. Assumindo que frsthalf não está correlacionada com o termo de erro da parte (i), mostre que frsthalf é um candidato razoável para IV (variável instrumental) para educ. (Dica: Você precisa fazer uma regressão.)"
   ]
  },
  {
   "cell_type": "code",
   "execution_count": 46,
   "metadata": {},
   "outputs": [
    {
     "name": "stdout",
     "output_type": "stream",
     "text": [
      "                            OLS Regression Results                            \n",
      "==============================================================================\n",
      "Dep. Variable:                   educ   R-squared:                       0.108\n",
      "Model:                            OLS   Adj. R-squared:                  0.107\n",
      "Method:                 Least Squares   F-statistic:                     175.2\n",
      "Date:                Tue, 20 Jun 2023   Prob (F-statistic):          3.01e-107\n",
      "Time:                        17:12:28   Log-Likelihood:                -11905.\n",
      "No. Observations:                4361   AIC:                         2.382e+04\n",
      "Df Residuals:                    4357   BIC:                         2.384e+04\n",
      "Df Model:                           3                                         \n",
      "Covariance Type:            nonrobust                                         \n",
      "==============================================================================\n",
      "                 coef    std err          t      P>|t|      [0.025      0.975]\n",
      "------------------------------------------------------------------------------\n",
      "Intercept      9.6929      0.598     16.207      0.000       8.520      10.865\n",
      "age           -0.1080      0.042     -2.568      0.010      -0.190      -0.026\n",
      "agesq         -0.0005      0.001     -0.730      0.466      -0.002       0.001\n",
      "frsthalf      -0.8523      0.113     -7.554      0.000      -1.073      -0.631\n",
      "==============================================================================\n",
      "Omnibus:                       51.991   Durbin-Watson:                   1.352\n",
      "Prob(Omnibus):                  0.000   Jarque-Bera (JB):               56.555\n",
      "Skew:                           0.233   Prob(JB):                     5.24e-13\n",
      "Kurtosis:                       3.306   Cond. No.                     1.05e+04\n",
      "==============================================================================\n",
      "\n",
      "Notes:\n",
      "[1] Standard Errors assume that the covariance matrix of the errors is correctly specified.\n",
      "[2] The condition number is large, 1.05e+04. This might indicate that there are\n",
      "strong multicollinearity or other numerical problems.\n"
     ]
    }
   ],
   "source": [
    "# Testamos o potencial de IV usando a forma reduzida de educ.\n",
    "# Queremos que o coeficiente de frsthalf seja diferente de zero e significante.\n",
    "\n",
    "formula = 'educ ~ age + agesq + frsthalf'\n",
    "y, X = ps.dmatrices(formula, data=fertil2, return_type='dataframe')\n",
    "model = sm.OLS(y, X, missing=\"drop\").fit()\n",
    "print(model.summary())\n",
    "\n",
    "\"\"\"\n",
    "Com os resultados, vemos que mulheres que nascem na primeira metade do ano têm uma \n",
    "previsão de quase um ano a menos de educação (-0.852), quando a idade é mantida fixa.\n",
    "A estatística t também é alta em módulo (7.5), o que indica correlação forte com educ.\n",
    "Finalmente, uma vez que assumimos que frsthalf não é correlacionada ao erro, ela se demonstra\n",
    "uma boa candidata a IV para educ.\n",
    "\"\"\";"
   ]
  },
  {
   "attachments": {},
   "cell_type": "markdown",
   "metadata": {},
   "source": [
    "##### (iii) Estime o modelo da parte (i) usando frsthalf como um IV para educ. Compare o efeito estimado da educação com a estimativa OLS da parte (i)."
   ]
  },
  {
   "cell_type": "code",
   "execution_count": 47,
   "metadata": {},
   "outputs": [
    {
     "name": "stdout",
     "output_type": "stream",
     "text": [
      "                          IV2SLS Regression Results                           \n",
      "==============================================================================\n",
      "Dep. Variable:               children   R-squared:                       0.550\n",
      "Model:                         IV2SLS   Adj. R-squared:                  0.550\n",
      "Method:                     Two Stage   F-statistic:                     1765.\n",
      "                        Least Squares   Prob (F-statistic):               0.00\n",
      "Date:                Tue, 20 Jun 2023                                         \n",
      "Time:                        17:12:28                                         \n",
      "No. Observations:                4361                                         \n",
      "Df Residuals:                    4357                                         \n",
      "Df Model:                           3                                         \n",
      "==============================================================================\n",
      "                 coef    std err          t      P>|t|      [0.025      0.975]\n",
      "------------------------------------------------------------------------------\n",
      "const         -3.3878      0.548     -6.180      0.000      -4.462      -2.313\n",
      "educ          -0.1715      0.053     -3.225      0.001      -0.276      -0.067\n",
      "age            0.3236      0.018     18.119      0.000       0.289       0.359\n",
      "agesq         -0.0027      0.000     -9.555      0.000      -0.003      -0.002\n",
      "==============================================================================\n",
      "Omnibus:                      207.591   Durbin-Watson:                   1.875\n",
      "Prob(Omnibus):                  0.000   Jarque-Bera (JB):              641.399\n",
      "Skew:                          -0.167   Prob(JB):                    5.27e-140\n",
      "Kurtosis:                       4.849   Cond. No.                     1.07e+04\n",
      "==============================================================================\n"
     ]
    }
   ],
   "source": [
    "formula = 'children ~ educ + age + agesq'\n",
    "y, X = ps.dmatrices(formula, data=fertil2, return_type='dataframe')\n",
    "df_iv = fertil2[['children', 'educ', 'age', 'agesq', 'frsthalf']].copy()\n",
    "\n",
    "# Variável dependente\n",
    "endog = df_iv['children']\n",
    "# Variáveis independentes (tanto endógenas quanto exógenas)\n",
    "exog = df_iv[['educ', 'age', 'agesq']]\n",
    "exog = sm.add_constant(exog)\n",
    "# Instrumentos (tanto instrumentos quando exógenas)\n",
    "instr = df_iv[['frsthalf', 'age', 'agesq']]\n",
    "instr = sm.add_constant(instr)\n",
    "\n",
    "model = IV2SLS(endog=endog, exog=exog, instrument=instr).fit()\n",
    "print(model.summary())\n",
    "\n",
    "\"\"\"\n",
    "O efeito estimado da educação na fertilidade agora é muito maior.\n",
    "Naturalmente, o erro padrão para a variável educ aumentou, tal como\n",
    "seu intervalo de confiança.\n",
    "\"\"\";"
   ]
  },
  {
   "cell_type": "code",
   "execution_count": 48,
   "metadata": {},
   "outputs": [
    {
     "name": "stdout",
     "output_type": "stream",
     "text": [
      "Optimization terminated successfully.\n",
      "         Current function value: 0.000000\n",
      "         Iterations: 11\n",
      "         Function evaluations: 17\n",
      "         Gradient evaluations: 17\n",
      "Optimization terminated successfully.\n",
      "         Current function value: 0.000000\n",
      "         Iterations: 3\n",
      "         Function evaluations: 6\n",
      "         Gradient evaluations: 6\n",
      "Optimization terminated successfully.\n",
      "         Current function value: 0.000000\n",
      "         Iterations: 0\n",
      "         Function evaluations: 1\n",
      "         Gradient evaluations: 1\n",
      "Optimization terminated successfully.\n",
      "         Current function value: 0.000000\n",
      "         Iterations: 0\n",
      "         Function evaluations: 1\n",
      "         Gradient evaluations: 1\n",
      "                                IVGMM Results                                 \n",
      "==============================================================================\n",
      "Dep. Variable:               children   Hansen J:                    4.161e-08\n",
      "Model:                          IVGMM   Prob (Hansen J):                   nan\n",
      "Method:                           GMM                                         \n",
      "Date:                Tue, 20 Jun 2023                                         \n",
      "Time:                        17:12:29                                         \n",
      "No. Observations:                4361                                         \n",
      "==============================================================================\n",
      "                 coef    std err          z      P>|z|      [0.025      0.975]\n",
      "------------------------------------------------------------------------------\n",
      "const         -3.3879      0.545     -6.217      0.000      -4.456      -2.320\n",
      "educ          -0.1715      0.052     -3.275      0.001      -0.274      -0.069\n",
      "age            0.3236      0.020     15.998      0.000       0.284       0.363\n",
      "agesq         -0.0027      0.000     -7.587      0.000      -0.003      -0.002\n",
      "==============================================================================\n"
     ]
    }
   ],
   "source": [
    "# O Método de Momentos Generalizado chega em resultados semelhantes:\n",
    "model = IVGMM(endog=endog, exog=exog, instrument=instr).fit()\n",
    "print(model.summary())"
   ]
  },
  {
   "attachments": {},
   "cell_type": "markdown",
   "metadata": {},
   "source": [
    "##### (iv) Adicione as variáveis binárias electric, tv e bicycle ao modelo e assuma que essas variáveis são exógenas. Estime a equação por OLS e 2SLS e compare os coeficientes estimados de educ. Interprete o coeficiente de tv e explique por que a posse de televisão tem um efeito negativo na fertilidade."
   ]
  },
  {
   "cell_type": "code",
   "execution_count": 49,
   "metadata": {},
   "outputs": [
    {
     "name": "stdout",
     "output_type": "stream",
     "text": [
      "                            OLS Regression Results                            \n",
      "==============================================================================\n",
      "Dep. Variable:               children   R-squared:                       0.576\n",
      "Model:                            OLS   Adj. R-squared:                  0.575\n",
      "Method:                 Least Squares   F-statistic:                     984.9\n",
      "Date:                Tue, 20 Jun 2023   Prob (F-statistic):               0.00\n",
      "Time:                        17:12:29   Log-Likelihood:                -7789.3\n",
      "No. Observations:                4356   AIC:                         1.559e+04\n",
      "Df Residuals:                    4349   BIC:                         1.564e+04\n",
      "Df Model:                           6                                         \n",
      "Covariance Type:            nonrobust                                         \n",
      "==============================================================================\n",
      "                 coef    std err          t      P>|t|      [0.025      0.975]\n",
      "------------------------------------------------------------------------------\n",
      "Intercept     -4.3898      0.240    -18.267      0.000      -4.861      -3.919\n",
      "educ          -0.0767      0.006    -12.075      0.000      -0.089      -0.064\n",
      "age            0.3402      0.016     20.692      0.000       0.308       0.372\n",
      "agesq         -0.0027      0.000    -10.010      0.000      -0.003      -0.002\n",
      "electric      -0.3027      0.076     -3.974      0.000      -0.452      -0.153\n",
      "tv            -0.2531      0.091     -2.768      0.006      -0.432      -0.074\n",
      "bicycle        0.3179      0.049      6.440      0.000       0.221       0.415\n",
      "==============================================================================\n",
      "Omnibus:                      196.639   Durbin-Watson:                   1.891\n",
      "Prob(Omnibus):                  0.000   Jarque-Bera (JB):              675.502\n",
      "Skew:                           0.009   Prob(JB):                    2.07e-147\n",
      "Kurtosis:                       4.929   Cond. No.                     1.08e+04\n",
      "==============================================================================\n",
      "\n",
      "Notes:\n",
      "[1] Standard Errors assume that the covariance matrix of the errors is correctly specified.\n",
      "[2] The condition number is large, 1.08e+04. This might indicate that there are\n",
      "strong multicollinearity or other numerical problems.\n"
     ]
    }
   ],
   "source": [
    "# Estimando children por OLS\n",
    "formula = 'children ~ educ + age + agesq + electric + tv + bicycle'\n",
    "y, X = ps.dmatrices(formula, data=fertil2, return_type='dataframe')\n",
    "model1 = sm.OLS(y, X, missing=\"drop\").fit()\n",
    "print(model1.summary())"
   ]
  },
  {
   "cell_type": "code",
   "execution_count": 50,
   "metadata": {},
   "outputs": [
    {
     "name": "stdout",
     "output_type": "stream",
     "text": [
      "                          IV2SLS Regression Results                           \n",
      "==============================================================================\n",
      "Dep. Variable:               children   R-squared:                       0.558\n",
      "Model:                         IV2SLS   Adj. R-squared:                  0.557\n",
      "Method:                     Two Stage   F-statistic:                     921.7\n",
      "                        Least Squares   Prob (F-statistic):               0.00\n",
      "Date:                Tue, 20 Jun 2023                                         \n",
      "Time:                        17:12:29                                         \n",
      "No. Observations:                4356                                         \n",
      "Df Residuals:                    4349                                         \n",
      "Df Model:                           6                                         \n",
      "==============================================================================\n",
      "                 coef    std err          t      P>|t|      [0.025      0.975]\n",
      "------------------------------------------------------------------------------\n",
      "const         -3.5913      0.645     -5.567      0.000      -4.856      -2.327\n",
      "educ          -0.1640      0.066     -2.503      0.012      -0.292      -0.036\n",
      "age            0.3281      0.019     17.218      0.000       0.291       0.366\n",
      "agesq         -0.0027      0.000     -9.843      0.000      -0.003      -0.002\n",
      "electric      -0.1065      0.166     -0.642      0.521      -0.432       0.219\n",
      "tv            -0.0026      0.209     -0.012      0.990      -0.413       0.408\n",
      "bicycle        0.3321      0.052      6.445      0.000       0.231       0.433\n",
      "==============================================================================\n",
      "Omnibus:                      199.590   Durbin-Watson:                   1.887\n",
      "Prob(Omnibus):                  0.000   Jarque-Bera (JB):              610.705\n",
      "Skew:                          -0.154   Prob(JB):                    2.44e-133\n",
      "Kurtosis:                       4.808   Cond. No.                     1.08e+04\n",
      "==============================================================================\n"
     ]
    }
   ],
   "source": [
    "formula = 'children ~ educ + age + agesq + electric + tv + bicycle'\n",
    "y, X = ps.dmatrices(formula, data=fertil2, return_type='dataframe')\n",
    "df_iv = fertil2[['children', 'educ', 'age', 'agesq', 'frsthalf', 'electric', 'tv', 'bicycle']].copy()\n",
    "df_iv = df_iv.dropna()\n",
    "\n",
    "# Variável dependente\n",
    "endog = df_iv['children']\n",
    "# Variáveis independentes (tanto endógenas quanto exógenas)\n",
    "exog = df_iv[['educ', 'age', 'agesq', 'electric', 'tv', 'bicycle']]\n",
    "exog = sm.add_constant(exog)\n",
    "# Instrumentos (tanto instrumentos quando exógenas)\n",
    "instr = df_iv[['frsthalf', 'age', 'agesq','electric', 'tv', 'bicycle']]\n",
    "instr = sm.add_constant(instr)\n",
    "\n",
    "model2 = IV2SLS(endog=endog, exog=exog, instrument=instr).fit()\n",
    "print(model2.summary())"
   ]
  },
  {
   "cell_type": "code",
   "execution_count": 51,
   "metadata": {},
   "outputs": [
    {
     "name": "stdout",
     "output_type": "stream",
     "text": [
      "OLS - 1\n",
      "==============================================================================\n",
      "                 coef    std err          z      P>|z|      [0.025      0.975]\n",
      "------------------------------------------------------------------------------\n",
      "const         -3.3879      0.545     -6.217      0.000      -4.456      -2.320\n",
      "educ          -0.1715      0.052     -3.275      0.001      -0.274      -0.069\n",
      "age            0.3236      0.020     15.998      0.000       0.284       0.363\n",
      "agesq         -0.0027      0.000     -7.587      0.000      -0.003      -0.002\n",
      "==============================================================================\n",
      "OLS - 2\n",
      "==============================================================================\n",
      "                 coef    std err          t      P>|t|      [0.025      0.975]\n",
      "------------------------------------------------------------------------------\n",
      "Intercept     -4.3898      0.240    -18.267      0.000      -4.861      -3.919\n",
      "educ          -0.0767      0.006    -12.075      0.000      -0.089      -0.064\n",
      "age            0.3402      0.016     20.692      0.000       0.308       0.372\n",
      "agesq         -0.0027      0.000    -10.010      0.000      -0.003      -0.002\n",
      "electric      -0.3027      0.076     -3.974      0.000      -0.452      -0.153\n",
      "tv            -0.2531      0.091     -2.768      0.006      -0.432      -0.074\n",
      "bicycle        0.3179      0.049      6.440      0.000       0.221       0.415\n",
      "==============================================================================\n",
      "IV2SLS\n",
      "==============================================================================\n",
      "                 coef    std err          t      P>|t|      [0.025      0.975]\n",
      "------------------------------------------------------------------------------\n",
      "const         -3.5913      0.645     -5.567      0.000      -4.856      -2.327\n",
      "educ          -0.1640      0.066     -2.503      0.012      -0.292      -0.036\n",
      "age            0.3281      0.019     17.218      0.000       0.291       0.366\n",
      "agesq         -0.0027      0.000     -9.843      0.000      -0.003      -0.002\n",
      "electric      -0.1065      0.166     -0.642      0.521      -0.432       0.219\n",
      "tv            -0.0026      0.209     -0.012      0.990      -0.413       0.408\n",
      "bicycle        0.3321      0.052      6.445      0.000       0.231       0.433\n",
      "==============================================================================\n"
     ]
    }
   ],
   "source": [
    "print('OLS - 1')\n",
    "print(model.summary().tables[1])\n",
    "print('OLS - 2')\n",
    "print(model1.summary().tables[1])\n",
    "print('IV2SLS')\n",
    "print(model2.summary().tables[1])\n",
    "\n",
    "\"\"\"\n",
    "Adicionar eletricidade, televisão e bicicleta ao modelo reduz o efeito estimado \n",
    "da educação em ambos os casos, mas não muito. Na equação estimada pelo OLS, \n",
    "o coeficiente da televisão implica que, com outros fatores fixos, uma família com\n",
    "televisão terá -0.25 filhos a menos que uma sem televisão. \n",
    "\n",
    "A posse de televisão pode ser um indicador de diferentes coisas, incluindo renda. \n",
    "Uma interpretação causal é que a TV fornece uma forma alternativa de recreação. \n",
    "Curiosamente, o efeito da posse de TV é estatisticamente insignificante na equação \n",
    "estimada por IV (mesmo que não estejamos usando um IV para a TV). \n",
    "\n",
    "O coeficiente da eletricidade também é muito reduzido em magnitude na estimativa por IV. \n",
    "As quedas desses coeficientes sugerem que um modelo linear pode não ser a \n",
    "melhor forma funcional, o que não seria surpreendente, já que o número de filhos \n",
    "é uma variável de contagem.\n",
    "\"\"\";"
   ]
  }
 ],
 "metadata": {
  "kernelspec": {
   "display_name": ".venv",
   "language": "python",
   "name": "python3"
  },
  "language_info": {
   "codemirror_mode": {
    "name": "ipython",
    "version": 3
   },
   "file_extension": ".py",
   "mimetype": "text/x-python",
   "name": "python",
   "nbconvert_exporter": "python",
   "pygments_lexer": "ipython3",
   "version": "3.11.3"
  },
  "orig_nbformat": 4
 },
 "nbformat": 4,
 "nbformat_minor": 2
}
