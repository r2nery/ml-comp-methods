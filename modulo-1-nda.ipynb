{
 "cells": [
  {
   "cell_type": "code",
   "execution_count": 11,
   "metadata": {},
   "outputs": [],
   "source": [
    "import timeit\n",
    "import math\n",
    "import matplotlib.pyplot as plt\n",
    "import numpy as np\n",
    "import random"
   ]
  },
  {
   "attachments": {},
   "cell_type": "markdown",
   "metadata": {},
   "source": [
    "# Programação Estruturada"
   ]
  },
  {
   "attachments": {},
   "cell_type": "markdown",
   "metadata": {},
   "source": [
    "### 1) Faça um programa iterativo e outro recursivo para fatorar um número inteiro."
   ]
  },
  {
   "cell_type": "code",
   "execution_count": 12,
   "metadata": {},
   "outputs": [],
   "source": [
    "def fatorar_it(n):\n",
    "    # Inicializamos a lista de fatores primos e o divisor\n",
    "    fatores = []\n",
    "    div = 2\n",
    "\n",
    "    # Enquanto o divisor for menor ou igual ao número, o loop continua\n",
    "    # O loop verifica se o número é divisível pelo divisor atual (começando com 2)\n",
    "    while div <= n:\n",
    "        # Se for, o divisor é adicionado à lista de fatores primos e o número é dividido por ele\n",
    "        if n % div == 0:\n",
    "            fatores.append(div)\n",
    "            n = n / div\n",
    "        # Se não for, o divisor é incrementado em 1 e o loop continua\n",
    "        else:\n",
    "            div += 1\n",
    "    return fatores\n",
    "\n",
    "\n",
    "def fatorar_rec(n, div=2):\n",
    "    # Caso base\n",
    "    if n == 1:\n",
    "        return []\n",
    "    # Caso recursivo\n",
    "    # Se o número for divisível pelo divisor, \n",
    "    # retorna uma lista com o divisor + o resultado da função chamada com o número dividido pelo divisor\n",
    "    elif n % div == 0:\n",
    "        return [div] + fatorar_rec(n / div, div)\n",
    "    # Se o número não for divisível pelo divisor,\n",
    "    # retorna a função chamada com o número e o divisor incrementado em 1\n",
    "    else:\n",
    "        return fatorar_rec(n, div + 1)"
   ]
  },
  {
   "cell_type": "code",
   "execution_count": 13,
   "metadata": {},
   "outputs": [
    {
     "name": "stdout",
     "output_type": "stream",
     "text": [
      "Decomposição de 441: [3, 3, 7, 7]\n",
      "Decomposição de 441: [3, 3, 7, 7]\n"
     ]
    }
   ],
   "source": [
    "'''\n",
    "Fatorando o número 441, temos:\n",
    "\n",
    "441 | 3\n",
    "147 | 3\n",
    "49  | 7\n",
    "7   | 7\n",
    "1   | 1\n",
    "'''\n",
    "\n",
    "fatores_it = fatorar_it(441)\n",
    "fatores_rec = fatorar_rec(441)\n",
    "\n",
    "print(f\"Decomposição de 441: {fatores_it}\")\n",
    "print(f\"Decomposição de 441: {fatores_rec}\")"
   ]
  },
  {
   "attachments": {},
   "cell_type": "markdown",
   "metadata": {},
   "source": [
    "### 2) Calcule a potencia de um número usando recursão. Pense numa solução eficiente."
   ]
  },
  {
   "cell_type": "code",
   "execution_count": 14,
   "metadata": {},
   "outputs": [],
   "source": [
    "\"\"\"\n",
    "Essa versão é ineficiente porque usa um loop que multiplica base por si mesma expoente vezes para calcular a potência. \n",
    "Ou seja, para calcular base elevado a n, essa função faz n multiplicações. Isso resulta em uma complexidade assintótica de O(n).\n",
    "\"\"\"\n",
    "\n",
    "\n",
    "def potencia_iterativa_ineficiente(base, expoente):\n",
    "    resultado = 1\n",
    "    for _ in range(expoente):\n",
    "        resultado *= base\n",
    "    return resultado\n",
    "\n",
    "\n",
    "\"\"\"\n",
    "Essa abordagem é recursiva, mas ainda ineficiente.\n",
    "Se o expoente for 0, a função retorna 1. Esse é o caso base.\n",
    "Se o expoente for maior que 0, a função retorna base multiplicada pelo resultado da função chamada com base e expoente - 1.\n",
    "Isso significa que ainda são feitas n multiplicações para calcular base elevado a n. Isso resulta em uma complexidade assintótica de O(n).\n",
    "\"\"\"\n",
    "\n",
    "\n",
    "def potencia_recursiva_ineficiente(base, expoente):\n",
    "    if expoente == 0:  # caso base: qualquer número elevado a 0 é 1\n",
    "        return 1\n",
    "    else:\n",
    "        return base * potencia_recursiva_ineficiente(base, expoente - 1)\n",
    "\n",
    "\n",
    "\"\"\"\n",
    "Essa abordagem é recursiva e eficiente.\n",
    "Se o expoente for 0, a função retorna 1. Esse é o caso base.\n",
    "Se o expoente for par, a função retorna o resultado da função chamada com base e expoente divididos por 2, elevado ao quadrado.\n",
    "Se o expoente for ímpar, a função retorna base multiplicada pelo resultado da função chamada com base e expoente - 1 divididos por 2, elevado ao quadrado.\n",
    "Essa abordagem é eficiente pois reduz o número de chamadas recursivas pela metade a cada vez que o expoente é dividido por 2, resultando em uma complexidade assintótica de O(log n).\n",
    "Chamamos isso de divisão e conquista: dividimos o problema em subproblemas menores e resolvemos cada subproblema recursivamente.\n",
    "\"\"\"\n",
    "\n",
    "\n",
    "def potencia_recursiva(base, expoente):\n",
    "    if expoente == 0:  # caso base: qualquer número elevado a 0 é 1\n",
    "        return 1\n",
    "\n",
    "    elif expoente % 2 == 0:  # caso expoente é par\n",
    "        temp = potencia_recursiva(base, expoente // 2)\n",
    "        return temp * temp\n",
    "\n",
    "    else:  # caso expoente é ímpar\n",
    "        temp = potencia_recursiva(base, (expoente - 1) // 2)\n",
    "        return base * temp * temp"
   ]
  },
  {
   "cell_type": "code",
   "execution_count": 15,
   "metadata": {},
   "outputs": [
    {
     "name": "stdout",
     "output_type": "stream",
     "text": [
      "16\n",
      "16\n",
      "16\n",
      "\n",
      "Tempo de execução:\n",
      "0.24277095799334347 segundos\n",
      "\n",
      "0.2778215839935001 segundos\n",
      "\n",
      "0.011994750006124377 segundos\n",
      "\n"
     ]
    }
   ],
   "source": [
    "print(potencia_iterativa_ineficiente(2,4))\n",
    "print(potencia_recursiva_ineficiente(2,4))\n",
    "print(potencia_recursiva(2,4))\n",
    "\n",
    "print(\"\\nTempo de execução:\")\n",
    "print(timeit.timeit(lambda: potencia_iterativa_ineficiente(99, 1000), number=1000), \"segundos\\n\")\n",
    "print(timeit.timeit(lambda: potencia_recursiva_ineficiente(99, 1000), number=1000), \"segundos\\n\")\n",
    "print(timeit.timeit(lambda: potencia_recursiva(99, 1000), number=1000), \"segundos\\n\")\n"
   ]
  },
  {
   "attachments": {},
   "cell_type": "markdown",
   "metadata": {},
   "source": [
    "### 3) Project Euler 2: Ache a soma de todos os elementos da série de Fibonacci pares que não excedem 4 milhões. \n",
    "Existe uma solução mais interessante que essa que você possivelmente apresentou?"
   ]
  },
  {
   "cell_type": "code",
   "execution_count": 16,
   "metadata": {},
   "outputs": [],
   "source": [
    "# Essa é uma pergunta que tem resposta correta, mas pode ser solucionada de várias formas.\n",
    "# O resultado é 4613732.\n",
    "\n",
    "def fib1():\n",
    "    # x e y são os dois primeiros termos da sequência de Fibonacci\n",
    "    x = 0\n",
    "    y = 1\n",
    "    prox_termo = 0\n",
    "    soma = 0\n",
    "    # Enquanto o próximo termo for menor que 4 milhões, o loop continua\n",
    "    while prox_termo < 4000000:\n",
    "        # O próximo termo é a soma dos dois termos anteriores\n",
    "        prox_termo = x + y\n",
    "        # O primeiro termo passa a ser o segundo termo\n",
    "        x = y\n",
    "        y = prox_termo\n",
    "        # Se o próximo termo for par, soma ele à soma dos termos pares\n",
    "        if prox_termo % 2 == 0:\n",
    "            soma += prox_termo\n",
    "    return soma\n",
    "\n",
    "def fib2():\n",
    "    # O primeiro par é 2 e o segundo par é 8\n",
    "    # Cada terceiro elemento na sequência de Fibonacci é par\n",
    "    primeiro_par = 2\n",
    "    segundo_par = 8\n",
    "    soma_pares = primeiro_par + segundo_par\n",
    "    # Enquanto o próximo par for menor que 4 milhões, o loop continua\n",
    "    while soma_pares < 4000000:\n",
    "        # Para o número par n, a equação abaixo é válida:\n",
    "        fib_pares = (4 * segundo_par) + primeiro_par\n",
    "        soma_pares += fib_pares\n",
    "        primeiro_par, segundo_par = segundo_par, fib_pares\n",
    "    return soma_pares"
   ]
  },
  {
   "cell_type": "code",
   "execution_count": 17,
   "metadata": {},
   "outputs": [
    {
     "name": "stdout",
     "output_type": "stream",
     "text": [
      "4613732\n",
      "4613732\n",
      "\n",
      "Tempo de execução:\n",
      "0.014468207984464243 segundos\n",
      "\n",
      "0.004433708003489301 segundos\n",
      "\n"
     ]
    }
   ],
   "source": [
    "print(fib1())\n",
    "print(fib2())\n",
    "\n",
    "print(\"\\nTempo de execução:\")\n",
    "print(timeit.timeit(lambda: fib1(), number=10000), \"segundos\\n\")\n",
    "print(timeit.timeit(lambda: fib2(), number=10000), \"segundos\\n\")\n"
   ]
  },
  {
   "attachments": {},
   "cell_type": "markdown",
   "metadata": {},
   "source": [
    "### 4) Project Euler 3: Os fatores primos de 13195 são 5, 7, 13 e 29. Qual o maior primo fator de 600851475143? \n",
    "Existe uma solução mais interessante que essa que você possivelmente apresentou?"
   ]
  },
  {
   "cell_type": "code",
   "execution_count": 18,
   "metadata": {},
   "outputs": [],
   "source": [
    "def sol1():\n",
    "    # Função que verifica se um número é primo\n",
    "    def for_primo(num):\n",
    "        # Se o número for menor que 2, ele não é primo\n",
    "        if num < 2:\n",
    "            return False\n",
    "        # Se o número for divisível por qualquer número entre 2 e a raiz quadrada do número, ele não é primo\n",
    "        for i in range(2, int(num**0.5) + 1):\n",
    "            if num % i == 0:\n",
    "                return False\n",
    "        return True\n",
    "\n",
    "    n = 600851475143\n",
    "    fator_primo_max = 1\n",
    "\n",
    "    # Iteramos de 2 até a raiz quadrada de n + 1\n",
    "    for i in range(2, int(n**0.5) + 1):\n",
    "        # Se n for divisível por i, verificamos se i é primo e se i é maior que fator_primo_max\n",
    "        if n % i == 0:\n",
    "            if for_primo(i) and i > fator_primo_max:\n",
    "                # se as duas condições forem verdadeiras, atualizamos fator_primo_max\n",
    "                fator_primo_max = i\n",
    "\n",
    "    return fator_primo_max\n",
    "\n",
    "\n",
    "\"\"\" \n",
    "Esta é uma solução alternativa, muito mais eficiente.\n",
    "A solução começa inicializando o número dado n e um fator i=2. O loop externo itera enquanto i*i<n, o que significa que só precisamos verificar fatores até a raiz quadrada de n.\n",
    "Dentro do loop externo, temos outro loop que divide n por i enquanto é divisível sem resto. Isso remove todos os fatores de i de n. \n",
    "Quando este loop interno termina, sabemos que ou n não tem mais fatores de i restantes ou n em si se tornou um número menor porque o dividimos por i.\n",
    "Em seguida, incrementamos i em 1 e continuamos com o loop externo para verificar o próximo fator.\n",
    "Finalmente, a função retorna n, que será o maior fator primo de n original quando o loop externo terminar. \n",
    "Isso ocorre porque quaisquer fatores menores que i já foram divididos de n e quaisquer fatores maiores que i já foram encontrados e divididos em uma iteração anterior do loop externo.\n",
    "\n",
    "Esta abordagem é mais rápida que a solução anterior porque elimina a verificação de primalidade para cada fator. \n",
    "Em vez disso, ele divide diretamente todos os fatores até atingir o maior fator primo. Isso resulta em uma aceleração significativa para valores de entrada maiores.\n",
    "\"\"\"\n",
    "\n",
    "\n",
    "def sol2():\n",
    "    n = 600851475143\n",
    "    i = 2\n",
    "    while i * i < n:\n",
    "        while n % i == 0:\n",
    "            n = n // i\n",
    "        i = i + 1\n",
    "    return n"
   ]
  },
  {
   "cell_type": "code",
   "execution_count": 19,
   "metadata": {},
   "outputs": [
    {
     "name": "stdout",
     "output_type": "stream",
     "text": [
      "6857\n",
      "6857\n",
      "\n",
      "Tempo de execução:\n",
      "2.2655071249755565 segundos\n",
      "\n",
      "0.0072565410227980465 segundos\n",
      "\n"
     ]
    }
   ],
   "source": [
    "print(sol1())\n",
    "print(sol2())\n",
    "\n",
    "print(\"\\nTempo de execução:\")\n",
    "print(timeit.timeit(lambda: sol1(), number=100), \"segundos\\n\")\n",
    "print(timeit.timeit(lambda: sol2(), number=100), \"segundos\\n\")"
   ]
  },
  {
   "attachments": {},
   "cell_type": "markdown",
   "metadata": {},
   "source": [
    "# Coleções de Dados"
   ]
  },
  {
   "attachments": {},
   "cell_type": "markdown",
   "metadata": {},
   "source": [
    "### 1) Implemente o algoritmo conhecido como Bubble sort na forma iterativa e recursiva."
   ]
  },
  {
   "cell_type": "code",
   "execution_count": 20,
   "metadata": {},
   "outputs": [],
   "source": [
    "# Iterative Bubble Sort\n",
    "def bubble_sort_iterativo(arr):\n",
    "    n = len(arr)\n",
    "\n",
    "    # Iterando por todos os elementos do array\n",
    "    for i in range(n - 1):\n",
    "        # Os últimos i elementos já estão no lugar\n",
    "        for j in range(n - i - 1):\n",
    "            # Trocar se o elemento encontrado for maior que o próximo elemento\n",
    "            if arr[j] > arr[j + 1]:\n",
    "                arr[j], arr[j + 1] = arr[j + 1], arr[j]\n",
    "\n",
    "    return arr\n",
    "\n",
    "\n",
    "def bubble_sort_recursivo(arr, n=None):\n",
    "    # Define o valor padrão de n para a chamada inicial\n",
    "    if n is None:\n",
    "        n = len(arr)\n",
    "\n",
    "    # Caso base: Se a lista tiver tamanho 1, ela já está ordenada\n",
    "    if n == 1:\n",
    "        return arr\n",
    "\n",
    "    # Iteramos por todos os elementos da lista, exceto o último\n",
    "    for i in range(n - 1):\n",
    "        # Verificamos se o elemento atual é maior do que o próximo elemento\n",
    "        if arr[i] > arr[i + 1]:\n",
    "            arr[i], arr[i + 1] = arr[i + 1], arr[i]\n",
    "\n",
    "    # Chamada recursiva para os elementos restantes da lista\n",
    "    return bubble_sort_recursivo(arr, n - 1)\n"
   ]
  },
  {
   "cell_type": "code",
   "execution_count": 21,
   "metadata": {},
   "outputs": [
    {
     "name": "stdout",
     "output_type": "stream",
     "text": [
      "[459, 675, 79, 281, 652, 427, 240, 646, 348, 820, 979, 291, 742, 759, 358, 802, 256, 424, 713, 159, 925, 481, 793, 189, 771, 502, 504, 751, 248, 1000, 971, 936, 555, 539, 717, 581, 685, 817, 324, 1000, 806, 644, 0, 906, 357, 568, 792, 247, 524, 648, 36, 337, 881, 132, 377, 129, 800, 309, 540, 56, 83, 540, 665, 1000, 787, 53, 327, 679, 597, 21, 503, 726, 270, 980, 833, 553, 861, 532, 45, 59, 625, 80, 561, 977, 942, 405, 492, 105, 903, 901, 758, 121, 915, 251, 747, 575, 198, 675, 629, 609, 435, 238, 788, 813, 399, 745, 777, 779, 953, 297, 571, 14, 701, 316, 614, 541, 747, 10, 950, 74, 599, 224, 284, 991, 486, 748, 592, 766, 108, 381, 645, 133, 738, 900, 451, 41, 961, 802, 895, 109, 286, 543, 697, 362, 162, 175, 927, 836, 992, 948, 175, 675, 417, 12, 775, 678, 28, 922, 653, 602, 61, 335, 66, 242, 732, 281, 253, 372, 552, 375, 7, 525, 287, 160, 928, 303, 739, 90, 429, 940, 442, 456, 500, 871, 147, 841, 37, 736, 225, 202, 532, 240, 981, 479, 375, 112, 475, 545, 934, 860, 932, 612, 124, 955, 168, 855, 856, 277, 388, 692, 134, 149, 890, 657, 791, 161, 384, 693, 588, 703, 128, 338, 14, 342, 801, 965, 400, 829, 957, 176, 599, 445, 580, 175, 555, 613, 337, 325, 77, 244, 173, 697, 498, 357, 639, 87, 753, 317, 57, 932, 234, 303, 211, 675, 426, 724, 216, 953, 853, 971, 833, 961, 608, 174, 419, 119, 909, 835, 680, 819, 566, 354, 688, 435, 11, 907, 223, 734, 952, 532, 586, 71, 599, 483, 500, 489, 745, 246, 942, 867, 595, 638, 710, 270, 592, 933, 598, 319, 782, 711, 10, 861, 259, 580, 604, 701, 532, 674, 598, 242, 572, 985, 433, 21, 502, 639, 500, 410, 588, 998, 702, 128, 901, 218, 710, 953, 94, 431, 87, 947, 45, 843, 690, 787, 773, 753, 6, 670, 884, 768, 441, 916, 534, 56, 982, 487, 284, 346, 508, 124, 359, 374, 657, 253, 111, 862, 683, 418, 326, 514, 926, 359, 620, 152, 331, 698, 263, 179, 457, 508, 738, 645, 390, 372, 494, 254, 99, 861, 146, 239, 65, 986, 469, 584, 112, 796, 604, 545, 857, 13, 610, 697, 360, 845, 799, 437, 245, 259, 251, 664, 10, 916, 869, 710, 362, 399, 102, 449, 688, 214, 990, 947, 35, 859, 434, 609, 203, 530, 384, 506, 890, 865, 141, 786, 336, 379, 194, 445, 475, 546, 310, 630, 894, 409, 384, 328, 780, 671, 580, 419, 246, 440, 54, 981, 412, 63, 774, 555, 276, 76, 586, 948, 307, 846, 193, 110, 423, 81, 676, 391, 720, 708, 508, 229, 561, 90, 603, 809, 856, 131, 978, 559, 672, 699, 392, 687, 384, 157, 540, 209, 167, 129, 475, 827, 342, 34, 665, 8, 421, 69, 848, 727, 798, 646, 985, 175, 612, 863, 823, 169, 165, 847, 269, 59, 542, 726, 733, 53, 696, 237, 995, 224, 652, 186, 690, 651, 113, 725, 447, 785, 225, 926, 929, 926, 776, 360, 305, 994, 824, 30, 614, 218, 292, 414, 123, 607, 511, 481, 311, 594, 230, 853, 934, 861, 568, 230, 152, 284, 194, 584, 658, 707, 433, 911, 555, 174, 621, 244, 969, 939, 790, 659, 559, 984, 401, 960, 366, 217, 966, 58, 766, 854, 386, 597, 606, 693, 510, 504, 393, 861, 934, 72, 33, 855, 158, 173, 939, 142, 212, 129, 338, 678, 438, 496, 133, 606, 601, 600, 672, 652, 146, 9, 393, 426, 426, 442, 329, 660, 438, 707, 684, 181, 371, 607, 393, 116, 639, 537, 1, 129, 898, 428, 16, 557, 120, 634, 262, 307, 279, 760, 879, 36, 45, 821, 35, 782, 745, 523, 73, 846, 386, 279, 194, 220, 262, 96, 730, 734, 683, 132, 942, 212, 241, 395, 693, 631, 696, 973, 114, 488, 366, 999, 460, 706, 688, 187, 276, 936, 528, 852, 269, 967, 102, 980, 106, 306, 811, 677, 265, 969, 936, 241, 190, 85, 998, 361, 219, 78, 915, 701, 153, 650, 710, 361, 631, 216, 123, 120, 218, 217, 511, 302, 894, 642, 356, 786, 660, 749, 60, 961, 801, 168, 501, 723, 379, 456, 368, 129, 993, 77, 999, 431, 141, 945, 795, 723, 421, 194, 891, 267, 595, 503, 160, 62, 728, 302, 375, 508, 227, 215, 939, 861, 935, 496, 515, 245, 569, 407, 801, 991, 329, 877, 498, 845, 47, 330, 275, 310, 548, 563, 990, 758, 4, 913, 338, 734, 286, 35, 741, 41, 593, 320, 145, 5, 725, 344, 329, 755, 997, 372, 925, 488, 127, 808, 94, 630, 413, 242, 523, 984, 625, 212, 23, 617, 580, 272, 816, 50, 494, 662, 204, 104, 293, 494, 203, 148, 517, 873, 454, 887, 587, 152, 46, 506, 685, 930, 358, 659, 39, 281, 316, 810, 999, 903, 645, 338, 100, 439, 871, 0, 199, 26, 59, 143, 39, 583, 414, 64, 896, 999, 31, 92, 656, 891, 356, 46, 556, 681, 434, 329, 54, 424, 663, 664, 469, 971, 738, 751, 677, 984, 394, 742, 667, 74, 225, 462, 650, 427, 533, 970, 679, 694, 156, 364, 289, 221, 754, 695, 188, 131, 948, 51, 7, 116, 952, 836, 504, 88, 280, 135, 881, 18, 380, 520, 558, 779, 761, 306, 301, 566, 690, 530, 773, 125, 572, 416, 525, 835, 428, 285, 560, 87, 820, 792, 859, 183, 687, 840, 794, 391, 196, 573, 725, 138, 636, 349, 295, 885, 26, 976, 98, 262, 988, 712, 206, 650, 778, 161, 915, 196, 622, 432, 924, 940, 615, 131, 657, 721, 954, 707, 542, 569, 389, 816, 965, 778, 528, 843, 274, 830, 603, 547, 292, 816, 521, 455, 501, 115, 355, 70, 980, 154, 467, 372, 525, 262, 870, 161, 125, 229, 127, 464, 743, 749, 660, 57, 836, 849, 418, 300, 627, 888, 131, 711, 631, 221, 929, 541, 171, 984]\n",
      "[0, 0, 1, 4, 5, 6, 7, 7, 8, 9, 10, 10, 10, 11, 12, 13, 14, 14, 16, 18, 21, 21, 23, 26, 26, 28, 30, 31, 33, 34, 35, 35, 35, 36, 36, 37, 39, 39, 41, 41, 45, 45, 45, 46, 46, 47, 50, 51, 53, 53, 54, 54, 56, 56, 57, 57, 58, 59, 59, 59, 60, 61, 62, 63, 64, 65, 66, 69, 70, 71, 72, 73, 74, 74, 76, 77, 77, 78, 79, 80, 81, 83, 85, 87, 87, 87, 88, 90, 90, 92, 94, 94, 96, 98, 99, 100, 102, 102, 104, 105, 106, 108, 109, 110, 111, 112, 112, 113, 114, 115, 116, 116, 119, 120, 120, 121, 123, 123, 124, 124, 125, 125, 127, 127, 128, 128, 129, 129, 129, 129, 129, 131, 131, 131, 131, 132, 132, 133, 133, 134, 135, 138, 141, 141, 142, 143, 145, 146, 146, 147, 148, 149, 152, 152, 152, 153, 154, 156, 157, 158, 159, 160, 160, 161, 161, 161, 162, 165, 167, 168, 168, 169, 171, 173, 173, 174, 174, 175, 175, 175, 175, 176, 179, 181, 183, 186, 187, 188, 189, 190, 193, 194, 194, 194, 194, 196, 196, 198, 199, 202, 203, 203, 204, 206, 209, 211, 212, 212, 212, 214, 215, 216, 216, 217, 217, 218, 218, 218, 219, 220, 221, 221, 223, 224, 224, 225, 225, 225, 227, 229, 229, 230, 230, 234, 237, 238, 239, 240, 240, 241, 241, 242, 242, 242, 244, 244, 245, 245, 246, 246, 247, 248, 251, 251, 253, 253, 254, 256, 259, 259, 262, 262, 262, 262, 263, 265, 267, 269, 269, 270, 270, 272, 274, 275, 276, 276, 277, 279, 279, 280, 281, 281, 281, 284, 284, 284, 285, 286, 286, 287, 289, 291, 292, 292, 293, 295, 297, 300, 301, 302, 302, 303, 303, 305, 306, 306, 307, 307, 309, 310, 310, 311, 316, 316, 317, 319, 320, 324, 325, 326, 327, 328, 329, 329, 329, 329, 330, 331, 335, 336, 337, 337, 338, 338, 338, 338, 342, 342, 344, 346, 348, 349, 354, 355, 356, 356, 357, 357, 358, 358, 359, 359, 360, 360, 361, 361, 362, 362, 364, 366, 366, 368, 371, 372, 372, 372, 372, 374, 375, 375, 375, 377, 379, 379, 380, 381, 384, 384, 384, 384, 386, 386, 388, 389, 390, 391, 391, 392, 393, 393, 393, 394, 395, 399, 399, 400, 401, 405, 407, 409, 410, 412, 413, 414, 414, 416, 417, 418, 418, 419, 419, 421, 421, 423, 424, 424, 426, 426, 426, 427, 427, 428, 428, 429, 431, 431, 432, 433, 433, 434, 434, 435, 435, 437, 438, 438, 439, 440, 441, 442, 442, 445, 445, 447, 449, 451, 454, 455, 456, 456, 457, 459, 460, 462, 464, 467, 469, 469, 475, 475, 475, 479, 481, 481, 483, 486, 487, 488, 488, 489, 492, 494, 494, 494, 496, 496, 498, 498, 500, 500, 500, 501, 501, 502, 502, 503, 503, 504, 504, 504, 506, 506, 508, 508, 508, 508, 510, 511, 511, 514, 515, 517, 520, 521, 523, 523, 524, 525, 525, 525, 528, 528, 530, 530, 532, 532, 532, 532, 533, 534, 537, 539, 540, 540, 540, 541, 541, 542, 542, 543, 545, 545, 546, 547, 548, 552, 553, 555, 555, 555, 555, 556, 557, 558, 559, 559, 560, 561, 561, 563, 566, 566, 568, 568, 569, 569, 571, 572, 572, 573, 575, 580, 580, 580, 580, 581, 583, 584, 584, 586, 586, 587, 588, 588, 592, 592, 593, 594, 595, 595, 597, 597, 598, 598, 599, 599, 599, 600, 601, 602, 603, 603, 604, 604, 606, 606, 607, 607, 608, 609, 609, 610, 612, 612, 613, 614, 614, 615, 617, 620, 621, 622, 625, 625, 627, 629, 630, 630, 631, 631, 631, 634, 636, 638, 639, 639, 639, 642, 644, 645, 645, 645, 646, 646, 648, 650, 650, 650, 651, 652, 652, 652, 653, 656, 657, 657, 657, 658, 659, 659, 660, 660, 660, 662, 663, 664, 664, 665, 665, 667, 670, 671, 672, 672, 674, 675, 675, 675, 675, 676, 677, 677, 678, 678, 679, 679, 680, 681, 683, 683, 684, 685, 685, 687, 687, 688, 688, 688, 690, 690, 690, 692, 693, 693, 693, 694, 695, 696, 696, 697, 697, 697, 698, 699, 701, 701, 701, 702, 703, 706, 707, 707, 707, 708, 710, 710, 710, 710, 711, 711, 712, 713, 717, 720, 721, 723, 723, 724, 725, 725, 725, 726, 726, 727, 728, 730, 732, 733, 734, 734, 734, 736, 738, 738, 738, 739, 741, 742, 742, 743, 745, 745, 745, 747, 747, 748, 749, 749, 751, 751, 753, 753, 754, 755, 758, 758, 759, 760, 761, 766, 766, 768, 771, 773, 773, 774, 775, 776, 777, 778, 778, 779, 779, 780, 782, 782, 785, 786, 786, 787, 787, 788, 790, 791, 792, 792, 793, 794, 795, 796, 798, 799, 800, 801, 801, 801, 802, 802, 806, 808, 809, 810, 811, 813, 816, 816, 816, 817, 819, 820, 820, 821, 823, 824, 827, 829, 830, 833, 833, 835, 835, 836, 836, 836, 840, 841, 843, 843, 845, 845, 846, 846, 847, 848, 849, 852, 853, 853, 854, 855, 855, 856, 856, 857, 859, 859, 860, 861, 861, 861, 861, 861, 861, 862, 863, 865, 867, 869, 870, 871, 871, 873, 877, 879, 881, 881, 884, 885, 887, 888, 890, 890, 891, 891, 894, 894, 895, 896, 898, 900, 901, 901, 903, 903, 906, 907, 909, 911, 913, 915, 915, 915, 916, 916, 922, 924, 925, 925, 926, 926, 926, 927, 928, 929, 929, 930, 932, 932, 933, 934, 934, 934, 935, 936, 936, 936, 939, 939, 939, 940, 940, 942, 942, 942, 945, 947, 947, 948, 948, 948, 950, 952, 952, 953, 953, 953, 954, 955, 957, 960, 961, 961, 961, 965, 965, 966, 967, 969, 969, 970, 971, 971, 971, 973, 976, 977, 978, 979, 980, 980, 980, 981, 981, 982, 984, 984, 984, 984, 985, 985, 986, 988, 990, 990, 991, 991, 992, 993, 994, 995, 997, 998, 998, 999, 999, 999, 999, 1000, 1000, 1000]\n",
      "[0, 0, 1, 4, 5, 6, 7, 7, 8, 9, 10, 10, 10, 11, 12, 13, 14, 14, 16, 18, 21, 21, 23, 26, 26, 28, 30, 31, 33, 34, 35, 35, 35, 36, 36, 37, 39, 39, 41, 41, 45, 45, 45, 46, 46, 47, 50, 51, 53, 53, 54, 54, 56, 56, 57, 57, 58, 59, 59, 59, 60, 61, 62, 63, 64, 65, 66, 69, 70, 71, 72, 73, 74, 74, 76, 77, 77, 78, 79, 80, 81, 83, 85, 87, 87, 87, 88, 90, 90, 92, 94, 94, 96, 98, 99, 100, 102, 102, 104, 105, 106, 108, 109, 110, 111, 112, 112, 113, 114, 115, 116, 116, 119, 120, 120, 121, 123, 123, 124, 124, 125, 125, 127, 127, 128, 128, 129, 129, 129, 129, 129, 131, 131, 131, 131, 132, 132, 133, 133, 134, 135, 138, 141, 141, 142, 143, 145, 146, 146, 147, 148, 149, 152, 152, 152, 153, 154, 156, 157, 158, 159, 160, 160, 161, 161, 161, 162, 165, 167, 168, 168, 169, 171, 173, 173, 174, 174, 175, 175, 175, 175, 176, 179, 181, 183, 186, 187, 188, 189, 190, 193, 194, 194, 194, 194, 196, 196, 198, 199, 202, 203, 203, 204, 206, 209, 211, 212, 212, 212, 214, 215, 216, 216, 217, 217, 218, 218, 218, 219, 220, 221, 221, 223, 224, 224, 225, 225, 225, 227, 229, 229, 230, 230, 234, 237, 238, 239, 240, 240, 241, 241, 242, 242, 242, 244, 244, 245, 245, 246, 246, 247, 248, 251, 251, 253, 253, 254, 256, 259, 259, 262, 262, 262, 262, 263, 265, 267, 269, 269, 270, 270, 272, 274, 275, 276, 276, 277, 279, 279, 280, 281, 281, 281, 284, 284, 284, 285, 286, 286, 287, 289, 291, 292, 292, 293, 295, 297, 300, 301, 302, 302, 303, 303, 305, 306, 306, 307, 307, 309, 310, 310, 311, 316, 316, 317, 319, 320, 324, 325, 326, 327, 328, 329, 329, 329, 329, 330, 331, 335, 336, 337, 337, 338, 338, 338, 338, 342, 342, 344, 346, 348, 349, 354, 355, 356, 356, 357, 357, 358, 358, 359, 359, 360, 360, 361, 361, 362, 362, 364, 366, 366, 368, 371, 372, 372, 372, 372, 374, 375, 375, 375, 377, 379, 379, 380, 381, 384, 384, 384, 384, 386, 386, 388, 389, 390, 391, 391, 392, 393, 393, 393, 394, 395, 399, 399, 400, 401, 405, 407, 409, 410, 412, 413, 414, 414, 416, 417, 418, 418, 419, 419, 421, 421, 423, 424, 424, 426, 426, 426, 427, 427, 428, 428, 429, 431, 431, 432, 433, 433, 434, 434, 435, 435, 437, 438, 438, 439, 440, 441, 442, 442, 445, 445, 447, 449, 451, 454, 455, 456, 456, 457, 459, 460, 462, 464, 467, 469, 469, 475, 475, 475, 479, 481, 481, 483, 486, 487, 488, 488, 489, 492, 494, 494, 494, 496, 496, 498, 498, 500, 500, 500, 501, 501, 502, 502, 503, 503, 504, 504, 504, 506, 506, 508, 508, 508, 508, 510, 511, 511, 514, 515, 517, 520, 521, 523, 523, 524, 525, 525, 525, 528, 528, 530, 530, 532, 532, 532, 532, 533, 534, 537, 539, 540, 540, 540, 541, 541, 542, 542, 543, 545, 545, 546, 547, 548, 552, 553, 555, 555, 555, 555, 556, 557, 558, 559, 559, 560, 561, 561, 563, 566, 566, 568, 568, 569, 569, 571, 572, 572, 573, 575, 580, 580, 580, 580, 581, 583, 584, 584, 586, 586, 587, 588, 588, 592, 592, 593, 594, 595, 595, 597, 597, 598, 598, 599, 599, 599, 600, 601, 602, 603, 603, 604, 604, 606, 606, 607, 607, 608, 609, 609, 610, 612, 612, 613, 614, 614, 615, 617, 620, 621, 622, 625, 625, 627, 629, 630, 630, 631, 631, 631, 634, 636, 638, 639, 639, 639, 642, 644, 645, 645, 645, 646, 646, 648, 650, 650, 650, 651, 652, 652, 652, 653, 656, 657, 657, 657, 658, 659, 659, 660, 660, 660, 662, 663, 664, 664, 665, 665, 667, 670, 671, 672, 672, 674, 675, 675, 675, 675, 676, 677, 677, 678, 678, 679, 679, 680, 681, 683, 683, 684, 685, 685, 687, 687, 688, 688, 688, 690, 690, 690, 692, 693, 693, 693, 694, 695, 696, 696, 697, 697, 697, 698, 699, 701, 701, 701, 702, 703, 706, 707, 707, 707, 708, 710, 710, 710, 710, 711, 711, 712, 713, 717, 720, 721, 723, 723, 724, 725, 725, 725, 726, 726, 727, 728, 730, 732, 733, 734, 734, 734, 736, 738, 738, 738, 739, 741, 742, 742, 743, 745, 745, 745, 747, 747, 748, 749, 749, 751, 751, 753, 753, 754, 755, 758, 758, 759, 760, 761, 766, 766, 768, 771, 773, 773, 774, 775, 776, 777, 778, 778, 779, 779, 780, 782, 782, 785, 786, 786, 787, 787, 788, 790, 791, 792, 792, 793, 794, 795, 796, 798, 799, 800, 801, 801, 801, 802, 802, 806, 808, 809, 810, 811, 813, 816, 816, 816, 817, 819, 820, 820, 821, 823, 824, 827, 829, 830, 833, 833, 835, 835, 836, 836, 836, 840, 841, 843, 843, 845, 845, 846, 846, 847, 848, 849, 852, 853, 853, 854, 855, 855, 856, 856, 857, 859, 859, 860, 861, 861, 861, 861, 861, 861, 862, 863, 865, 867, 869, 870, 871, 871, 873, 877, 879, 881, 881, 884, 885, 887, 888, 890, 890, 891, 891, 894, 894, 895, 896, 898, 900, 901, 901, 903, 903, 906, 907, 909, 911, 913, 915, 915, 915, 916, 916, 922, 924, 925, 925, 926, 926, 926, 927, 928, 929, 929, 930, 932, 932, 933, 934, 934, 934, 935, 936, 936, 936, 939, 939, 939, 940, 940, 942, 942, 942, 945, 947, 947, 948, 948, 948, 950, 952, 952, 953, 953, 953, 954, 955, 957, 960, 961, 961, 961, 965, 965, 966, 967, 969, 969, 970, 971, 971, 971, 973, 976, 977, 978, 979, 980, 980, 980, 981, 981, 982, 984, 984, 984, 984, 985, 985, 986, 988, 990, 990, 991, 991, 992, 993, 994, 995, 997, 998, 998, 999, 999, 999, 999, 1000, 1000, 1000]\n"
     ]
    }
   ],
   "source": [
    "# generate large list\n",
    "arr = [random.randint(0, 1000) for i in range(1000)]\n",
    "print(arr)\n",
    "\n",
    "#sort\n",
    "print(bubble_sort_iterativo(arr))\n",
    "print(bubble_sort_recursivo(arr))"
   ]
  },
  {
   "attachments": {},
   "cell_type": "markdown",
   "metadata": {},
   "source": [
    "### 2) Faça um programa iterativo e outro recursivo para testar se um número é um palíndromo."
   ]
  },
  {
   "cell_type": "code",
   "execution_count": 22,
   "metadata": {},
   "outputs": [],
   "source": [
    "def checar_palindromo_iterativo(num):\n",
    "    # Convertemos o número em uma string para facilitar a comparação\n",
    "    num_str = str(num)\n",
    "\n",
    "    # Inicializamos dois ponteiros no início e no fim da string\n",
    "    left = 0\n",
    "    right = len(num_str) - 1\n",
    "\n",
    "    # Comparamos os caracteres das duas extremidades, movendo em direção ao centro\n",
    "    while left < right:\n",
    "        # Se os caracteres nas posições atuais não forem iguais, não é um palíndromo\n",
    "        if num_str[left] != num_str[right]:\n",
    "            return False\n",
    "\n",
    "        # Movemos os ponteiros para mais perto do centro\n",
    "        left += 1\n",
    "        right -= 1\n",
    "\n",
    "    return True\n",
    "\n",
    "\n",
    "def checar_palindromo_recursivo(num):\n",
    "    # Convertemos o número em uma string para facilitar a comparação\n",
    "    num_str = str(num)\n",
    "\n",
    "    # Caso base: Se a string tiver 0 ou 1 caractere, é um palíndromo\n",
    "    if len(num_str) <= 1:\n",
    "        return True\n",
    "\n",
    "    # Caso recursivo: Verificamos se o primeiro e último caracteres são iguais\n",
    "    if num_str[0] != num_str[-1]:\n",
    "        return False\n",
    "\n",
    "    # Chamada recursiva: Verificamos se a substring sem o primeiro e último caracteres é um palíndromo\n",
    "    return checar_palindromo_recursivo(num_str[1:-1])"
   ]
  },
  {
   "attachments": {},
   "cell_type": "markdown",
   "metadata": {},
   "source": [
    "### 3) Faça um programa iterativo e outro recursivo para calcular a raiz digital de um número.\n",
    "A raiz digital de um inteiro n é dividido como o resultado da soma dos dígitos\n",
    "repetidamente até que apenas um único dígito sobra. Por exemplo, a raiz\n",
    "digital de 3799 pode ser calculada como:\n",
    "- Passo 1: 3+7+9+9=28\n",
    "- Passo 2: 2+8=10\n",
    "- Passo 3: 1+0=1"
   ]
  },
  {
   "cell_type": "code",
   "execution_count": 23,
   "metadata": {},
   "outputs": [],
   "source": [
    "# Implementação iterativa\n",
    "def calcular_raiz_digital_iterativa(num):\n",
    "    # Continua calculando a raiz digital até que reste apenas um dígito\n",
    "    while num >= 10:\n",
    "        # Converte o número em uma lista de dígitos\n",
    "        digitos = [int(d) for d in str(num)]\n",
    "        \n",
    "        # Soma os dígitos\n",
    "        num = sum(digitos)\n",
    "    \n",
    "    return num\n",
    "\n",
    "\n",
    "# Implementação recursiva\n",
    "def calcular_raiz_digital_recursiva(num):\n",
    "    # Caso base: Se o número possui apenas um dígito, retorna o próprio número\n",
    "    if num < 10:\n",
    "        return num\n",
    "    \n",
    "    # Converte o número em uma lista de dígitos\n",
    "    digitos = [int(d) for d in str(num)]\n",
    "    \n",
    "    # Soma os dígitos\n",
    "    soma = sum(digitos)\n",
    "    \n",
    "    # Chamada recursiva com a soma como novo número\n",
    "    return calcular_raiz_digital_recursiva(soma)\n"
   ]
  },
  {
   "attachments": {},
   "cell_type": "markdown",
   "metadata": {},
   "source": [
    "### 4) Implemente um programa para achar os dois pontos mais próximos em uma lista de tuplas (x1,y1),··· ,(xn,yn).\n",
    "Essa implementação é eficiente? Considere melhorar essa implementação."
   ]
  },
  {
   "cell_type": "code",
   "execution_count": 24,
   "metadata": {},
   "outputs": [],
   "source": [
    "def distancia(ponto1, ponto2):\n",
    "    return math.sqrt((ponto1[0] - ponto2[0]) ** 2 + (ponto1[1] - ponto2[1]) ** 2)\n",
    "\n",
    "\n",
    "def forca_bruta(pontos):\n",
    "    dist_min = float('inf')  # Inicializa a distância mínima com infinito\n",
    "    pontos_min = None\n",
    "\n",
    "    # Compara todos os pares de pontos e atualiza a distância mínima\n",
    "    for i in range(len(pontos)):\n",
    "        for j in range(i + 1, len(pontos)):\n",
    "            dist = distancia(pontos[i], pontos[j])\n",
    "            if dist < dist_min:\n",
    "                dist_min = dist\n",
    "                pontos_min = (pontos[i], pontos[j])\n",
    "\n",
    "    return dist_min, pontos_min\n",
    "\n",
    "\n",
    "def pontos_mais_proximos(pontos):\n",
    "    n = len(pontos)\n",
    "\n",
    "    # Caso base: Se houver apenas dois ou três pontos, utiliza-se o método de força bruta.\n",
    "    if n <= 3:\n",
    "        return forca_bruta(pontos)\n",
    "\n",
    "    # Ordenamos os pontos pela coordenada x.\n",
    "    pontos.sort()\n",
    "\n",
    "    meio = n // 2\n",
    "    metade_esquerda = pontos[:meio]\n",
    "    metade_direita = pontos[meio:]\n",
    "\n",
    "    # Chama recursivamente a função para encontrar a distância mínima em cada grupo.\n",
    "    dist_min_esquerda, pontos_esq = pontos_mais_proximos(metade_esquerda)\n",
    "    dist_min_direita, pontos_dir = pontos_mais_proximos(metade_direita)\n",
    "\n",
    "    # Determina a distância mínima entre as duas distâncias calculadas.\n",
    "    dist_min = min(dist_min_esquerda, dist_min_direita)\n",
    "\n",
    "    # Encontra os pontos que estão mais próximos da linha de divisão do que a distância mínima encontrada.\n",
    "    # Salvamos esses pontos em uma \"faixa\" que tem tamanho 2 * dist_min.\n",
    "    faixa = []\n",
    "    for ponto in pontos:\n",
    "        if abs(ponto[0] - pontos[meio][0]) < dist_min:\n",
    "            faixa.append(ponto)\n",
    "\n",
    "    # Ordena os pontos na faixa pela coordenada y.\n",
    "    faixa.sort(key=lambda ponto: ponto[1])\n",
    "\n",
    "    # Encontra os pontos mais próximos na faixa e atualiza a distância mínima, se necessário.\n",
    "    dist_tira, pontos_tira = pontos_mais_proximos_faixa(faixa, dist_min)\n",
    "    if dist_tira < dist_min:\n",
    "        return dist_tira, pontos_tira\n",
    "\n",
    "    # Caso os pontos mais próximos não estejam na faixa, retorna a distância mínima encontrada.\n",
    "    dist_min, pontos_min = dist_min_esquerda, pontos_esq\n",
    "    if dist_min_direita < dist_min:\n",
    "        dist_min, pontos_min = dist_min_direita, pontos_dir\n",
    "\n",
    "    return dist_min, pontos_min\n",
    "\n",
    "# Função para encontrar os pontos mais próximos na faixa ao longo da linha de divisão.\n",
    "def pontos_mais_proximos_faixa(faixa, d):\n",
    "    dist_min = d\n",
    "    pontos_min = None\n",
    "    tamanho_faixa = len(faixa)\n",
    "\n",
    "    for i in range(tamanho_faixa):\n",
    "        for j in range(i + 1, tamanho_faixa):\n",
    "            if faixa[j][1] - faixa[i][1] >= dist_min:\n",
    "                break\n",
    "            dist = distancia(faixa[i], faixa[j])\n",
    "            if dist < dist_min:\n",
    "                dist_min = dist\n",
    "                pontos_min = (faixa[i], faixa[j])\n",
    "\n",
    "    return dist_min, pontos_min"
   ]
  },
  {
   "cell_type": "code",
   "execution_count": 25,
   "metadata": {},
   "outputs": [],
   "source": [
    "# Exemplo de uso\n",
    "num_pontos = 10000\n",
    "faixa_minima, faixa_maxima = -1000000, 1000000\n",
    "pontos = [(random.randint(faixa_minima, faixa_maxima), random.randint(faixa_minima, faixa_maxima)) for _ in range(num_pontos)]"
   ]
  },
  {
   "cell_type": "code",
   "execution_count": 26,
   "metadata": {},
   "outputs": [
    {
     "name": "stdout",
     "output_type": "stream",
     "text": [
      "A menor distância é 250.7149776140229\n",
      "Os pontos mais próximos são ((-366240, -615993), (-366073, -615806))\n"
     ]
    }
   ],
   "source": [
    "# Chamada da função principal para encontrar os pontos mais próximos.\n",
    "distancia_minima, pontos_mais_prox = forca_bruta(pontos)\n",
    "\n",
    "print(\"A menor distância é\", distancia_minima)\n",
    "print(\"Os pontos mais próximos são\", pontos_mais_prox)"
   ]
  },
  {
   "cell_type": "code",
   "execution_count": 27,
   "metadata": {},
   "outputs": [
    {
     "name": "stdout",
     "output_type": "stream",
     "text": [
      "A menor distância é 250.7149776140229\n",
      "Os pontos mais próximos são ((-366240, -615993), (-366073, -615806))\n"
     ]
    }
   ],
   "source": [
    "# Chamada da função principal para encontrar os pontos mais próximos.\n",
    "distancia_minima, pontos_mais_prox = pontos_mais_proximos(pontos)\n",
    "\n",
    "print(\"A menor distância é\", distancia_minima)\n",
    "print(\"Os pontos mais próximos são\", pontos_mais_prox)"
   ]
  },
  {
   "attachments": {},
   "cell_type": "markdown",
   "metadata": {},
   "source": [
    "### 5) Represente cada matriz como uma lista de listas e implemente um programa que calcule o produto de duas matrizes."
   ]
  },
  {
   "cell_type": "code",
   "execution_count": 28,
   "metadata": {},
   "outputs": [],
   "source": [
    "def produto_de_matrizes(matriz1, matriz2):\n",
    "    # Verifica se as matrizes podem ser multiplicadas\n",
    "    if len(matriz1[0]) != len(matriz2):\n",
    "        raise ValueError(\"Não é possível multiplicar as matrizes! colunas1 != linhas2\")\n",
    "\n",
    "    # Obtém as dimensões das matrizes\n",
    "    linhas1 = len(matriz1)\n",
    "    colunas1 = len(matriz1[0])\n",
    "    colunas2 = len(matriz2[0])\n",
    "\n",
    "    # Cria uma matriz de resultado preenchida com zeros\n",
    "    resultado = [[0 for _ in range(colunas2)] for _ in range(linhas1)]\n",
    "\n",
    "    # Realiza a multiplicação das matrizes\n",
    "    for i in range(linhas1):\n",
    "        for j in range(colunas2):\n",
    "            for k in range(colunas1):\n",
    "                resultado[i][j] += matriz1[i][k] * matriz2[k][j]\n",
    "\n",
    "    return resultado"
   ]
  },
  {
   "cell_type": "code",
   "execution_count": 29,
   "metadata": {},
   "outputs": [
    {
     "name": "stdout",
     "output_type": "stream",
     "text": [
      "[[19, 22], [43, 50]]\n"
     ]
    }
   ],
   "source": [
    "matrix1 = [[1, 2], [3, 4]]\n",
    "matrix2 = [[5, 6], [7, 8]]\n",
    "\n",
    "result = produto_de_matrizes(matrix1, matrix2)\n",
    "print(result)"
   ]
  },
  {
   "attachments": {},
   "cell_type": "markdown",
   "metadata": {},
   "source": [
    "### 6) Considere a representação de um polinômio de grau n dada por uma lista de tamanho n +1. Então escreva uma função que receba de entrada 2 polinômios de graus quaisquer, gere uma lista de saída com o polinômio produto."
   ]
  },
  {
   "cell_type": "code",
   "execution_count": 30,
   "metadata": {},
   "outputs": [],
   "source": [
    "def multiplicar_polinomios(poly1, poly2):\n",
    "    # Obtém os graus dos polinômios\n",
    "    grau1 = len(poly1) - 1\n",
    "    grau2 = len(poly2) - 1\n",
    "\n",
    "    # Calcula o grau do polinômio resultante\n",
    "    grau_resultante = grau1 + grau2\n",
    "\n",
    "    # Cria uma lista de zeros para armazenar o polinômio produto\n",
    "    produto = [0] * (grau_resultante + 1)\n",
    "\n",
    "    # Realiza a multiplicação dos polinômios\n",
    "    for i in range(grau1 + 1):\n",
    "        for j in range(grau2 + 1):\n",
    "            produto[i + j] += poly1[i] * poly2[j]\n",
    "\n",
    "    return produto"
   ]
  },
  {
   "cell_type": "code",
   "execution_count": 31,
   "metadata": {},
   "outputs": [
    {
     "name": "stdout",
     "output_type": "stream",
     "text": [
      "[8, -8, -2, 2]\n"
     ]
    }
   ],
   "source": [
    "poly1 = [2, -3, 1]  # 2x^2 - 3x + 1\n",
    "poly2 = [4, 2]     # 4x + 2\n",
    "\n",
    "result = multiplicar_polinomios(poly1, poly2)\n",
    "print(result)"
   ]
  },
  {
   "attachments": {},
   "cell_type": "markdown",
   "metadata": {},
   "source": [
    "### 7) Use numpy para calcular em uma linha e de forma vetorizada o produto interno entre dois vetores."
   ]
  },
  {
   "cell_type": "code",
   "execution_count": 32,
   "metadata": {},
   "outputs": [
    {
     "name": "stdout",
     "output_type": "stream",
     "text": [
      "32\n"
     ]
    }
   ],
   "source": [
    "vector1 = np.array([1, 2, 3])\n",
    "vector2 = np.array([4, 5, 6])\n",
    "\n",
    "dot_product = np.dot(vector1, vector2)\n",
    "print(dot_product)"
   ]
  },
  {
   "attachments": {},
   "cell_type": "markdown",
   "metadata": {},
   "source": [
    "# Orientação a Objetos"
   ]
  },
  {
   "attachments": {},
   "cell_type": "markdown",
   "metadata": {},
   "source": [
    "### 1) Crie uma classe “Polinomials\" que tenha os métodos que permitam somar, multiplicar e escrever no console os polinômios."
   ]
  },
  {
   "cell_type": "code",
   "execution_count": 33,
   "metadata": {},
   "outputs": [],
   "source": [
    "class Polynomials:\n",
    "    def __init__(self, coeffs):\n",
    "        self.coeffs = coeffs[::-1]  # Reverte a ordem dos coeficientes para facilitar a manipulação\n",
    "\n",
    "    def __str__(self):\n",
    "        grau = len(self.coeffs) - 1\n",
    "        termos = []\n",
    "\n",
    "        for potencia, coef in enumerate(self.coeffs):\n",
    "            termo = f\"{coef}x^{grau - potencia}\"\n",
    "            termos.append(termo)\n",
    "\n",
    "        return \" + \".join(termos)\n",
    "\n",
    "    def __add__(self, outro):\n",
    "        # Determina o grau máximo entre os dois polinômios\n",
    "        grau_maximo = max(len(self.coeffs), len(outro.coeffs))\n",
    "\n",
    "        # Cria listas de coeficientes com o mesmo comprimento\n",
    "        coeffs1 = self.coeffs + [0] * (grau_maximo - len(self.coeffs))\n",
    "        coeffs2 = outro.coeffs + [0] * (grau_maximo - len(outro.coeffs))\n",
    "\n",
    "        # Realiza a adição dos polinômios\n",
    "        coeffs_resultantes = [coef1 + coef2 for coef1, coef2 in zip(coeffs1, coeffs2)]\n",
    "\n",
    "        return Polynomials(coeffs_resultantes[::-1])\n",
    "\n",
    "    def __mul__(self, outro):\n",
    "        # Determina o grau do polinômio resultante\n",
    "        grau_resultante = len(self.coeffs) + len(outro.coeffs) - 2\n",
    "\n",
    "        # Inicializa os coeficientes resultantes com zeros\n",
    "        coeffs_resultantes = [0] * (grau_resultante + 1)\n",
    "\n",
    "        # Realiza a multiplicação dos polinômios\n",
    "        for i, coef1 in enumerate(self.coeffs):\n",
    "            for j, coef2 in enumerate(outro.coeffs):\n",
    "                coeffs_resultantes[i + j] += coef1 * coef2\n",
    "\n",
    "        return Polynomials(coeffs_resultantes[::-1])"
   ]
  },
  {
   "cell_type": "code",
   "execution_count": 34,
   "metadata": {},
   "outputs": [
    {
     "name": "stdout",
     "output_type": "stream",
     "text": [
      "9x^2 + 7x^1 + 5x^0\n",
      "18x^4 + 27x^3 + 28x^2 + 13x^1 + 4x^0\n"
     ]
    }
   ],
   "source": [
    "poly1 = Polynomials([1, 2, 3])  # 3x^2 + 2x + 1\n",
    "poly2 = Polynomials([4, 5, 6])  # 6x^2 + 5x + 4\n",
    "\n",
    "# Adição \n",
    "result_add = poly1 + poly2\n",
    "print(result_add) \n",
    "\n",
    "# Multiplicação\n",
    "result_mul = poly1 * poly2\n",
    "print(result_mul) "
   ]
  },
  {
   "attachments": {},
   "cell_type": "markdown",
   "metadata": {},
   "source": [
    "### 2) Crie uma classe “StraightLine\" que defina uma reta a partir de 2 pontos, cheque se uma outra reta é igual a ela e cheque se uma outra reta é paralela a ela."
   ]
  },
  {
   "cell_type": "code",
   "execution_count": 35,
   "metadata": {},
   "outputs": [],
   "source": [
    "class StraightLine:\n",
    "    def __init__(self, ponto1, ponto2):\n",
    "        self.ponto1 = ponto1\n",
    "        self.ponto2 = ponto2\n",
    "\n",
    "    def __str__(self):\n",
    "        return f\"Reta que cruza {self.ponto1} e {self.ponto2}\"\n",
    "    \n",
    "    def __eq__(self, outro):\n",
    "        # Verifica se as linhas são iguais com base nas inclinações e intercepções\n",
    "        return self.inclinacao() == outro.inclinacao() and self.intercepcao() == outro.intercepcao()\n",
    "\n",
    "    def inclinacao(self):\n",
    "        # Calcula a inclinação da linha\n",
    "        x1, y1 = self.ponto1\n",
    "        x2, y2 = self.ponto2\n",
    "        return (y2 - y1) / (x2 - x1)\n",
    "\n",
    "    def intercepcao(self):\n",
    "        # Calcula a intercepção y da linha\n",
    "        x1, y1 = self.ponto1\n",
    "        return y1 - self.inclinacao() * x1\n",
    "\n",
    "    def paralela(self, outro):\n",
    "        # Verifica se as linhas são paralelas com base em suas inclinações\n",
    "        return self.inclinacao() == outro.inclinacao()"
   ]
  },
  {
   "cell_type": "code",
   "execution_count": 36,
   "metadata": {},
   "outputs": [
    {
     "name": "stdout",
     "output_type": "stream",
     "text": [
      "True\n",
      "False\n",
      "True\n",
      "False\n"
     ]
    }
   ],
   "source": [
    "line1 = StraightLine((1, 2), (3, 4))\n",
    "line2 = StraightLine((2, 3), (4, 5))\n",
    "line3 = StraightLine((1, 2), (3, 6))\n",
    "\n",
    "print(line1 == line2) \n",
    "print(line1 == line3)\n",
    "\n",
    "print(line1.paralela(line2))\n",
    "print(line1.paralela(line3))  "
   ]
  },
  {
   "attachments": {},
   "cell_type": "markdown",
   "metadata": {},
   "source": [
    "### 3) Crie uma classe “PlotStraightLine\" que seja uma filha da classe do exercício anterior e desenhe a reta no eixo xy."
   ]
  },
  {
   "cell_type": "code",
   "execution_count": 37,
   "metadata": {},
   "outputs": [],
   "source": [
    "class PlotStraightLine(StraightLine):\n",
    "    def __init__(self, ponto1, ponto2):\n",
    "        super().__init__(ponto1, ponto2)\n",
    "\n",
    "    def desenhar_linha(self):\n",
    "        x_valores = [self.ponto1[0], self.ponto2[0]]\n",
    "        y_valores = [self.ponto1[1], self.ponto2[1]]\n",
    "        plt.plot(x_valores, y_valores)\n",
    "        plt.xlabel('X')\n",
    "        plt.ylabel('Y')\n",
    "        plt.title('Gráfico de Reta')\n",
    "        plt.grid(True)\n",
    "        plt.show()"
   ]
  },
  {
   "cell_type": "code",
   "execution_count": 39,
   "metadata": {},
   "outputs": [
    {
     "data": {
      "image/png": "[encoded data removed]",
      "text/plain": [
       "<Figure size 640x480 with 1 Axes>"
      ]
     },
     "metadata": {},
     "output_type": "display_data"
    }
   ],
   "source": [
    "line = PlotStraightLine((1, 2), (5, 6))\n",
    "line.desenhar_linha()"
   ]
  }
 ],
 "metadata": {
  "kernelspec": {
   "display_name": ".venv",
   "language": "python",
   "name": "python3"
  },
  "language_info": {
   "codemirror_mode": {
    "name": "ipython",
    "version": 3
   },
   "file_extension": ".py",
   "mimetype": "text/x-python",
   "name": "python",
   "nbconvert_exporter": "python",
   "pygments_lexer": "ipython3",
   "version": "3.11.3"
  },
  "orig_nbformat": 4
 },
 "nbformat": 4,
 "nbformat_minor": 2
}
