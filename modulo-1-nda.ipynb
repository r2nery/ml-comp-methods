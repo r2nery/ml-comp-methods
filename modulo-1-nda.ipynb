{
 "cells": [
  {
   "cell_type": "code",
   "execution_count": 48,
   "metadata": {},
   "outputs": [],
   "source": [
    "import timeit\n",
    "import math\n",
    "import matplotlib.pyplot as plt\n",
    "import numpy as np\n",
    "import random"
   ]
  },
  {
   "attachments": {},
   "cell_type": "markdown",
   "metadata": {},
   "source": [
    "# Programação Estruturada"
   ]
  },
  {
   "attachments": {},
   "cell_type": "markdown",
   "metadata": {},
   "source": [
    "### 1) Faça um programa iterativo e outro recursivo para fatorar um número inteiro."
   ]
  },
  {
   "cell_type": "code",
   "execution_count": 4,
   "metadata": {},
   "outputs": [],
   "source": [
    "# 20 | 2\n",
    "# 10 | 2\n",
    "# 5  | 5\n",
    "# 1\n",
    "\n",
    "# menor fator primo possível é 2\n",
    "\n",
    "# Implementação iterativa\n",
    "\n",
    "def fatorar_it(n):\n",
    "    # lista de fatores primos\n",
    "    fatores = []\n",
    "    div = 2\n",
    "\n",
    "    # Enquanto o divisor for menor ou igual a n, continuamos\n",
    "    while div <= n:\n",
    "        # se n for divisível por div, adicionamos div à lista de fatores\n",
    "        # e dividimos n por ele\n",
    "        if n % div == 0:\n",
    "            fatores.append(div) #equivalente: fatores += [div]\n",
    "            n = n/div\n",
    "        # caso n não seja divisível por div, incrementamos o divisor em 1 e tentamos novamente\n",
    "        else:\n",
    "            div += 1 \n",
    "\n",
    "    return fatores\n",
    "\n",
    "# Implementação recursiva\n",
    "def fatorar_rec(n, div=2):\n",
    "    # caso base:\n",
    "    if n == 1:\n",
    "        return []\n",
    "    \n",
    "    #caso recursivo:\n",
    "    # se n for divisível por div,\n",
    "    elif n % div == 0:\n",
    "        # retornamos recursivamente com uma lista contendo o div\n",
    "        return [div] + fatorar_rec(n/div, div)\n",
    "    \n",
    "    # se n não for divisível por div, \n",
    "    # retorna recursivamente, sem a lista, a função chamada com div+1\n",
    "    return fatorar_rec(n, div+1)"
   ]
  },
  {
   "cell_type": "code",
   "execution_count": 5,
   "metadata": {},
   "outputs": [
    {
     "name": "stdout",
     "output_type": "stream",
     "text": [
      "Decomposição de 441: [3, 3, 7, 7]\n",
      "Decomposição de 441: [3, 3, 7, 7]\n"
     ]
    }
   ],
   "source": [
    "'''\n",
    "Fatorando o número 441, temos:\n",
    "\n",
    "441 | 3\n",
    "147 | 3\n",
    "49  | 7\n",
    "7   | 7\n",
    "1   | 1\n",
    "'''\n",
    "\n",
    "fatores_it = fatorar_it(441)\n",
    "fatores_rec = fatorar_rec(441)\n",
    "\n",
    "print(f\"Decomposição de 441: {fatores_it}\")\n",
    "print(f\"Decomposição de 441: {fatores_rec}\")"
   ]
  },
  {
   "attachments": {},
   "cell_type": "markdown",
   "metadata": {},
   "source": [
    "### 2) Calcule a potencia de um número usando recursão. Pense numa solução eficiente."
   ]
  },
  {
   "cell_type": "code",
   "execution_count": 6,
   "metadata": {},
   "outputs": [],
   "source": [
    "# 2**2 = 4\n",
    "\n",
    "def potencia_v1(base,expoente):\n",
    "    resultado =1 \n",
    "    for _ in range(expoente):\n",
    "        resultado *= base\n",
    "    return resultado\n",
    "\n",
    "def potencia_rec(base, expoente):\n",
    "    # caso base:\n",
    "    if expoente == 0:\n",
    "        return 1\n",
    "    else:\n",
    "        return base * potencia_rec(base, expoente-1)\n",
    "    \n",
    "def potencia_rec_v2(base,expoente):\n",
    "    if expoente == 0:\n",
    "        return 1\n",
    "    \n",
    "    # se o expoente for par,\n",
    "    elif expoente % 2 == 0:\n",
    "        # (x^(n/2))^2\n",
    "        temp = potencia_rec_v2(base, expoente//2)\n",
    "        return temp ** 2\n",
    "\n",
    "    # se o expoente for ímpar\n",
    "    else:\n",
    "        # x * (x^((n-1)/2))^2\n",
    "        temp = potencia_rec_v2(base, (expoente -1) // 2)\n",
    "        return base * temp ** 2\n",
    "    "
   ]
  },
  {
   "cell_type": "code",
   "execution_count": 7,
   "metadata": {},
   "outputs": [
    {
     "name": "stdout",
     "output_type": "stream",
     "text": [
      "16\n",
      "16\n",
      "16\n",
      "\n",
      "Tempo de execução:\n",
      "0.27765579099650495 segundos\n",
      "\n",
      "0.30910570902051404 segundos\n",
      "\n",
      "0.012628707976546139 segundos\n",
      "\n"
     ]
    }
   ],
   "source": [
    "print(potencia_v1(2,4))\n",
    "print(potencia_rec(2,4))\n",
    "print(potencia_rec_v2(2,4))\n",
    "\n",
    "\n",
    "print(\"tempos de execução:\\n\")\n",
    "print(timeit.timeit(lambda: potencia_v1(99,1000), number=10000), \"segundos\")\n",
    "print(timeit.timeit(lambda: potencia_rec(99,1000), number=10000), \"segundos\")\n",
    "print(timeit.timeit(lambda: potencia_rec_v2(99,1000), number=10000), \"segundos\")\n",
    "\n"
   ]
  },
  {
   "attachments": {},
   "cell_type": "markdown",
   "metadata": {},
   "source": [
    "### 3) Project Euler 2: Ache a soma de todos os elementos da série de Fibonacci pares que não excedem 4 milhões. \n",
    "Existe uma solução mais interessante que essa que você possivelmente apresentou?"
   ]
  },
  {
   "cell_type": "code",
   "execution_count": 8,
   "metadata": {},
   "outputs": [],
   "source": [
    "# Essa é uma pergunta que tem resposta correta, mas pode ser solucionada de várias formas.\n",
    "# O resultado é 4613732.\n",
    "\n",
    "def fib1():\n",
    "    # x e y são os dois primeiros termos da sequência de Fibonacci\n",
    "    x = 0\n",
    "    y = 1\n",
    "    prox_termo = 0\n",
    "    soma = 0\n",
    "    # Enquanto o próximo termo for menor que 4 milhões, o loop continua\n",
    "    while prox_termo < 4000000:\n",
    "        # O próximo termo é a soma dos dois termos anteriores\n",
    "        prox_termo = x + y\n",
    "        # O primeiro termo passa a ser o segundo termo\n",
    "        x = y\n",
    "        y = prox_termo\n",
    "        # Se o próximo termo for par, soma ele à soma dos termos pares\n",
    "        if prox_termo % 2 == 0:\n",
    "            soma += prox_termo\n",
    "    return soma\n",
    "\n",
    "def fib2():\n",
    "    # O primeiro par é 2 e o segundo par é 8\n",
    "    # Cada terceiro elemento na sequência de Fibonacci é par\n",
    "    primeiro_par = 2\n",
    "    segundo_par = 8\n",
    "    soma_pares = primeiro_par + segundo_par\n",
    "    # Enquanto o próximo par for menor que 4 milhões, o loop continua\n",
    "    while soma_pares < 4000000:\n",
    "        # Para o número par n, a equação abaixo é válida:\n",
    "        fib_pares = (4 * segundo_par) + primeiro_par\n",
    "        soma_pares += fib_pares\n",
    "        primeiro_par, segundo_par = segundo_par, fib_pares\n",
    "    return soma_pares"
   ]
  },
  {
   "cell_type": "code",
   "execution_count": 9,
   "metadata": {},
   "outputs": [
    {
     "name": "stdout",
     "output_type": "stream",
     "text": [
      "4613732\n",
      "4613732\n",
      "\n",
      "Tempo de execução:\n",
      "0.015586584020638838 segundos\n",
      "\n",
      "0.004312707984354347 segundos\n",
      "\n"
     ]
    }
   ],
   "source": [
    "print(fib1())\n",
    "print(fib2())\n",
    "\n",
    "print(\"\\nTempo de execução:\")\n",
    "print(timeit.timeit(lambda: fib1(), number=10000), \"segundos\\n\")\n",
    "print(timeit.timeit(lambda: fib2(), number=10000), \"segundos\\n\")\n"
   ]
  },
  {
   "attachments": {},
   "cell_type": "markdown",
   "metadata": {},
   "source": [
    "### 4) Project Euler 3: Os fatores primos de 13195 são 5, 7, 13 e 29. Qual o maior primo fator de 600851475143? \n",
    "Existe uma solução mais interessante que essa que você possivelmente apresentou?"
   ]
  },
  {
   "cell_type": "code",
   "execution_count": 10,
   "metadata": {},
   "outputs": [],
   "source": [
    "def sol1():\n",
    "    # Função que verifica se um número é primo\n",
    "    def for_primo(num):\n",
    "        # Se o número for menor que 2, ele não é primo\n",
    "        if num < 2:\n",
    "            return False\n",
    "        # Se o número for divisível por qualquer número entre 2 e a raiz quadrada do número, ele não é primo\n",
    "        for i in range(2, int(num**0.5) + 1):\n",
    "            if num % i == 0:\n",
    "                return False\n",
    "        return True\n",
    "\n",
    "    n = 600851475143\n",
    "    fator_primo_max = 1\n",
    "\n",
    "    # Iteramos de 2 até a raiz quadrada de n + 1\n",
    "    for i in range(2, int(n**0.5) + 1):\n",
    "        # Se n for divisível por i, verificamos se i é primo e se i é maior que fator_primo_max\n",
    "        if n % i == 0:\n",
    "            if for_primo(i) and i > fator_primo_max:\n",
    "                # se as duas condições forem verdadeiras, atualizamos fator_primo_max\n",
    "                fator_primo_max = i\n",
    "\n",
    "    return fator_primo_max\n",
    "\n",
    "\n",
    "\"\"\" \n",
    "Esta é uma solução alternativa, muito mais eficiente.\n",
    "A solução começa inicializando o número dado n e um fator i=2. O loop externo itera enquanto i*i<n, o que significa que só precisamos verificar fatores até a raiz quadrada de n.\n",
    "Dentro do loop externo, temos outro loop que divide n por i enquanto é divisível sem resto. Isso remove todos os fatores de i de n. \n",
    "Quando este loop interno termina, sabemos que ou n não tem mais fatores de i restantes ou n em si se tornou um número menor porque o dividimos por i.\n",
    "Em seguida, incrementamos i em 1 e continuamos com o loop externo para verificar o próximo fator.\n",
    "Finalmente, a função retorna n, que será o maior fator primo de n original quando o loop externo terminar. \n",
    "Isso ocorre porque quaisquer fatores menores que i já foram divididos de n e quaisquer fatores maiores que i já foram encontrados e divididos em uma iteração anterior do loop externo.\n",
    "\n",
    "Esta abordagem é mais rápida que a solução anterior porque elimina a verificação de primalidade para cada fator. \n",
    "Em vez disso, ele divide diretamente todos os fatores até atingir o maior fator primo. Isso resulta em uma aceleração significativa para valores de entrada maiores.\n",
    "\"\"\"\n",
    "\n",
    "\n",
    "def sol2():\n",
    "    n = 600851475143\n",
    "    i = 2\n",
    "    while i * i < n:\n",
    "        while n % i == 0:\n",
    "            n = n // i\n",
    "        i = i + 1\n",
    "    return n"
   ]
  },
  {
   "cell_type": "code",
   "execution_count": 11,
   "metadata": {},
   "outputs": [
    {
     "name": "stdout",
     "output_type": "stream",
     "text": [
      "6857\n",
      "6857\n",
      "\n",
      "Tempo de execução:\n",
      "2.5040485420031473 segundos\n",
      "\n",
      "0.007791541982442141 segundos\n",
      "\n"
     ]
    }
   ],
   "source": [
    "print(sol1())\n",
    "print(sol2())\n",
    "\n",
    "print(\"\\nTempo de execução:\")\n",
    "print(timeit.timeit(lambda: sol1(), number=100), \"segundos\\n\")\n",
    "print(timeit.timeit(lambda: sol2(), number=100), \"segundos\\n\")"
   ]
  },
  {
   "attachments": {},
   "cell_type": "markdown",
   "metadata": {},
   "source": [
    "# Coleções de Dados"
   ]
  },
  {
   "attachments": {},
   "cell_type": "markdown",
   "metadata": {},
   "source": [
    "### 1) Implemente o algoritmo conhecido como Bubble sort na forma iterativa e recursiva."
   ]
  },
  {
   "cell_type": "code",
   "execution_count": 12,
   "metadata": {},
   "outputs": [],
   "source": [
    "# Iterative Bubble Sort\n",
    "def bubble_sort_iterativo(arr):\n",
    "    n = len(arr)\n",
    "\n",
    "    # Iterando por todos os elementos do array\n",
    "    for i in range(n - 1):\n",
    "        # Os últimos i elementos já estão no lugar\n",
    "        for j in range(n - i - 1):\n",
    "            # Trocar se o elemento encontrado for maior que o próximo elemento\n",
    "            if arr[j] > arr[j + 1]:\n",
    "                arr[j], arr[j + 1] = arr[j + 1], arr[j]\n",
    "\n",
    "    return arr\n",
    "\n",
    "\n",
    "def bubble_sort_recursivo(arr, n=None):\n",
    "    # Define o valor padrão de n para a chamada inicial\n",
    "    if n is None:\n",
    "        n = len(arr)\n",
    "\n",
    "    # Caso base: Se a lista tiver tamanho 1, ela já está ordenada\n",
    "    if n == 1:\n",
    "        return arr\n",
    "\n",
    "    # Iteramos por todos os elementos da lista, exceto o último\n",
    "    for i in range(n - 1):\n",
    "        # Verificamos se o elemento atual é maior do que o próximo elemento\n",
    "        if arr[i] > arr[i + 1]:\n",
    "            arr[i], arr[i + 1] = arr[i + 1], arr[i]\n",
    "\n",
    "    # Chamada recursiva para os elementos restantes da lista\n",
    "    return bubble_sort_recursivo(arr, n - 1)\n"
   ]
  },
  {
   "cell_type": "code",
   "execution_count": 13,
   "metadata": {},
   "outputs": [
    {
     "name": "stdout",
     "output_type": "stream",
     "text": [
      "[243, 916, 154, 864, 770, 250, 936, 226, 346, 346, 488, 134, 503, 152, 314, 17, 453, 327, 547, 832, 804, 583, 311, 934, 297, 581, 984, 139, 791, 670, 27, 183, 356, 996, 97, 410, 728, 649, 192, 697, 242, 210, 888, 773, 431, 510, 964, 630, 16, 173, 755, 417, 850, 61, 404, 186, 215, 739, 709, 346, 468, 984, 610, 434, 355, 29, 599, 640, 921, 307, 494, 156, 237, 31, 545, 143, 435, 392, 878, 263, 739, 367, 536, 221, 82, 973, 458, 973, 112, 832, 580, 771, 806, 182, 426, 250, 260, 105, 770, 299, 955, 500, 128, 672, 556, 542, 762, 528, 881, 807, 772, 84, 809, 31, 740, 273, 753, 995, 491, 211, 924, 54, 303, 471, 464, 777, 365, 714, 178, 98, 311, 461, 518, 473, 902, 249, 371, 446, 714, 852, 415, 517, 159, 280, 529, 235, 745, 99, 373, 47, 957, 786, 877, 539, 403, 124, 0, 625, 504, 720, 522, 79, 615, 946, 612, 49, 997, 148, 681, 141, 821, 811, 436, 693, 234, 207, 135, 975, 856, 857, 723, 973, 583, 17, 83, 306, 546, 140, 990, 565, 808, 29, 386, 786, 452, 538, 851, 323, 812, 388, 343, 399, 47, 662, 386, 413, 740, 186, 12, 526, 825, 625, 100, 176, 861, 944, 25, 211, 6, 967, 656, 82, 236, 317, 602, 487, 351, 77, 257, 580, 963, 69, 709, 616, 695, 977, 922, 408, 554, 492, 434, 607, 903, 324, 182, 108, 928, 35, 724, 872, 80, 312, 196, 222, 347, 80, 691, 0, 467, 979, 421, 132, 170, 103, 215, 588, 205, 94, 392, 792, 197, 70, 265, 389, 592, 413, 306, 541, 326, 414, 981, 453, 373, 824, 962, 838, 689, 98, 432, 151, 671, 506, 499, 257, 262, 343, 572, 682, 408, 822, 491, 669, 382, 880, 283, 909, 818, 476, 907, 372, 605, 261, 430, 968, 761, 276, 755, 533, 973, 432, 50, 976, 481, 71, 861, 552, 479, 210, 833, 962, 682, 692, 176, 41, 33, 334, 130, 556, 473, 657, 684, 47, 744, 363, 947, 971, 60, 577, 750, 496, 875, 203, 919, 35, 300, 902, 470, 650, 409, 927, 410, 665, 927, 173, 247, 385, 490, 47, 127, 40, 257, 258, 550, 659, 466, 246, 527, 675, 675, 760, 715, 568, 305, 420, 143, 321, 224, 192, 914, 207, 129, 621, 911, 286, 945, 764, 251, 47, 949, 70, 80, 967, 331, 99, 209, 754, 997, 953, 736, 580, 413, 748, 487, 131, 489, 794, 784, 565, 163, 858, 817, 852, 690, 342, 152, 208, 334, 56, 469, 971, 363, 278, 529, 141, 354, 327, 654, 825, 260, 17, 264, 131, 709, 189, 86, 461, 111, 91, 342, 872, 448, 952, 652, 837, 708, 47, 344, 434, 922, 887, 829, 200, 982, 544, 350, 764, 708, 561, 181, 557, 848, 431, 734, 594, 148, 343, 293, 176, 370, 182, 245, 138, 913, 273, 546, 239, 457, 484, 600, 371, 612, 653, 559, 477, 826, 765, 181, 426, 259, 985, 158, 180, 91, 296, 8, 862, 160, 429, 963, 97, 423, 0, 749, 526, 343, 277, 786, 191, 733, 465, 897, 152, 646, 968, 931, 946, 808, 817, 597, 812, 414, 222, 852, 229, 299, 917, 241, 880, 136, 107, 4, 442, 450, 966, 658, 139, 892, 871, 556, 470, 902, 934, 831, 594, 302, 35, 88, 942, 917, 757, 704, 234, 910, 426, 59, 632, 646, 149, 844, 448, 778, 234, 421, 518, 889, 678, 56, 820, 371, 739, 578, 931, 408, 800, 315, 57, 501, 664, 966, 825, 115, 673, 189, 400, 925, 61, 119, 205, 915, 692, 447, 501, 425, 161, 639, 876, 460, 338, 51, 980, 588, 8, 408, 239, 594, 487, 880, 242, 394, 205, 931, 745, 875, 788, 64, 470, 815, 278, 804, 388, 938, 644, 285, 480, 823, 603, 927, 125, 524, 729, 125, 138, 842, 152, 20, 242, 454, 758, 259, 256, 91, 529, 436, 392, 268, 646, 487, 127, 568, 317, 424, 976, 758, 844, 8, 341, 693, 928, 896, 714, 786, 318, 519, 471, 626, 685, 165, 50, 263, 187, 497, 111, 135, 930, 452, 93, 398, 68, 576, 550, 12, 275, 793, 568, 669, 134, 434, 616, 362, 56, 565, 821, 648, 992, 404, 856, 438, 557, 350, 18, 640, 685, 633, 11, 814, 584, 620, 895, 68, 273, 910, 847, 25, 627, 989, 268, 383, 875, 203, 381, 142, 589, 349, 532, 344, 57, 523, 209, 517, 411, 825, 15, 989, 402, 496, 760, 150, 969, 823, 215, 729, 218, 728, 633, 500, 279, 536, 172, 819, 490, 3, 854, 285, 228, 546, 575, 62, 706, 23, 162, 119, 700, 389, 891, 223, 274, 884, 384, 811, 992, 81, 99, 279, 731, 106, 986, 754, 287, 332, 103, 49, 818, 159, 417, 798, 582, 503, 437, 147, 249, 672, 726, 192, 889, 288, 741, 7, 13, 404, 89, 179, 897, 612, 357, 259, 482, 152, 753, 336, 531, 885, 136, 395, 626, 609, 53, 520, 440, 59, 183, 199, 248, 484, 546, 109, 377, 863, 406, 724, 549, 280, 870, 412, 343, 308, 275, 380, 601, 603, 992, 103, 700, 21, 82, 594, 774, 458, 530, 407, 560, 518, 66, 509, 267, 739, 465, 709, 705, 680, 129, 341, 243, 161, 974, 381, 929, 987, 857, 777, 117, 495, 568, 609, 137, 104, 432, 209, 73, 193, 293, 715, 53, 125, 72, 780, 735, 72, 131, 121, 323, 781, 748, 180, 294, 880, 767, 61, 396, 808, 830, 440, 89, 974, 994, 683, 698, 345, 168, 228, 276, 572, 704, 94, 491, 482, 562, 987, 263, 723, 240, 460, 459, 613, 988, 905, 495, 310, 520, 836, 907, 932, 851, 89, 516, 903, 319, 625, 809, 562, 222, 458, 335, 315, 291, 778, 926, 646, 634, 689, 991, 296, 617, 329, 629, 387, 444, 63, 839, 747, 338, 893, 342, 253, 94, 60, 950, 562, 281, 459, 852, 166, 180, 68, 872, 405, 689, 735, 338, 485, 675, 958, 802, 529, 806, 743, 927, 454, 514, 685, 984]\n",
      "[0, 0, 0, 3, 4, 6, 7, 8, 8, 8, 11, 12, 12, 13, 15, 16, 17, 17, 17, 18, 20, 21, 23, 25, 25, 27, 29, 29, 31, 31, 33, 35, 35, 35, 40, 41, 47, 47, 47, 47, 47, 47, 49, 49, 50, 50, 51, 53, 53, 54, 56, 56, 56, 57, 57, 59, 59, 60, 60, 61, 61, 61, 62, 63, 64, 66, 68, 68, 68, 69, 70, 70, 71, 72, 72, 73, 77, 79, 80, 80, 80, 81, 82, 82, 82, 83, 84, 86, 88, 89, 89, 89, 91, 91, 91, 93, 94, 94, 94, 97, 97, 98, 98, 99, 99, 99, 100, 103, 103, 103, 104, 105, 106, 107, 108, 109, 111, 111, 112, 115, 117, 119, 119, 121, 124, 125, 125, 125, 127, 127, 128, 129, 129, 130, 131, 131, 131, 132, 134, 134, 135, 135, 136, 136, 137, 138, 138, 139, 139, 140, 141, 141, 142, 143, 143, 147, 148, 148, 149, 150, 151, 152, 152, 152, 152, 152, 154, 156, 158, 159, 159, 160, 161, 161, 162, 163, 165, 166, 168, 170, 172, 173, 173, 176, 176, 176, 178, 179, 180, 180, 180, 181, 181, 182, 182, 182, 183, 183, 186, 186, 187, 189, 189, 191, 192, 192, 192, 193, 196, 197, 199, 200, 203, 203, 205, 205, 205, 207, 207, 208, 209, 209, 209, 210, 210, 211, 211, 215, 215, 215, 218, 221, 222, 222, 222, 223, 224, 226, 228, 228, 229, 234, 234, 234, 235, 236, 237, 239, 239, 240, 241, 242, 242, 242, 243, 243, 245, 246, 247, 248, 249, 249, 250, 250, 251, 253, 256, 257, 257, 257, 258, 259, 259, 259, 260, 260, 261, 262, 263, 263, 263, 264, 265, 267, 268, 268, 273, 273, 273, 274, 275, 275, 276, 276, 277, 278, 278, 279, 279, 280, 280, 281, 283, 285, 285, 286, 287, 288, 291, 293, 293, 294, 296, 296, 297, 299, 299, 300, 302, 303, 305, 306, 306, 307, 308, 310, 311, 311, 312, 314, 315, 315, 317, 317, 318, 319, 321, 323, 323, 324, 326, 327, 327, 329, 331, 332, 334, 334, 335, 336, 338, 338, 338, 341, 341, 342, 342, 342, 343, 343, 343, 343, 343, 344, 344, 345, 346, 346, 346, 347, 349, 350, 350, 351, 354, 355, 356, 357, 362, 363, 363, 365, 367, 370, 371, 371, 371, 372, 373, 373, 377, 380, 381, 381, 382, 383, 384, 385, 386, 386, 387, 388, 388, 389, 389, 392, 392, 392, 394, 395, 396, 398, 399, 400, 402, 403, 404, 404, 404, 405, 406, 407, 408, 408, 408, 408, 409, 410, 410, 411, 412, 413, 413, 413, 414, 414, 415, 417, 417, 420, 421, 421, 423, 424, 425, 426, 426, 426, 429, 430, 431, 431, 432, 432, 432, 434, 434, 434, 434, 435, 436, 436, 437, 438, 440, 440, 442, 444, 446, 447, 448, 448, 450, 452, 452, 453, 453, 454, 454, 457, 458, 458, 458, 459, 459, 460, 460, 461, 461, 464, 465, 465, 466, 467, 468, 469, 470, 470, 470, 471, 471, 473, 473, 476, 477, 479, 480, 481, 482, 482, 484, 484, 485, 487, 487, 487, 487, 488, 489, 490, 490, 491, 491, 491, 492, 494, 495, 495, 496, 496, 497, 499, 500, 500, 501, 501, 503, 503, 504, 506, 509, 510, 514, 516, 517, 517, 518, 518, 518, 519, 520, 520, 522, 523, 524, 526, 526, 527, 528, 529, 529, 529, 529, 530, 531, 532, 533, 536, 536, 538, 539, 541, 542, 544, 545, 546, 546, 546, 546, 547, 549, 550, 550, 552, 554, 556, 556, 556, 557, 557, 559, 560, 561, 562, 562, 562, 565, 565, 565, 568, 568, 568, 568, 572, 572, 575, 576, 577, 578, 580, 580, 580, 581, 582, 583, 583, 584, 588, 588, 589, 592, 594, 594, 594, 594, 597, 599, 600, 601, 602, 603, 603, 605, 607, 609, 609, 610, 612, 612, 612, 613, 615, 616, 616, 617, 620, 621, 625, 625, 625, 626, 626, 627, 629, 630, 632, 633, 633, 634, 639, 640, 640, 644, 646, 646, 646, 646, 648, 649, 650, 652, 653, 654, 656, 657, 658, 659, 662, 664, 665, 669, 669, 670, 671, 672, 672, 673, 675, 675, 675, 678, 680, 681, 682, 682, 683, 684, 685, 685, 685, 689, 689, 689, 690, 691, 692, 692, 693, 693, 695, 697, 698, 700, 700, 704, 704, 705, 706, 708, 708, 709, 709, 709, 709, 714, 714, 714, 715, 715, 720, 723, 723, 724, 724, 726, 728, 728, 729, 729, 731, 733, 734, 735, 735, 736, 739, 739, 739, 739, 740, 740, 741, 743, 744, 745, 745, 747, 748, 748, 749, 750, 753, 753, 754, 754, 755, 755, 757, 758, 758, 760, 760, 761, 762, 764, 764, 765, 767, 770, 770, 771, 772, 773, 774, 777, 777, 778, 778, 780, 781, 784, 786, 786, 786, 786, 788, 791, 792, 793, 794, 798, 800, 802, 804, 804, 806, 806, 807, 808, 808, 808, 809, 809, 811, 811, 812, 812, 814, 815, 817, 817, 818, 818, 819, 820, 821, 821, 822, 823, 823, 824, 825, 825, 825, 825, 826, 829, 830, 831, 832, 832, 833, 836, 837, 838, 839, 842, 844, 844, 847, 848, 850, 851, 851, 852, 852, 852, 852, 854, 856, 856, 857, 857, 858, 861, 861, 862, 863, 864, 870, 871, 872, 872, 872, 875, 875, 875, 876, 877, 878, 880, 880, 880, 880, 881, 884, 885, 887, 888, 889, 889, 891, 892, 893, 895, 896, 897, 897, 902, 902, 902, 903, 903, 905, 907, 907, 909, 910, 910, 911, 913, 914, 915, 916, 917, 917, 919, 921, 922, 922, 924, 925, 926, 927, 927, 927, 927, 928, 928, 929, 930, 931, 931, 931, 932, 934, 934, 936, 938, 942, 944, 945, 946, 946, 947, 949, 950, 952, 953, 955, 957, 958, 962, 962, 963, 963, 964, 966, 966, 967, 967, 968, 968, 969, 971, 971, 973, 973, 973, 973, 974, 974, 975, 976, 976, 977, 979, 980, 981, 982, 984, 984, 984, 985, 986, 987, 987, 988, 989, 989, 990, 991, 992, 992, 992, 994, 995, 996, 997, 997]\n",
      "[0, 0, 0, 3, 4, 6, 7, 8, 8, 8, 11, 12, 12, 13, 15, 16, 17, 17, 17, 18, 20, 21, 23, 25, 25, 27, 29, 29, 31, 31, 33, 35, 35, 35, 40, 41, 47, 47, 47, 47, 47, 47, 49, 49, 50, 50, 51, 53, 53, 54, 56, 56, 56, 57, 57, 59, 59, 60, 60, 61, 61, 61, 62, 63, 64, 66, 68, 68, 68, 69, 70, 70, 71, 72, 72, 73, 77, 79, 80, 80, 80, 81, 82, 82, 82, 83, 84, 86, 88, 89, 89, 89, 91, 91, 91, 93, 94, 94, 94, 97, 97, 98, 98, 99, 99, 99, 100, 103, 103, 103, 104, 105, 106, 107, 108, 109, 111, 111, 112, 115, 117, 119, 119, 121, 124, 125, 125, 125, 127, 127, 128, 129, 129, 130, 131, 131, 131, 132, 134, 134, 135, 135, 136, 136, 137, 138, 138, 139, 139, 140, 141, 141, 142, 143, 143, 147, 148, 148, 149, 150, 151, 152, 152, 152, 152, 152, 154, 156, 158, 159, 159, 160, 161, 161, 162, 163, 165, 166, 168, 170, 172, 173, 173, 176, 176, 176, 178, 179, 180, 180, 180, 181, 181, 182, 182, 182, 183, 183, 186, 186, 187, 189, 189, 191, 192, 192, 192, 193, 196, 197, 199, 200, 203, 203, 205, 205, 205, 207, 207, 208, 209, 209, 209, 210, 210, 211, 211, 215, 215, 215, 218, 221, 222, 222, 222, 223, 224, 226, 228, 228, 229, 234, 234, 234, 235, 236, 237, 239, 239, 240, 241, 242, 242, 242, 243, 243, 245, 246, 247, 248, 249, 249, 250, 250, 251, 253, 256, 257, 257, 257, 258, 259, 259, 259, 260, 260, 261, 262, 263, 263, 263, 264, 265, 267, 268, 268, 273, 273, 273, 274, 275, 275, 276, 276, 277, 278, 278, 279, 279, 280, 280, 281, 283, 285, 285, 286, 287, 288, 291, 293, 293, 294, 296, 296, 297, 299, 299, 300, 302, 303, 305, 306, 306, 307, 308, 310, 311, 311, 312, 314, 315, 315, 317, 317, 318, 319, 321, 323, 323, 324, 326, 327, 327, 329, 331, 332, 334, 334, 335, 336, 338, 338, 338, 341, 341, 342, 342, 342, 343, 343, 343, 343, 343, 344, 344, 345, 346, 346, 346, 347, 349, 350, 350, 351, 354, 355, 356, 357, 362, 363, 363, 365, 367, 370, 371, 371, 371, 372, 373, 373, 377, 380, 381, 381, 382, 383, 384, 385, 386, 386, 387, 388, 388, 389, 389, 392, 392, 392, 394, 395, 396, 398, 399, 400, 402, 403, 404, 404, 404, 405, 406, 407, 408, 408, 408, 408, 409, 410, 410, 411, 412, 413, 413, 413, 414, 414, 415, 417, 417, 420, 421, 421, 423, 424, 425, 426, 426, 426, 429, 430, 431, 431, 432, 432, 432, 434, 434, 434, 434, 435, 436, 436, 437, 438, 440, 440, 442, 444, 446, 447, 448, 448, 450, 452, 452, 453, 453, 454, 454, 457, 458, 458, 458, 459, 459, 460, 460, 461, 461, 464, 465, 465, 466, 467, 468, 469, 470, 470, 470, 471, 471, 473, 473, 476, 477, 479, 480, 481, 482, 482, 484, 484, 485, 487, 487, 487, 487, 488, 489, 490, 490, 491, 491, 491, 492, 494, 495, 495, 496, 496, 497, 499, 500, 500, 501, 501, 503, 503, 504, 506, 509, 510, 514, 516, 517, 517, 518, 518, 518, 519, 520, 520, 522, 523, 524, 526, 526, 527, 528, 529, 529, 529, 529, 530, 531, 532, 533, 536, 536, 538, 539, 541, 542, 544, 545, 546, 546, 546, 546, 547, 549, 550, 550, 552, 554, 556, 556, 556, 557, 557, 559, 560, 561, 562, 562, 562, 565, 565, 565, 568, 568, 568, 568, 572, 572, 575, 576, 577, 578, 580, 580, 580, 581, 582, 583, 583, 584, 588, 588, 589, 592, 594, 594, 594, 594, 597, 599, 600, 601, 602, 603, 603, 605, 607, 609, 609, 610, 612, 612, 612, 613, 615, 616, 616, 617, 620, 621, 625, 625, 625, 626, 626, 627, 629, 630, 632, 633, 633, 634, 639, 640, 640, 644, 646, 646, 646, 646, 648, 649, 650, 652, 653, 654, 656, 657, 658, 659, 662, 664, 665, 669, 669, 670, 671, 672, 672, 673, 675, 675, 675, 678, 680, 681, 682, 682, 683, 684, 685, 685, 685, 689, 689, 689, 690, 691, 692, 692, 693, 693, 695, 697, 698, 700, 700, 704, 704, 705, 706, 708, 708, 709, 709, 709, 709, 714, 714, 714, 715, 715, 720, 723, 723, 724, 724, 726, 728, 728, 729, 729, 731, 733, 734, 735, 735, 736, 739, 739, 739, 739, 740, 740, 741, 743, 744, 745, 745, 747, 748, 748, 749, 750, 753, 753, 754, 754, 755, 755, 757, 758, 758, 760, 760, 761, 762, 764, 764, 765, 767, 770, 770, 771, 772, 773, 774, 777, 777, 778, 778, 780, 781, 784, 786, 786, 786, 786, 788, 791, 792, 793, 794, 798, 800, 802, 804, 804, 806, 806, 807, 808, 808, 808, 809, 809, 811, 811, 812, 812, 814, 815, 817, 817, 818, 818, 819, 820, 821, 821, 822, 823, 823, 824, 825, 825, 825, 825, 826, 829, 830, 831, 832, 832, 833, 836, 837, 838, 839, 842, 844, 844, 847, 848, 850, 851, 851, 852, 852, 852, 852, 854, 856, 856, 857, 857, 858, 861, 861, 862, 863, 864, 870, 871, 872, 872, 872, 875, 875, 875, 876, 877, 878, 880, 880, 880, 880, 881, 884, 885, 887, 888, 889, 889, 891, 892, 893, 895, 896, 897, 897, 902, 902, 902, 903, 903, 905, 907, 907, 909, 910, 910, 911, 913, 914, 915, 916, 917, 917, 919, 921, 922, 922, 924, 925, 926, 927, 927, 927, 927, 928, 928, 929, 930, 931, 931, 931, 932, 934, 934, 936, 938, 942, 944, 945, 946, 946, 947, 949, 950, 952, 953, 955, 957, 958, 962, 962, 963, 963, 964, 966, 966, 967, 967, 968, 968, 969, 971, 971, 973, 973, 973, 973, 974, 974, 975, 976, 976, 977, 979, 980, 981, 982, 984, 984, 984, 985, 986, 987, 987, 988, 989, 989, 990, 991, 992, 992, 992, 994, 995, 996, 997, 997]\n"
     ]
    }
   ],
   "source": [
    "# generate large list\n",
    "arr = [random.randint(0, 1000) for i in range(1000)]\n",
    "print(arr)\n",
    "\n",
    "#sort\n",
    "print(bubble_sort_iterativo(arr))\n",
    "print(bubble_sort_recursivo(arr))"
   ]
  },
  {
   "attachments": {},
   "cell_type": "markdown",
   "metadata": {},
   "source": [
    "### 2) Faça um programa iterativo e outro recursivo para testar se um número é um palíndromo."
   ]
  },
  {
   "cell_type": "code",
   "execution_count": 14,
   "metadata": {},
   "outputs": [],
   "source": [
    "def checar_palindromo_iterativo(num):\n",
    "    # Convertemos o número em uma string para facilitar a comparação\n",
    "    num_str = str(num)\n",
    "\n",
    "    # Inicializamos dois ponteiros no início e no fim da string\n",
    "    left = 0\n",
    "    right = len(num_str) - 1\n",
    "\n",
    "    # Comparamos os caracteres das duas extremidades, movendo em direção ao centro\n",
    "    while left < right:\n",
    "        # Se os caracteres nas posições atuais não forem iguais, não é um palíndromo\n",
    "        if num_str[left] != num_str[right]:\n",
    "            return False\n",
    "\n",
    "        # Movemos os ponteiros para mais perto do centro\n",
    "        left += 1\n",
    "        right -= 1\n",
    "\n",
    "    return True\n",
    "\n",
    "\n",
    "def checar_palindromo_recursivo(num):\n",
    "    # Convertemos o número em uma string para facilitar a comparação\n",
    "    num_str = str(num)\n",
    "\n",
    "    # Caso base: Se a string tiver 0 ou 1 caractere, é um palíndromo\n",
    "    if len(num_str) <= 1:\n",
    "        return True\n",
    "\n",
    "    # Caso recursivo: Verificamos se o primeiro e último caracteres são iguais\n",
    "    if num_str[0] != num_str[-1]:\n",
    "        return False\n",
    "\n",
    "    # Chamada recursiva: Verificamos se a substring sem o primeiro e último caracteres é um palíndromo\n",
    "    return checar_palindromo_recursivo(num_str[1:-1])"
   ]
  },
  {
   "attachments": {},
   "cell_type": "markdown",
   "metadata": {},
   "source": [
    "### 3) Faça um programa iterativo e outro recursivo para calcular a raiz digital de um número.\n",
    "A raiz digital de um inteiro n é dividido como o resultado da soma dos dígitos\n",
    "repetidamente até que apenas um único dígito sobra. Por exemplo, a raiz\n",
    "digital de 3799 pode ser calculada como:\n",
    "- Passo 1: 3+7+9+9=28\n",
    "- Passo 2: 2+8=10\n",
    "- Passo 3: 1+0=1"
   ]
  },
  {
   "cell_type": "code",
   "execution_count": 15,
   "metadata": {},
   "outputs": [],
   "source": [
    "# Implementação iterativa\n",
    "def calcular_raiz_digital_iterativa(num):\n",
    "    # Continua calculando a raiz digital até que reste apenas um dígito\n",
    "    while num >= 10:\n",
    "        # Converte o número em uma lista de dígitos\n",
    "        digitos = [int(d) for d in str(num)]\n",
    "        \n",
    "        # Soma os dígitos\n",
    "        num = sum(digitos)\n",
    "    \n",
    "    return num\n",
    "\n",
    "\n",
    "# Implementação recursiva\n",
    "def calcular_raiz_digital_recursiva(num):\n",
    "    # Caso base: Se o número possui apenas um dígito, retorna o próprio número\n",
    "    if num < 10:\n",
    "        return num\n",
    "    \n",
    "    # Converte o número em uma lista de dígitos\n",
    "    digitos = [int(d) for d in str(num)]\n",
    "    \n",
    "    # Soma os dígitos\n",
    "    soma = sum(digitos)\n",
    "    \n",
    "    # Chamada recursiva com a soma como novo número\n",
    "    return calcular_raiz_digital_recursiva(soma)\n"
   ]
  },
  {
   "attachments": {},
   "cell_type": "markdown",
   "metadata": {},
   "source": [
    "### 4) Implemente um programa para achar os dois pontos mais próximos em uma lista de tuplas (x1,y1),··· ,(xn,yn).\n",
    "Essa implementação é eficiente? Considere melhorar essa implementação."
   ]
  },
  {
   "cell_type": "code",
   "execution_count": 16,
   "metadata": {},
   "outputs": [],
   "source": [
    "def distancia(ponto1, ponto2):\n",
    "    return math.sqrt((ponto1[0] - ponto2[0]) ** 2 + (ponto1[1] - ponto2[1]) ** 2)\n",
    "\n",
    "\n",
    "def forca_bruta(pontos):\n",
    "    dist_min = float('inf')  # Inicializa a distância mínima com infinito\n",
    "    pontos_min = None\n",
    "\n",
    "    # Compara todos os pares de pontos e atualiza a distância mínima\n",
    "    for i in range(len(pontos)):\n",
    "        for j in range(i + 1, len(pontos)):\n",
    "            dist = distancia(pontos[i], pontos[j])\n",
    "            if dist < dist_min:\n",
    "                dist_min = dist\n",
    "                pontos_min = (pontos[i], pontos[j])\n",
    "\n",
    "    return dist_min, pontos_min\n",
    "\n",
    "\n",
    "def pontos_mais_proximos(pontos):\n",
    "    n = len(pontos)\n",
    "\n",
    "    # Caso base: Se houver apenas dois ou três pontos, utiliza-se o método de força bruta.\n",
    "    if n <= 3:\n",
    "        return forca_bruta(pontos)\n",
    "\n",
    "    # Ordenamos os pontos pela coordenada x.\n",
    "    pontos.sort()\n",
    "\n",
    "    meio = n // 2\n",
    "    metade_esquerda = pontos[:meio]\n",
    "    metade_direita = pontos[meio:]\n",
    "\n",
    "    # Chama recursivamente a função para encontrar a distância mínima em cada grupo.\n",
    "    dist_min_esquerda, pontos_esq = pontos_mais_proximos(metade_esquerda)\n",
    "    dist_min_direita, pontos_dir = pontos_mais_proximos(metade_direita)\n",
    "\n",
    "    # Determina a distância mínima entre as duas distâncias calculadas.\n",
    "    dist_min = min(dist_min_esquerda, dist_min_direita)\n",
    "\n",
    "    # Encontra os pontos que estão mais próximos da linha de divisão do que a distância mínima encontrada.\n",
    "    # Salvamos esses pontos em uma \"faixa\" que tem tamanho 2 * dist_min.\n",
    "    faixa = []\n",
    "    for ponto in pontos:\n",
    "        if abs(ponto[0] - pontos[meio][0]) < dist_min:\n",
    "            faixa.append(ponto)\n",
    "\n",
    "    # Ordena os pontos na faixa pela coordenada y.\n",
    "    faixa.sort(key=lambda ponto: ponto[1])\n",
    "\n",
    "    # Encontra os pontos mais próximos na faixa e atualiza a distância mínima, se necessário.\n",
    "    dist_tira, pontos_tira = pontos_mais_proximos_faixa(faixa, dist_min)\n",
    "    if dist_tira < dist_min:\n",
    "        return dist_tira, pontos_tira\n",
    "\n",
    "    # Caso os pontos mais próximos não estejam na faixa, retorna a distância mínima encontrada.\n",
    "    dist_min, pontos_min = dist_min_esquerda, pontos_esq\n",
    "    if dist_min_direita < dist_min:\n",
    "        dist_min, pontos_min = dist_min_direita, pontos_dir\n",
    "\n",
    "    return dist_min, pontos_min\n",
    "\n",
    "# Função para encontrar os pontos mais próximos na faixa ao longo da linha de divisão.\n",
    "def pontos_mais_proximos_faixa(faixa, d):\n",
    "    dist_min = d\n",
    "    pontos_min = None\n",
    "    tamanho_faixa = len(faixa)\n",
    "\n",
    "    for i in range(tamanho_faixa):\n",
    "        for j in range(i + 1, tamanho_faixa):\n",
    "            if faixa[j][1] - faixa[i][1] >= dist_min:\n",
    "                break\n",
    "            dist = distancia(faixa[i], faixa[j])\n",
    "            if dist < dist_min:\n",
    "                dist_min = dist\n",
    "                pontos_min = (faixa[i], faixa[j])\n",
    "\n",
    "    return dist_min, pontos_min"
   ]
  },
  {
   "cell_type": "code",
   "execution_count": 17,
   "metadata": {},
   "outputs": [],
   "source": [
    "# Exemplo de uso\n",
    "num_pontos = 10000\n",
    "faixa_minima, faixa_maxima = -1000000, 1000000\n",
    "pontos = [(random.randint(faixa_minima, faixa_maxima), random.randint(faixa_minima, faixa_maxima)) for _ in range(num_pontos)]"
   ]
  },
  {
   "cell_type": "code",
   "execution_count": 18,
   "metadata": {},
   "outputs": [
    {
     "name": "stdout",
     "output_type": "stream",
     "text": [
      "A menor distância é 302.98844862469593\n",
      "Os pontos mais próximos são ((-829708, -580039), (-829997, -579948))\n"
     ]
    }
   ],
   "source": [
    "# Chamada da função principal para encontrar os pontos mais próximos.\n",
    "distancia_minima, pontos_mais_prox = forca_bruta(pontos)\n",
    "\n",
    "print(\"A menor distância é\", distancia_minima)\n",
    "print(\"Os pontos mais próximos são\", pontos_mais_prox)"
   ]
  },
  {
   "cell_type": "code",
   "execution_count": 19,
   "metadata": {},
   "outputs": [
    {
     "name": "stdout",
     "output_type": "stream",
     "text": [
      "A menor distância é 302.98844862469593\n",
      "Os pontos mais próximos são ((-829708, -580039), (-829997, -579948))\n"
     ]
    }
   ],
   "source": [
    "# Chamada da função principal para encontrar os pontos mais próximos.\n",
    "distancia_minima, pontos_mais_prox = pontos_mais_proximos(pontos)\n",
    "\n",
    "print(\"A menor distância é\", distancia_minima)\n",
    "print(\"Os pontos mais próximos são\", pontos_mais_prox)"
   ]
  },
  {
   "attachments": {},
   "cell_type": "markdown",
   "metadata": {},
   "source": [
    "### 5) Represente cada matriz como uma lista de listas e implemente um programa que calcule o produto de duas matrizes."
   ]
  },
  {
   "cell_type": "code",
   "execution_count": 20,
   "metadata": {},
   "outputs": [],
   "source": [
    "def produto_de_matrizes(matriz1, matriz2):\n",
    "    # Verifica se as matrizes podem ser multiplicadas\n",
    "    if len(matriz1[0]) != len(matriz2):\n",
    "        raise ValueError(\"Não é possível multiplicar as matrizes! colunas1 != linhas2\")\n",
    "\n",
    "    # Obtém as dimensões das matrizes\n",
    "    linhas1 = len(matriz1)\n",
    "    colunas1 = len(matriz1[0])\n",
    "    colunas2 = len(matriz2[0])\n",
    "\n",
    "    # Cria uma matriz de resultado preenchida com zeros\n",
    "    resultado = [[0 for _ in range(colunas2)] for _ in range(linhas1)]\n",
    "\n",
    "    # Realiza a multiplicação das matrizes\n",
    "    for i in range(linhas1):\n",
    "        for j in range(colunas2):\n",
    "            for k in range(colunas1):\n",
    "                resultado[i][j] += matriz1[i][k] * matriz2[k][j]\n",
    "\n",
    "    return resultado"
   ]
  },
  {
   "cell_type": "code",
   "execution_count": 21,
   "metadata": {},
   "outputs": [
    {
     "name": "stdout",
     "output_type": "stream",
     "text": [
      "[[19, 22], [43, 50]]\n"
     ]
    }
   ],
   "source": [
    "matrix1 = [[1, 2], [3, 4]]\n",
    "matrix2 = [[5, 6], [7, 8]]\n",
    "\n",
    "result = produto_de_matrizes(matrix1, matrix2)\n",
    "print(result)"
   ]
  },
  {
   "attachments": {},
   "cell_type": "markdown",
   "metadata": {},
   "source": [
    "### 6) Considere a representação de um polinômio de grau n dada por uma lista de tamanho n +1. Então escreva uma função que receba de entrada 2 polinômios de graus quaisquer, gere uma lista de saída com o polinômio produto."
   ]
  },
  {
   "cell_type": "code",
   "execution_count": 22,
   "metadata": {},
   "outputs": [],
   "source": [
    "def multiplicar_polinomios(poly1, poly2):\n",
    "    # Obtém os graus dos polinômios\n",
    "    grau1 = len(poly1) - 1\n",
    "    grau2 = len(poly2) - 1\n",
    "\n",
    "    # Calcula o grau do polinômio resultante\n",
    "    grau_resultante = grau1 + grau2\n",
    "\n",
    "    # Cria uma lista de zeros para armazenar o polinômio produto\n",
    "    produto = [0] * (grau_resultante + 1)\n",
    "\n",
    "    # Realiza a multiplicação dos polinômios\n",
    "    for i in range(grau1 + 1):\n",
    "        for j in range(grau2 + 1):\n",
    "            produto[i + j] += poly1[i] * poly2[j]\n",
    "\n",
    "    return produto"
   ]
  },
  {
   "cell_type": "code",
   "execution_count": 23,
   "metadata": {},
   "outputs": [
    {
     "name": "stdout",
     "output_type": "stream",
     "text": [
      "[8, -8, -2, 2]\n"
     ]
    }
   ],
   "source": [
    "poly1 = [2, -3, 1]  # 2x^2 - 3x + 1\n",
    "poly2 = [4, 2]     # 4x + 2\n",
    "\n",
    "result = multiplicar_polinomios(poly1, poly2)\n",
    "print(result)"
   ]
  },
  {
   "attachments": {},
   "cell_type": "markdown",
   "metadata": {},
   "source": [
    "### 7) Use numpy para calcular em uma linha e de forma vetorizada o produto interno entre dois vetores."
   ]
  },
  {
   "cell_type": "code",
   "execution_count": 24,
   "metadata": {},
   "outputs": [
    {
     "name": "stdout",
     "output_type": "stream",
     "text": [
      "32\n"
     ]
    }
   ],
   "source": [
    "vector1 = np.array([1, 2, 3])\n",
    "vector2 = np.array([4, 5, 6])\n",
    "\n",
    "dot_product = np.dot(vector1, vector2)\n",
    "print(dot_product)"
   ]
  },
  {
   "attachments": {},
   "cell_type": "markdown",
   "metadata": {},
   "source": [
    "# Orientação a Objetos"
   ]
  },
  {
   "attachments": {},
   "cell_type": "markdown",
   "metadata": {},
   "source": [
    "### 1) Crie uma classe “Polinomials\" que tenha os métodos que permitam somar, multiplicar e escrever no console os polinômios."
   ]
  },
  {
   "cell_type": "code",
   "execution_count": 25,
   "metadata": {},
   "outputs": [],
   "source": [
    "class Polynomials:\n",
    "    def __init__(self, coeffs):\n",
    "        self.coeffs = coeffs[::-1]  # Reverte a ordem dos coeficientes para facilitar a manipulação\n",
    "\n",
    "    def __str__(self):\n",
    "        grau = len(self.coeffs) - 1\n",
    "        termos = []\n",
    "\n",
    "        for potencia, coef in enumerate(self.coeffs):\n",
    "            termo = f\"{coef}x^{grau - potencia}\"\n",
    "            termos.append(termo)\n",
    "\n",
    "        return \" + \".join(termos)\n",
    "\n",
    "    def __add__(self, outro):\n",
    "        # Determina o grau máximo entre os dois polinômios\n",
    "        grau_maximo = max(len(self.coeffs), len(outro.coeffs))\n",
    "\n",
    "        # Cria listas de coeficientes com o mesmo comprimento\n",
    "        coeffs1 = self.coeffs + [0] * (grau_maximo - len(self.coeffs))\n",
    "        coeffs2 = outro.coeffs + [0] * (grau_maximo - len(outro.coeffs))\n",
    "\n",
    "        # Realiza a adição dos polinômios\n",
    "        coeffs_resultantes = [coef1 + coef2 for coef1, coef2 in zip(coeffs1, coeffs2)]\n",
    "\n",
    "        return Polynomials(coeffs_resultantes[::-1])\n",
    "\n",
    "    def __mul__(self, outro):\n",
    "        # Determina o grau do polinômio resultante\n",
    "        grau_resultante = len(self.coeffs) + len(outro.coeffs) - 2\n",
    "\n",
    "        # Inicializa os coeficientes resultantes com zeros\n",
    "        coeffs_resultantes = [0] * (grau_resultante + 1)\n",
    "\n",
    "        # Realiza a multiplicação dos polinômios\n",
    "        for i, coef1 in enumerate(self.coeffs):\n",
    "            for j, coef2 in enumerate(outro.coeffs):\n",
    "                coeffs_resultantes[i + j] += coef1 * coef2\n",
    "\n",
    "        return Polynomials(coeffs_resultantes[::-1])"
   ]
  },
  {
   "cell_type": "code",
   "execution_count": 26,
   "metadata": {},
   "outputs": [
    {
     "name": "stdout",
     "output_type": "stream",
     "text": [
      "9x^2 + 7x^1 + 5x^0\n",
      "18x^4 + 27x^3 + 28x^2 + 13x^1 + 4x^0\n"
     ]
    }
   ],
   "source": [
    "poly1 = Polynomials([1, 2, 3])  # 3x^2 + 2x + 1\n",
    "poly2 = Polynomials([4, 5, 6])  # 6x^2 + 5x + 4\n",
    "\n",
    "# Adição \n",
    "result_add = poly1 + poly2\n",
    "print(result_add) \n",
    "\n",
    "# Multiplicação\n",
    "result_mul = poly1 * poly2\n",
    "print(result_mul) "
   ]
  },
  {
   "attachments": {},
   "cell_type": "markdown",
   "metadata": {},
   "source": [
    "### 2) Crie uma classe “StraightLine\" que defina uma reta a partir de 2 pontos, cheque se uma outra reta é igual a ela e cheque se uma outra reta é paralela a ela."
   ]
  },
  {
   "cell_type": "code",
   "execution_count": 27,
   "metadata": {},
   "outputs": [],
   "source": [
    "class StraightLine:\n",
    "    def __init__(self, ponto1, ponto2):\n",
    "        self.ponto1 = ponto1\n",
    "        self.ponto2 = ponto2\n",
    "\n",
    "    def __str__(self):\n",
    "        return f\"Reta que cruza {self.ponto1} e {self.ponto2}\"\n",
    "    \n",
    "    def __eq__(self, outro):\n",
    "        # Verifica se as linhas são iguais com base nas inclinações e intercepções\n",
    "        return self.inclinacao() == outro.inclinacao() and self.intercepcao() == outro.intercepcao()\n",
    "\n",
    "    def inclinacao(self):\n",
    "        # Calcula a inclinação da linha\n",
    "        x1, y1 = self.ponto1\n",
    "        x2, y2 = self.ponto2\n",
    "        return (y2 - y1) / (x2 - x1)\n",
    "\n",
    "    def intercepcao(self):\n",
    "        # Calcula a intercepção y da linha\n",
    "        x1, y1 = self.ponto1\n",
    "        return y1 - self.inclinacao() * x1\n",
    "\n",
    "    def paralela(self, outro):\n",
    "        # Verifica se as linhas são paralelas com base em suas inclinações\n",
    "        return self.inclinacao() == outro.inclinacao()"
   ]
  },
  {
   "cell_type": "code",
   "execution_count": 28,
   "metadata": {},
   "outputs": [
    {
     "name": "stdout",
     "output_type": "stream",
     "text": [
      "True\n",
      "False\n",
      "True\n",
      "False\n"
     ]
    }
   ],
   "source": [
    "line1 = StraightLine((1, 2), (3, 4))\n",
    "line2 = StraightLine((2, 3), (4, 5))\n",
    "line3 = StraightLine((1, 2), (3, 6))\n",
    "\n",
    "print(line1 == line2) \n",
    "print(line1 == line3)\n",
    "\n",
    "print(line1.paralela(line2))\n",
    "print(line1.paralela(line3))  "
   ]
  },
  {
   "attachments": {},
   "cell_type": "markdown",
   "metadata": {},
   "source": [
    "### 3) Crie uma classe “PlotStraightLine\" que seja uma filha da classe do exercício anterior e desenhe a reta no eixo xy."
   ]
  },
  {
   "cell_type": "code",
   "execution_count": 29,
   "metadata": {},
   "outputs": [],
   "source": [
    "class PlotStraightLine(StraightLine):\n",
    "    def __init__(self, ponto1, ponto2):\n",
    "        super().__init__(ponto1, ponto2)\n",
    "\n",
    "    def desenhar_linha(self):\n",
    "        x_valores = [self.ponto1[0], self.ponto2[0]]\n",
    "        y_valores = [self.ponto1[1], self.ponto2[1]]\n",
    "        plt.plot(x_valores, y_valores)\n",
    "        plt.xlabel('X')\n",
    "        plt.ylabel('Y')\n",
    "        plt.title('Gráfico de Reta')\n",
    "        plt.grid(True)\n",
    "        plt.show()"
   ]
  },
  {
   "cell_type": "code",
   "execution_count": 30,
   "metadata": {},
   "outputs": [
    {
     "data": {
      "image/png": "[encoded data removed]",
      "text/plain": [
       "<Figure size 640x480 with 1 Axes>"
      ]
     },
     "metadata": {},
     "output_type": "display_data"
    }
   ],
   "source": [
    "line = PlotStraightLine((1, 2), (5, 6))\n",
    "line.desenhar_linha()"
   ]
  },
  {
   "attachments": {},
   "cell_type": "markdown",
   "metadata": {},
   "source": [
    "# Programação Funcional"
   ]
  },
  {
   "attachments": {},
   "cell_type": "markdown",
   "metadata": {},
   "source": [
    "### 1) Faça um loop para encontrar todos os multiplos de 3 cujo o último algarismo é 1 no intervalo [0,n]. Compare o tempo de execução de um loop convencional com um loop usando compreensão de listas."
   ]
  },
  {
   "cell_type": "code",
   "execution_count": 54,
   "metadata": {},
   "outputs": [
    {
     "name": "stdout",
     "output_type": "stream",
     "text": [
      "3.3324942908948287 segundos\n",
      "\n",
      "3.2524493749951944 segundos\n",
      "\n"
     ]
    }
   ],
   "source": [
    "import time\n",
    "\n",
    "# Loop convencional\n",
    "def encontrar_mult(n):\n",
    "    multiplos = []\n",
    "    for i in range(n + 1):\n",
    "        if i % 3 == 0 and i % 10 == 1:\n",
    "            multiplos.append(i)\n",
    "    return multiplos\n",
    "\n",
    "# Compreensão de listas\n",
    "def encontrar_mult_lc(n):\n",
    "    return [i for i in range(n + 1) if i % 3 == 0 and i % 10 == 1]\n",
    "\n",
    "n = 10000000\n",
    "mult = encontrar_mult(n)\n",
    "mult_lc = encontrar_mult_lc(n)\n",
    "print(mult[:10], len(mult))\n",
    "print(mult_lc[:10], len(mult_lc))\n",
    "\n",
    "# Comparando os resultados e tempos de execução\n",
    "print(timeit.timeit(lambda: encontrar_mult(n), number=1), \"segundos\\n\")\n",
    "print(timeit.timeit(lambda: encontrar_mult_lc(n), number=1), \"segundos\\n\")"
   ]
  },
  {
   "attachments": {},
   "cell_type": "markdown",
   "metadata": {},
   "source": [
    "### 2) Use compreensão de listas para encontrar todos os pares (i,j) tal que i ∈ {1,2,3,4,5} e j ∈ {a,b,c}."
   ]
  },
  {
   "cell_type": "code",
   "execution_count": null,
   "metadata": {},
   "outputs": [],
   "source": [
    "print([i for i in range(1,6)])\n",
    "pairs = [(i, j) for i in range(1, 6) for j in ['a', 'b', 'c']]\n",
    "print(pairs)"
   ]
  },
  {
   "attachments": {},
   "cell_type": "markdown",
   "metadata": {},
   "source": [
    "### 3) Dado um número real e uma lista com os coeficientes de um polinômio [a0,...,an], use map e reduce para calcular o valor de um polinômio num ponto."
   ]
  },
  {
   "cell_type": "code",
   "execution_count": 43,
   "metadata": {},
   "outputs": [
    {
     "name": "stdout",
     "output_type": "stream",
     "text": [
      "O valor do polinômio em x = 2.5 é 18.25\n"
     ]
    }
   ],
   "source": [
    "from functools import reduce\n",
    "\n",
    "def avaliar_polynomial(x, coefs):\n",
    "    potencias = range(len(coefs))\n",
    "    termos = map(lambda potencia, coef: coef * (x ** potencia), potencias, coefs)\n",
    "    resultado = reduce(lambda a, b: a + b, termos) # equivalente a sum(termos)\n",
    "    return resultado\n",
    "\n",
    "# Exemplo de uso\n",
    "x = 2.5\n",
    "coeficientes = [2, -1, 3] \n",
    "\n",
    "valor_polinomio = avaliar_polynomial(x, coeficientes)\n",
    "print(\"O valor do polinômio em x =\", x, \"é\", valor_polinomio)"
   ]
  },
  {
   "attachments": {},
   "cell_type": "markdown",
   "metadata": {},
   "source": [
    "### 4) Crie uma closure para multiplicar números por um número fixo."
   ]
  },
  {
   "cell_type": "code",
   "execution_count": 44,
   "metadata": {},
   "outputs": [
    {
     "name": "stdout",
     "output_type": "stream",
     "text": [
      "50\n"
     ]
    }
   ],
   "source": [
    "def multiplicador_por_numero_fixo(numero_fixo):\n",
    "    def multiplicar(numero):\n",
    "        return numero * numero_fixo\n",
    "    return multiplicar\n",
    "\n",
    "# Exemplo de uso\n",
    "multiplicar_por_5 = multiplicador_por_numero_fixo(5)\n",
    "resultado = multiplicar_por_5(10)\n",
    "print(resultado)  # Output: 50"
   ]
  },
  {
   "attachments": {},
   "cell_type": "markdown",
   "metadata": {},
   "source": [
    "### 5) Escreva um código seguindo os princípios de programação funcional para encontrar todos os primos em um determinado intervalo."
   ]
  },
  {
   "cell_type": "code",
   "execution_count": 46,
   "metadata": {},
   "outputs": [
    {
     "name": "stdout",
     "output_type": "stream",
     "text": [
      "Primos no intervalo: [2, 3, 5, 7, 11, 13, 17, 19]\n"
     ]
    }
   ],
   "source": [
    "def checar_primo(n):\n",
    "    if n < 2:\n",
    "        return False\n",
    "    # checa se é divisível por algum número entre 2 e raiz(n)\n",
    "    for i in range(2, math.isqrt(n) + 1): \n",
    "        if n % i == 0:\n",
    "            return False\n",
    "    return True\n",
    "\n",
    "def encontrar_primos(start, end):\n",
    "    primos = filter(checar_primo, range(start, end + 1))\n",
    "    return list(primos)\n",
    "\n",
    "primos = encontrar_primos(1, 20)\n",
    "print(f\"Primos no intervalo: {primos}\")"
   ]
  }
 ],
 "metadata": {
  "kernelspec": {
   "display_name": ".venv",
   "language": "python",
   "name": "python3"
  },
  "language_info": {
   "codemirror_mode": {
    "name": "ipython",
    "version": 3
   },
   "file_extension": ".py",
   "mimetype": "text/x-python",
   "name": "python",
   "nbconvert_exporter": "python",
   "pygments_lexer": "ipython3",
   "version": "3.11.3"
  },
  "orig_nbformat": 4
 },
 "nbformat": 4,
 "nbformat_minor": 2
}
