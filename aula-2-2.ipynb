{
 "cells": [
  {
   "cell_type": "code",
   "execution_count": 1,
   "metadata": {},
   "outputs": [],
   "source": [
    "import timeit\n",
    "import math\n",
    "import matplotlib.pyplot as plt\n",
    "import numpy as np\n",
    "import pandas as pd\n",
    "import random\n",
    "import statsmodels.api as sm\n",
    "from statsmodels.sandbox.regression.gmm import IV2SLS\n",
    "from statsmodels.sandbox.regression.gmm import IVGMM\n",
    "from statsmodels.api import add_constant\n",
    "import patsy as ps\n",
    "import wooldridge"
   ]
  },
  {
   "attachments": {},
   "cell_type": "markdown",
   "metadata": {},
   "source": [
    "# Regressão Linear"
   ]
  },
  {
   "attachments": {},
   "cell_type": "markdown",
   "metadata": {},
   "source": [
    "#### 1) Um problema de interesse para autoridades de saúde é determinar os efeitos do fumo durante a gravidez na saúde do bebê. Uma medida da saúde do bebê é o peso no nascimento (bwght); um peso no nascimento muito baixo pode colocar o bebê em risco de contrair várias doenças. Uma vez que fatores além do tabagismo que afetam o peso no nascimento provavelmente estão correlacionados com o tabagismo, devemos levar esses fatores em consideração. Por exemplo, uma renda mais alta geralmente resulta em acesso a melhor atendimento pré-natal, bem como melhor nutrição para a mãe. Uma equação que reconhece isso é:"
   ]
  },
  {
   "attachments": {},
   "cell_type": "markdown",
   "metadata": {},
   "source": [
    "$$\\text{bwght} = \\beta_1 \\text{cigs} + \\beta_2 \\text{faminc} + u$$"
   ]
  },
  {
   "attachments": {},
   "cell_type": "markdown",
   "metadata": {},
   "source": [
    "##### (i) Qual é o sinal mais provável para $\\beta_2$?"
   ]
  },
  {
   "attachments": {},
   "cell_type": "markdown",
   "metadata": {},
   "source": [
    "##### (ii) Você acha que cigs e faminc provavelmente estão correlacionados? Explique por que a correlação pode ser positiva ou negativa."
   ]
  },
  {
   "attachments": {},
   "cell_type": "markdown",
   "metadata": {},
   "source": [
    "##### (iii) Agora, estime a equação com e sem faminc, usando os dados de BWGHT do Wooldridge. Relate os resultados em forma de equação, incluindo o tamanho da amostra e R-quadrado. Discuta seus resultados, focando se  inclusão de faminc muda substancialmente o efeito estimado de cigs em bwght."
   ]
  },
  {
   "attachments": {},
   "cell_type": "markdown",
   "metadata": {},
   "source": [
    "#### 2) Considere o seguinte modelo para explicar o comportamento do sono:"
   ]
  },
  {
   "attachments": {},
   "cell_type": "markdown",
   "metadata": {},
   "source": [
    "$$ \\text{sleep} = \\beta_0 + \\beta_1 \\text{totwork} + \\beta_2 \\text{educ} + \\beta_3 \\text{age} + \\beta_4 \\text{age}^2 + \\beta_5 \\text{yngkid} + \\beta_6 \\text{male} + u"
   ]
  },
  {
   "attachments": {},
   "cell_type": "markdown",
   "metadata": {},
   "source": [
    "##### (i) Escreva um modelo que permita que a variância de u difira entre homens e mulheres. A variância não deve depender de outros fatores."
   ]
  },
  {
   "attachments": {},
   "cell_type": "markdown",
   "metadata": {},
   "source": [
    "No modelo pedido, a variância de u deve depender apenas do gênero. Portanto, temos:\n",
    "$$Var(u|totwrk,educ,age,yngkid,male) = Var(u|male) = \\delta_0 + \\delta_1 male$$\n",
    "A variância para mulheres será apenas $\\delta_0$ e para homens $\\delta_0 + \\delta_1$. A diferença entre variâncias será $\\delta_1$."
   ]
  },
  {
   "attachments": {},
   "cell_type": "markdown",
   "metadata": {},
   "source": [
    "##### (ii) Use os dados em SLEEP75 (Wooldridge) para estimar os parâmetros do modelo para heteroscedasticidade. (Você precisa primeiro estimar a equação de sono por Mínimos Quadrados Ordinários (OLS) para obter os resíduos de OLS.) A variância estimada de u é maior para homens ou para mulheres? \n",
    "\n",
    "##### (iii) A variância de u é estatisticamente diferente para homens e mulheres?"
   ]
  },
  {
   "attachments": {},
   "cell_type": "markdown",
   "metadata": {},
   "source": [
    "#### 3) Os dados em FERTIL2 (wooldridge) incluem, para mulheres em Botsuana durante 1988, informações sobre o número de filhos, anos de educação, idade e variáveis de status religioso e econômico."
   ]
  },
  {
   "attachments": {},
   "cell_type": "markdown",
   "metadata": {},
   "source": [
    "##### (i) Estime o modelo abaixo por Mínimos Quadrados Ordinários (OLS) e interprete as estimativas. Em particular, mantendo a idade fixa, qual é o efeito estimado de mais um ano de educação na fertilidade? Se 100 mulheres recebessem mais um ano de educação, quantos filhos a menos elas esperariam ter?"
   ]
  },
  {
   "attachments": {},
   "cell_type": "markdown",
   "metadata": {},
   "source": [
    "$$\\text{children} = \\beta_0 + \\beta_1 \\text{educ} + \\beta_2 \\text{age} + \\beta_3 \\text{age}^2 + u$$"
   ]
  },
  {
   "attachments": {},
   "cell_type": "markdown",
   "metadata": {},
   "source": [
    "##### (ii) A variável frsthalf é uma variável dummy que é igual a um se a mulher nasceu durante os primeiros seis meses do ano. Assumindo que frsthalf não está correlacionada com o termo de erro da parte (i), mostre que frsthalf é um candidato razoável para IV (variável instrumental) para educ. (Dica: Você precisa fazer uma regressão.)"
   ]
  },
  {
   "attachments": {},
   "cell_type": "markdown",
   "metadata": {},
   "source": [
    "##### (iii) Estime o modelo da parte (i) usando frsthalf como um IV para educ. Compare o efeito estimado da educação com a estimativa OLS da parte (i)."
   ]
  },
  {
   "attachments": {},
   "cell_type": "markdown",
   "metadata": {},
   "source": [
    "##### (iv) Adicione as variáveis binárias electric, tv e bicycle ao modelo e assuma que essas variáveis são exógenas. Estime a equação por OLS e 2SLS e compare os coeficientes estimados de educ. Interprete o coeficiente de tv e explique por que a posse de televisão tem um efeito negativo na fertilidade."
   ]
  }
 ],
 "metadata": {
  "kernelspec": {
   "display_name": ".venv",
   "language": "python",
   "name": "python3"
  },
  "language_info": {
   "codemirror_mode": {
    "name": "ipython",
    "version": 3
   },
   "file_extension": ".py",
   "mimetype": "text/x-python",
   "name": "python",
   "nbconvert_exporter": "python",
   "pygments_lexer": "ipython3",
   "version": "3.11.3"
  },
  "orig_nbformat": 4
 },
 "nbformat": 4,
 "nbformat_minor": 2
}
