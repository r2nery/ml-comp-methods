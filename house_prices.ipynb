{
 "cells": [
  {
   "cell_type": "code",
   "execution_count": null,
   "metadata": {},
   "outputs": [],
   "source": [
    "import os\n",
    "import numpy as np\n",
    "import pandas as pd\n",
    "import seaborn as sns\n",
    "import matplotlib.pyplot as plt\n",
    "import warnings\n",
    "from scipy.stats import norm\n",
    "from dython import nominal\n",
    "\n",
    "sns.set()\n",
    "warnings.filterwarnings('ignore')\n",
    "\n",
    "single_plot_w, single_plot_h = 1.5 * 3.8, 3.8\n",
    "ylim = (0, 10 ** 6)"
   ]
  },
  {
   "cell_type": "code",
   "execution_count": null,
   "metadata": {},
   "outputs": [],
   "source": [
    "# baixando dados (necessário kaggle.json, aceitar termos da competição)\n",
    "# !kaggle competitions download -c house-prices-advanced-regression-techniques -p 'data/house_prices'\n",
    "# !unzip -o data/house_prices/house-prices-advanced-regression-techniques.zip -d 'data/house_prices'\n",
    "# !rm data/house_prices/house-prices-advanced-regression-techniques.zip\n",
    "\n",
    "data_dir = os.path.join('data', 'house_prices')\n",
    "\n",
    "for dirname, _, filenames in os.walk(data_dir):\n",
    "    for filename in filenames:\n",
    "        print(os.path.join(dirname, filename))"
   ]
  },
  {
   "cell_type": "code",
   "execution_count": null,
   "metadata": {},
   "outputs": [],
   "source": [
    "df = pd.read_csv(os.path.join(data_dir, 'train.csv'))\n",
    "\n",
    "print(df.columns)\n",
    "df.head()"
   ]
  },
  {
   "cell_type": "code",
   "execution_count": null,
   "metadata": {},
   "outputs": [],
   "source": [
    "# Procurando valores faltantes:\n",
    "df.columns[df.isna().any()]"
   ]
  },
  {
   "cell_type": "code",
   "execution_count": null,
   "metadata": {},
   "outputs": [],
   "source": [
    "fig, (ax_box, ax_hist) = plt.subplots(2, sharex=True, gridspec_kw={\"height_ratios\": (.15, .85)}, figsize=(10, 6))\n",
    "\n",
    "# Boxplot\n",
    "_ = sns.boxplot(x=df['SalePrice'], ax=ax_box)\n",
    "ax_box.set(xlabel='')\n",
    "\n",
    "# Histograma\n",
    "_ = sns.distplot(df['SalePrice'], ax=ax_hist)  # Set norm_hist to False\n",
    "ax_hist.set_ylabel('Frequency')  # Set y-axis label to indicate frequency\n",
    "\n",
    "plt.show()\n",
    "print(f\"Medida de assimetria (Skewness): {df['SalePrice'].skew()}; Medida de curtose: {df['SalePrice'].kurt()}\")"
   ]
  },
  {
   "cell_type": "markdown",
   "metadata": {},
   "source": [
    "Assim podemos verificar que nossa distribuição é Leptocúrtica (curtose acima de 0, afunilada no pico em relação à normal) e Positivamente Assimétrica (Cauda mais longa à direita). \n",
    "\n",
    "Observamos também outliers, preços altos que se destoam dos demais.\n",
    "\n",
    "Aplicamos então uma transformação logarítmica em nosso target:"
   ]
  },
  {
   "cell_type": "code",
   "execution_count": null,
   "metadata": {},
   "outputs": [],
   "source": [
    "logSalePrice = np.log(df['SalePrice'])\n",
    "\n",
    "fig, (ax_box, ax_hist) = plt.subplots(2, sharex=True, gridspec_kw={\"height_ratios\": (.15, .85)}, figsize=(10, 6))\n",
    "_ = sns.boxplot(x=logSalePrice, ax=ax_box)\n",
    "ax_box.set(xlabel='')\n",
    "_ = sns.distplot(logSalePrice, ax=ax_hist, fit=norm)\n",
    "plt.show()\n",
    "\n",
    "print(f\"Medida de assimetria (Skewness): {logSalePrice.skew()}; Medida de curtose: {logSalePrice.kurt()}\")"
   ]
  },
  {
   "cell_type": "markdown",
   "metadata": {},
   "source": [
    "Com isso basicamente nos aproximamos de uma distribuição Normal, o que utilizaremos na etapa de modelagem."
   ]
  },
  {
   "cell_type": "markdown",
   "metadata": {},
   "source": [
    "#### Avaliação dos Features\n",
    "\n",
    "Se verificarmos a base de dados apenas pelo tipo em que os dados são codificados:"
   ]
  },
  {
   "cell_type": "code",
   "execution_count": null,
   "metadata": {},
   "outputs": [],
   "source": [
    "df.dtypes.value_counts()"
   ]
  },
  {
   "cell_type": "markdown",
   "metadata": {},
   "source": [
    "Mas não conseguimos na realidade concluir quais features são numéricas ou categóricas, pois a realidade da base é um pouco mais complexa, o que concluímos ao verificar a descrição das features disponível no arquivo data_description.txt.\n",
    "\n",
    "Após analisar todas as features listadas, podemos dividi-las em:\n",
    "\n",
    "18 features numéricos contínuos que se referem a dimensões / área (em pés / pés quadrados)\n",
    "\n",
    "1 feature numérico contínuo de valores monetários\n",
    "\n",
    "9 features numéricos discretos de quantidades referentes a alguma característica específica da casa\n",
    "\n",
    "5 features numéricos discretos relacionados a datas \n",
    "\n",
    "22 features categóricos ordinais \n",
    "\n",
    "24 features categóricos nominais"
   ]
  },
  {
   "cell_type": "markdown",
   "metadata": {},
   "source": [
    "#### Análise dos Features e de sua relação com o target\n",
    "\n",
    "Nessa etapa plotamos as distribuições de cada features, bem como os gráficos de dispersão, em relação ao preço de venda, para as features numéricas, e bloxplots para as features categóricas, divididos conforme grupos citados anteriormente.\n",
    "\n",
    "Assim, para os os features numéricos que se referem a dimensões / área:"
   ]
  },
  {
   "cell_type": "code",
   "execution_count": null,
   "metadata": {},
   "outputs": [],
   "source": [
    "area_features = [\n",
    "    \"LotFrontage\",\n",
    "    \"LotArea\",\n",
    "    \"MasVnrArea\",\n",
    "    \"BsmtFinSF1\",\n",
    "    \"BsmtFinSF2\",\n",
    "    \"BsmtUnfSF\",\n",
    "    \"TotalBsmtSF\",\n",
    "    \"1stFlrSF\",\n",
    "    \"2ndFlrSF\",\n",
    "    \"LowQualFinSF\",\n",
    "    \"GrLivArea\",\n",
    "    \"GarageArea\",\n",
    "    \"WoodDeckSF\",\n",
    "    \"OpenPorchSF\",\n",
    "    \"EnclosedPorch\",\n",
    "    \"3SsnPorch\",\n",
    "    \"ScreenPorch\",\n",
    "    \"PoolArea\",\n",
    "]"
   ]
  },
  {
   "cell_type": "code",
   "execution_count": null,
   "metadata": {},
   "outputs": [],
   "source": [
    "def plot_numeric(feature_list, ylim=(0, 10 ** 6), single_plot_w=1.5 * 3.8, single_plot_h=3.8):\n",
    "    m, n = len(feature_list), 2\n",
    "    print(m,n)\n",
    "    fig, ax = plt.subplots(m, n, figsize=(n * single_plot_w, m * single_plot_h))\n",
    "    for i, feature in enumerate(feature_list):\n",
    "        g = sns.distplot(df[feature], ax=ax[i][0], kde=False)\n",
    "        g = sns.regplot(x=df[feature], y=df['SalePrice'], ax=ax[i][1])\n",
    "        g.set(ylim=ylim)\n",
    "\n",
    "plot_numeric(area_features)"
   ]
  },
  {
   "cell_type": "markdown",
   "metadata": {},
   "source": [
    "Podemos traçar algumas conclusões com relação a estes gráficos:\n",
    "\n",
    "Como esperado, o preço de venda possui relação aproximadamente linear com a área útil total acima do nível do solo (GrLivArea), mas com considerável heteroscedasticidade. Também podemos observar alguns outliers (valores para áreas acima de 4000 pés quadrados), mas que segundo [ 1 ] não representam observações incorretas, e sim valores não usuais de venda;\n",
    "\n",
    "Outros features de área também possuem relação aproximadamente linear com o preço de venda, por exemplo, área total do porão;\n",
    "\n",
    "Moradores de Ames parecem não ser muito fãs de piscinas...\n",
    "\n",
    "Observação: notamos que, se utilizarmos a transformação logarítmica em SalePrices, reduzimos também heteroscedasticidade em relação às medidas de área. Por exemplo:"
   ]
  },
  {
   "cell_type": "code",
   "execution_count": null,
   "metadata": {},
   "outputs": [],
   "source": [
    "fig, ax = plt.subplots(figsize=(single_plot_w, single_plot_h))\n",
    "g = sns.regplot(x=df['GrLivArea'], y=np.log(df['SalePrice']))"
   ]
  },
  {
   "cell_type": "markdown",
   "metadata": {},
   "source": [
    "Com relação a valores monetários, possuímos apenas um feature, correspondente ao valor de itens adicionais que uma casa possuí, o qual plotamos por:"
   ]
  },
  {
   "cell_type": "code",
   "execution_count": null,
   "metadata": {},
   "outputs": [],
   "source": [
    "m, n = 1, 2\n",
    "fig, (ax1, ax2) = plt.subplots(m, n, figsize=(n * single_plot_w, m * single_plot_h))\n",
    "g1 = sns.distplot(df['MiscVal'], ax=ax1, kde=False)\n",
    "g2 = sns.regplot(x=df['MiscVal'], y=df['SalePrice'], ax=ax2)\n",
    "_ = g2.set(ylim=ylim)"
   ]
  },
  {
   "cell_type": "markdown",
   "metadata": {},
   "source": [
    "Aparentemente, os valores de itens adicionais, individualmente, parecem pouco informativos sobre o valor do imóvel.\n",
    "\n",
    "Para os features numéricos discretos de quantidades de itens específicos da casa:"
   ]
  },
  {
   "cell_type": "code",
   "execution_count": null,
   "metadata": {},
   "outputs": [],
   "source": [
    "def plot_categorical(feature_list, single_plot_w=1.5 * 3.8, single_plot_h=3.8):\n",
    "    m, n = len(feature_list), 2\n",
    "    fig, ax = plt.subplots(m, n, figsize=(n * single_plot_w, m * single_plot_h))\n",
    "    for i, feature in enumerate(feature_list):\n",
    "        g = sns.countplot(x=df[feature], ax=ax[i][0])\n",
    "        g = sns.boxplot(x=df[feature], y=df['SalePrice'], ax=ax[i][1])       \n",
    "        g.set_yticklabels(['{:,.0f}'.format(y) + 'K' for y in g.get_yticks()/1000])\n",
    "\n",
    "discrete_features = ['BsmtFullBath', 'BsmtHalfBath', 'FullBath', 'HalfBath', 'BedroomAbvGr', 'KitchenAbvGr', 'TotRmsAbvGrd', 'Fireplaces', 'GarageCars']\n",
    "plot_categorical(discrete_features)"
   ]
  },
  {
   "cell_type": "markdown",
   "metadata": {},
   "source": [
    "Podemos verificar que algumas quantidades possuem boa correlação com o preço do imóvel (ex: número de banheiros, quando diferente de zero), apesar de, em alguns casos, a relação para determinados valores não ser óbvia, possivelmente pela interação com outra variável ou pelo tamanho da amostra. Por exemplo, o número de quartos acima do nível do solo, em média, é correlacionado com o preço do imóvel quando de dois a quatro quartos, mas tal correlação não se mantém para o próximo quarto. Porém, o número de amostras para 1 ou 5 quartos é muito menor em relação às de 2 a 4 quartos. Algo semelhante ocorre para cômodos totais acima do nível do solo: temos uma relação quase linear em média, até chegarmos a 12 ou mais cômodos, quando também o número de amostras é bem menor. Para garagens, o mesmo, até a terceira garagem, mas uma quarta \"reduz\" o preço do imóvel (mas neste caso quase não há observações). Outro fato interessante é que ter duas cozinhas não parece ser um bom negócio..."
   ]
  },
  {
   "cell_type": "markdown",
   "metadata": {},
   "source": [
    "Para os features relacionados a datas:"
   ]
  },
  {
   "cell_type": "code",
   "execution_count": null,
   "metadata": {},
   "outputs": [],
   "source": [
    "date_features = ['YearBuilt', 'YearRemodAdd', 'GarageYrBlt', 'MoSold', 'YrSold']\n",
    "\n",
    "m, n = 3, 1\n",
    "\n",
    "fig, ax = plt.subplots(m, n, figsize=(n * single_plot_w * 4, m * single_plot_h * 2))\n",
    "for feature, subplot in zip(date_features[:3], ax.flatten()):\n",
    "    g = sns.countplot(x=df[feature], ax=subplot)\n",
    "    g.set_xticklabels(g.get_xticklabels(), rotation=90)"
   ]
  },
  {
   "cell_type": "code",
   "execution_count": null,
   "metadata": {},
   "outputs": [],
   "source": [
    "fig, ax = plt.subplots(m, n, figsize=(n * single_plot_w * 4, m * single_plot_h * 2))\n",
    "for feature, subplot in zip(date_features[:3], ax.flatten()):\n",
    "    g = sns.boxplot(x=df[feature], y=df['SalePrice'], ax=subplot)\n",
    "    g.set_xticklabels(g.get_xticklabels(), rotation=90)\n",
    "    g.set_yticklabels(['{:,.0f}'.format(y) + 'K' for y in g.get_yticks()/1000])"
   ]
  },
  {
   "cell_type": "code",
   "execution_count": null,
   "metadata": {},
   "outputs": [],
   "source": [
    "plot_categorical(date_features[3:])"
   ]
  },
  {
   "cell_type": "markdown",
   "metadata": {},
   "source": [
    "Como possíveis conclusões:\n",
    "\n",
    "Todas as casas construídas antes de 1950, que não tiveram reforma após isso, estão com ano da última reforma em 1950 (lembrando que, se não houve reforma, esse ano deveria indicar o ano de construção, conforme descrição da documentação).\n",
    "\n",
    "É possível notar um vácuo de construções na década de 80...\n",
    "\n",
    "Construções recentes tendem a sinalizar, em média, um maior preço de venda, conforme seria realmente esperado.\n",
    "\n",
    "O ano de venda não parece ser muito informativo sobre o preço de venda.\n",
    "\n",
    "O mercado é mais aquecido no verão americano.\n",
    "\n",
    "Já para os features ordinais categóricos, antes de plotar, estabelecemos a ordenação adequada para cada um (infelizmente, cada feature, em geral, possui uma ordenação diferente do outro), com exceção para alguns de qualidade:"
   ]
  },
  {
   "cell_type": "code",
   "execution_count": null,
   "metadata": {},
   "outputs": [],
   "source": [
    "category_ordinal_features = ['LotShape', 'Utilities', 'LandSlope', 'OverallQual', 'OverallCond', 'ExterQual', 'ExterCond', 'BsmtQual', 'BsmtCond', 'BsmtFinType1', 'BsmtFinType2', 'BsmtExposure', 'HeatingQC', 'KitchenQual', 'FireplaceQu', 'GarageFinish', 'GarageQual', 'GarageCond', 'PoolQC', 'Fence']\n",
    "def plot_categorial_ordered(feature_list, order_list, single_plot_w=1.5 * 3.8, single_plot_h=3.8):\n",
    "    m, n = len(feature_list), 2\n",
    "    fig, ax = plt.subplots(m, n, figsize=(n * single_plot_w, m * single_plot_h))\n",
    "    for i, feature in enumerate(feature_list):\n",
    "        if order_list[i] != \"\":\n",
    "            g = sns.countplot(x=df[feature], ax=ax[i][0], order=order_list[i])\n",
    "            g = sns.boxplot(x=df[feature], y=df['SalePrice'], ax=ax[i][1], order=order_list[i])\n",
    "            _ = g.set_yticklabels(['{:,.0f}'.format(y) + 'K' for y in g.get_yticks()/1000])\n",
    "        else:\n",
    "            g = sns.countplot(x=df[feature], ax=ax[i][0])\n",
    "            g = sns.boxplot(x=df[feature], y=df['SalePrice'], ax=ax[i][1])\n",
    "            _ = g.set_yticklabels(['{:,.0f}'.format(y) + 'K' for y in g.get_yticks()/1000])\n",
    "\n",
    "order_list = []\n",
    "for feature in category_ordinal_features:\n",
    "    if feature in ['ExterQual', 'PoolQC']:\n",
    "        order_list.append([\"Fa\", \"TA\", \"Gd\", \"Ex\"])\n",
    "    elif feature in ['BsmtQual', 'BsmtCond', 'HeatingQC', 'KitchenQual', 'GarageQual', 'GarageCond', 'FireplaceQu', 'ExterCond']:\n",
    "        order_list.append([\"Po\", \"Fa\", \"TA\", \"Gd\", \"Ex\"])\n",
    "    elif feature in ['BsmtExposure']:\n",
    "        order_list.append([\"No\", \"Mn\", \"Av\", \"Gd\"])\n",
    "    elif feature in ['BsmtFinType1', 'BsmtFinType2']:\n",
    "        order_list.append([\"Unf\", \"LwQ\", \"Rec\", \"BLQ\", \"ALQ\", \"GLQ\"])\n",
    "    elif feature in ['GarageFinish']:\n",
    "        order_list.append([\"Unf\", \"RFn\", \"Fin\"])\n",
    "    elif feature in ['PavedDrive']:\n",
    "        order_list.append([\"N\", \"P\", \"Y\"])\n",
    "    elif feature in ['Fence']:\n",
    "        order_list.append([\"MnWw\", \"GdWo\", \"MnPrv\", \"GdPrv\"])\n",
    "    else:\n",
    "        order_list.append(\"\")\n",
    "\n",
    "plot_categorial_ordered(category_ordinal_features, order_list)"
   ]
  },
  {
   "cell_type": "markdown",
   "metadata": {},
   "source": [
    "Algumas conclusões:\n",
    "\n",
    "Alguns features de qualidade possuem interessante relação (aproximadamente linear ou exponencial) com o preço médio, como condições do porão, acabamento da garagem, qualidade geral da casa, qualidade do porão, condições do porão, qualidade do exterior e qualidade da cozinha, mas em geral com visível heteroscedasticidade.\n",
    "\n",
    "Uma surpresa é o feature de condições gerais da casa, que apresenta os maiores preços médios de venda para valores iguais a 5 ou 9, (e sem diferenças significativas entre 6 e 8). Notar que a maioria das observações se concentra no valor 5.\n",
    "\n",
    "Algumas medidas de qualidade / condições são poucas informativas diretamente sobre preços para faixas de classificação de mais de um valor (ex: cercas: só há diferenciação para a última medida de qualidade, porém com poucas observações).\n",
    "\n",
    "Alguns features possuem quase a totalidade das observações concentradas em apenas um valor: quase todas as casas tem todas as utilidades previstas na pesquisa, ou quase todas as garagens são avaliadas como TA (Average/Typical), tanto em relação a qualidade quanto as condições atuais. O mesmo ocorre na avaliação das condições do porão e nas condições externas da cada. Ou seja, as classificação de qualidade para \"condições\", que apresentam o campo TA (Average/Typical) como possível resposta, tendem a concentrar todas as notas neste valor, talvez por ser conveniente, em termos de avaliação de \"condições\", responder que o mesmo está em condições médias / típicas na avaliação do imóvel. Mas isso não ocorre na avaliação de qualidade do material (original) de qual o item é construído.\n",
    "\n",
    "Para os features categóricos nominais, teremos:"
   ]
  },
  {
   "cell_type": "code",
   "execution_count": null,
   "metadata": {},
   "outputs": [],
   "source": [
    "category_nominal_features = ['Neighborhood', 'Exterior1st', 'Exterior2nd', 'MSSubClass', 'MSZoning', 'Street', 'Alley', 'PavedDrive', 'LandContour', 'LotConfig', 'Condition1', 'Condition2', 'BldgType', 'HouseStyle', 'RoofStyle', 'RoofMatl', 'MasVnrType', 'Foundation', 'Heating', 'CentralAir', 'Electrical', 'GarageType', 'MiscFeature', 'Functional', 'SaleType', 'SaleCondition']\n",
    "\n",
    "m, n = 3, 1\n",
    "\n",
    "fig, ax = plt.subplots(m, n, figsize=(n * single_plot_w * 2, m * single_plot_h * 1.5))\n",
    "for feature, subplot in zip(category_nominal_features[:3], ax.flatten()):\n",
    "    g = sns.countplot(x=df[feature], ax=subplot)\n",
    "    g.set_xticklabels(g.get_xticklabels(), rotation=22.5)"
   ]
  },
  {
   "cell_type": "code",
   "execution_count": null,
   "metadata": {},
   "outputs": [],
   "source": [
    "fig, ax = plt.subplots(m, n, figsize=(n * single_plot_w * 2, m * single_plot_h * 1.5))\n",
    "for feature, subplot in zip(category_nominal_features[:3], ax.flatten()):\n",
    "    g = sns.boxplot(x=df[feature], y=df['SalePrice'], ax=subplot)\n",
    "    g.set_yticklabels(['{:,.0f}'.format(y) + 'K' for y in g.get_yticks()/1000])\n",
    "    g.set_xticklabels(g.get_xticklabels(), rotation=22.5)"
   ]
  },
  {
   "cell_type": "code",
   "execution_count": null,
   "metadata": {},
   "outputs": [],
   "source": [
    "plot_categorical(category_nominal_features[3:])"
   ]
  },
  {
   "cell_type": "markdown",
   "metadata": {},
   "source": [
    "Algumas características claramente são capazes de diferenciar diretamente o preço médio das casas. Por exemplo:\n",
    "\n",
    "Bairros parecem ser interessante preditores de preços de casas, mas alguns bairros possuem poucas amostras.\n",
    "\n",
    "Material de cobertura exterior da casa, se dos tipos Metal Siding e Wood Siding, que representam razoável parte da amostra, tendem a caracterizar casas mais baratas em relação as que utilizam Vinyl Siding (que é a maioria).\n",
    "\n",
    "O tipo da área em que se encontram são bons preditores de preço médio: casas em áreas comerciais possuem preços menores, enquanto casas em vilarejos especiais (Floating Village) em geral são mais caras as demais.\n",
    "\n",
    "A maioria das casas possui um entre dois tipos de fundação (Brick & Tile ou Cinder Block), sendo que a variância de preços relativa a cada um é baixa e os preços médios são bem distintos entre elas.\n",
    "\n",
    "Não possuir ar central é um bom indicativo de que a casa será pouco valorizada.\n",
    "\n",
    "Tipo da cobertura de alvenaria, quando de pedra, indica valorização no preço na casa;\n",
    "\n",
    "Casas com garagens não anexadas na casa tendem a ser mais baratas;\n",
    "\n",
    "Casas com sistema elétrico atualizado (padrão) tendem a valer mais;\n",
    "\n",
    "Casas vendidas na modalidade Partial (não estavam concluídas no momento da venda, logo podemos associar com casas novas) são vendidas a um preço em geral superior as demais, como esperado.\n",
    "\n",
    "A maioria das casas é da categoria 20 ('MSSubClass'), que correspondem a casas de um andar apenas, construídas a partir de 1946. E MSSubClass parece ser um bom preditor para os preços.\n",
    "\n",
    "Casas em que o acesso é por estrada pavimentada possuem maior preço médio.\n",
    "\n",
    "Em alguns features categóricos, determinada categoria acaba sendo extremamente dominante, como no caso de uma segunda característica de proximidade a alguma via importante (Condition2), material do telhado ou sistema de aquecimento."
   ]
  },
  {
   "cell_type": "markdown",
   "metadata": {},
   "source": [
    "Análise das correlações entre os features numéricos\n",
    "\n",
    "Uma forma interessante de verificar as correlações entre as features e entre elas e o target é por meio do mapa de calor. Assim, plotamos o mapa de calor completo das variáveis numéricas (e categóricas ordinais já representadas numericamente) por:"
   ]
  },
  {
   "cell_type": "code",
   "execution_count": null,
   "metadata": {},
   "outputs": [],
   "source": [
    "# Filter numeric and ordinal categorical columns\n",
    "numeric_columns = df.select_dtypes(include=['int64', 'float64']).columns\n",
    "\n",
    "# Concatenate the numeric and ordinal columns\n",
    "selected_columns = numeric_columns.tolist() \n",
    "\n",
    "# Create a new DataFrame containing only the selected columns\n",
    "df_selected = df[selected_columns]\n",
    "\n",
    "# Calculate the correlation matrix for the selected columns\n",
    "corr_matrix = df_selected.drop(['Id', 'MSSubClass'], axis=1).corr()\n",
    "\n",
    "# Create the heatmap\n",
    "fig, ax = plt.subplots(figsize=(10, 8))\n",
    "_ = sns.heatmap(corr_matrix, annot=True, fmt='.1f', vmin=-1, vmax=1, center=0, annot_kws={\"size\": 5})\n",
    "ax.tick_params(axis='both', which='major', labelsize=7)\n",
    "\n",
    "plt.show()"
   ]
  },
  {
   "cell_type": "code",
   "execution_count": null,
   "metadata": {},
   "outputs": [],
   "source": [
    "\n",
    "threshold = 0.5\n",
    "corr_matrix = df_selected[corr_matrix[corr_matrix['SalePrice'] > threshold]['SalePrice'].index.tolist()].corr()\n",
    "\n",
    "fig, ax = plt.subplots(figsize=(10, 8))\n",
    "_ = sns.heatmap(corr_matrix, annot=True, fmt='.2f', vmin=-1, vmax=1, center=0)\n",
    "plt.show()\n"
   ]
  },
  {
   "cell_type": "markdown",
   "metadata": {},
   "source": [
    "Algumas conclusões:\n",
    "\n",
    "Os features com as maiores correlações com o preço de venda são qualidade geral e área útil acima do solo, mas também merecem atenção área do porão, número de banheiros, área / capacidade da garagem, ano de construção, tipo de cobertura da alvenaria e quantidade de quartos, como é razoável de se supor se imaginamos o que procuramos em uma casa. Um fato curioso é a correlação entre o número de lareiras e o preço do imóvel. Já a correlação entre a área do terreno e a área útil acima do solo é apenas na ordem de 0.3.\n",
    "\n",
    "Assim como não são correlacionados com o preço, como vimos anteriormente, algumas features quantitativas relacionadas a varandas, piscina, valor de itens diversos, mês e ano da venda também possuem baixíssima ou nenhuma correlação com os demais features ('3SsnPorch', 'ScreenPorch', 'PoolArea', 'MiscVal', 'MsSold', 'YrSold'). O mesmo vale para 'BsmtFinSF2' (segunda área acabada do porão), 'LowQualFinSF' (área útil de baixa qualidade), 'BsmtHalfBath' (Lavabos)\n",
    "\n",
    "Notamos alta correlação entre alguns pares de features, em que o par possui capacidade similar de previsão de valor de venda, indicativo de multicolinearidade. São exemplos a área da garagem e sua capacidade, ano da construção da casa e ano de construção da garagem, área total útil e número de cômodos acima do solo, área do primeiro andar e área do porão (visto que para estes pares de features, em geral, uma é consequência natural da outra).\n",
    "\n",
    "A condição geral da casa não é correlacionada com o preço devido ao fato que já apontamos (maioria das observações concentrada na nota 5, e que apresentam maior preço médio que as notas vizinhas, gerando um padrão não linear). Porém a condição geral é negativamente correlacionada com o ano da construção, o que seria um fato interessante a se supor.\n",
    "\n",
    "Apenas por curiosidade, quanto mais nova a casa, menor são as áreas destinadas a varandas fechadas...\n",
    "\n",
    "Porém, o mapa de calor só é capaz de indicar multicolinearidades entre duas features, e não entre combinações lineares. Assim, como identificar multicolinaridade perfeita não presente no mapa de calor, se existir? Com base nas features disponíveis, é de se supor que:\n",
    "\n",
    "BsmtFinSF1 + BsmtFinSF2 + BsmtUnfSF = TotalBsmtSF (área total do porão é igual as áreas de partes específicas deste presentes na base)\n",
    "\n",
    "1stFlrSF + 2ndFlrSF + LowQualFinSF = GrLivArea (área total acima do solo é igual a soma da área dos andares e da área declarada como não acabada, se supormos que, para casas com mais de dois andares, as áreas dos andares superiores são imputadas na área do segundo andar...)\n",
    "\n",
    "Podemos mostrar que sim, isto ocorre, por:"
   ]
  },
  {
   "cell_type": "code",
   "execution_count": null,
   "metadata": {},
   "outputs": [],
   "source": [
    "print(df['TotalBsmtSF'].corr(df['BsmtFinSF1'] + df['BsmtFinSF2'] + df['BsmtUnfSF']))\n",
    "print(df['GrLivArea'].corr(df['1stFlrSF'] + df['2ndFlrSF'] + df['LowQualFinSF']))"
   ]
  },
  {
   "cell_type": "markdown",
   "metadata": {},
   "source": [
    "Um gráfico interessante é o de dispersão entre as features, conforme apresentado abaixo (excluindo-se outliers em que área útil acima do solo é maior que 4000 pés quadrados, apenas para melhorar a visualização das relações):"
   ]
  },
  {
   "cell_type": "code",
   "execution_count": null,
   "metadata": {},
   "outputs": [],
   "source": [
    "drop_list=['Id', 'MSSubClass', 'BsmtFinSF2', 'BsmtUnfSF', '2ndFlrSF', 'LowQualFinSF', '3SsnPorch', 'ScreenPorch', 'PoolArea', 'MiscVal', 'MoSold', 'YrSold', 'BsmtFinSF2', 'LowQualFinSF', 'BsmtHalfBath', 'KitchenAbvGr']\n",
    "g = sns.pairplot(df[df['GrLivArea'] < 4000].drop(drop_list, axis=1))"
   ]
  },
  {
   "cell_type": "markdown",
   "metadata": {},
   "source": [
    "E para ilustrar, o mesmo plot para algumas das features numéricas com maior correlação com o preço de venda:"
   ]
  },
  {
   "cell_type": "code",
   "execution_count": null,
   "metadata": {},
   "outputs": [],
   "source": [
    "n = 6\n",
    "cols = corr_matrix.drop(['GarageCars']).nlargest(n, 'SalePrice').index.tolist()\n",
    "if 'GrLivArea' in cols:\n",
    "    sns.pairplot(df[df['GrLivArea'] < 4000][cols]) #, size=2.5);"
   ]
  },
  {
   "cell_type": "markdown",
   "metadata": {},
   "source": [
    "Com relação a esses gráficos, alguns fatos interessantes:\n",
    "\n",
    "Casas classificadas como de melhor qualidade tendem a ser as de maior área útil acima do solo e com porões e garagens maiores;\n",
    "Fica visível como a área do porão é geralmente limitada pela área do primeiro andar (o que é esperado, claro), e há alguns raros curiosos outliers em que a área do porão é maior que a área útil do primeiro piso."
   ]
  },
  {
   "cell_type": "markdown",
   "metadata": {},
   "source": [
    "Análise das associações entre os features categóricos\n",
    "Para a análise de associações entre os features categóricos e entre esses e o preço de venda utilizamos a biblioteca dython de Shaked Zychlinski. Basicamente a função associations() gera o mapa de calor em função do coeficiente de incerteza de Theil's U, que é assimétrico (x ~ y ≠\n",
    "y ~ x), o que permite explorar relações interessantes entre as features nominais, bem como a razão de correlação entre as features categóricas e 'SalePrices' (mais detalhes sobre esse tipo de abordagem pode ser verificado em um breve post de Zychlinski no towardsdatascience.com).\n",
    "\n",
    "Assim, instalamos a classe nominal da biblioteca dython para a geração do mapa de calor para variáveis categóricas ordinais que não estão codificadas numericamente:"
   ]
  },
  {
   "cell_type": "code",
   "execution_count": null,
   "metadata": {},
   "outputs": [],
   "source": [
    "nominal.associations(df[category_ordinal_features + ['SalePrice']].drop([\"OverallQual\", \"OverallCond\"], axis=1), fmt='.1f', nom_nom_assoc='theil', figsize=(12, 9));"
   ]
  },
  {
   "cell_type": "markdown",
   "metadata": {},
   "source": [
    "Podemos tirar algumas conclusões:\n",
    "\n",
    "Qualidade Externa, do Porão e da Cozinha são os itens mais associados com o valor do imóvel;\n",
    "O acabamento da garagem diz muito sobre sua qualidade e condições, mas o contrário não é verdade;\n",
    "Apenas como curiosidade, quem se preocupa com a qualidade da cozinha também se preocupa com a qualidade externa, mas não muito com a do porão... E a qualidade da cerca nos diz alguma coisa sobre a qualidade da piscina, mas o inverso não é verdade, bem como o acabamento da garagem diz muito sobre sua qualidade e condições, mas o inverso não é verdade..."
   ]
  },
  {
   "cell_type": "markdown",
   "metadata": {},
   "source": [
    "E para a geração do mapa de calor para variáveis categóricas nominais:"
   ]
  },
  {
   "cell_type": "code",
   "execution_count": null,
   "metadata": {},
   "outputs": [],
   "source": [
    "nominal.associations(df[category_nominal_features + ['SalePrice']], nom_nom_assoc='theil', figsize=(15, 12), fmt='.1f', cbar=False)"
   ]
  },
  {
   "cell_type": "markdown",
   "metadata": {},
   "source": [
    "Podemos verificar que alguns features possuem associações significativas em ambas as direções, por exemplo:\n",
    "\n",
    "Bairro e a Classificação do tipo da casa;\n",
    "\n",
    "Tipo e Estilo da Casa com Classificação do tipo da casa, sendo que o Tipo e Classificação podem ser até ser redundantes de certa forma;\n",
    "\n",
    "Condição de Venda e Tipo de Venda;\n",
    "\n",
    "Alguns features possuem associação mais significativa em uma direção, mas não na outra:\n",
    "\n",
    "O bairro pode explicar parte do tipo de classificação da zona em que se encontra a casa (comercial, zona agrícola, residencial), mas pelo tipo de zoneamento não é possível identificar o bairro;\n",
    "\n",
    "O bairro permite prever parte da fundação que será utilizada, mas o inverso não é verdade;\n",
    "\n",
    "O estilo do telhado ('RoofStyle') permite prever o seu material ('RoofMatl'), mas o inverso não é verdade;\n",
    "\n",
    "Alguns features aparentam ser bons preditores para o preço de venda (Tipo de Fundação, Tipo da Garagem, Tipo Cobertura da Alvenaria ('MasVnrType'), Cobertura Exterior da Casa ('Exterior1st e 2nd')).\n",
    "\n",
    "Itens diversos ('MscFeature'), 2o tipo de condições de proximidade ('Condition2') e tipo da rua ('Street') não têm poder significativo de explicar alguma feature ou o target.\n",
    "\n",
    "Podemos também gerar um mega mapa com todas as associações entre features categóricas ordinais e nominais, incluindo \"OverallQual\", \"OverallCond\", que são representadas numericamente, por:"
   ]
  },
  {
   "cell_type": "code",
   "execution_count": null,
   "metadata": {},
   "outputs": [],
   "source": [
    "nominal.associations(df[category_ordinal_features + category_nominal_features], nom_nom_assoc='theil', fmt='.1f', figsize=(30 * .8, 24 * .8), cbar=False)"
   ]
  },
  {
   "cell_type": "markdown",
   "metadata": {},
   "source": [
    "Conclusões:\n",
    "\n",
    "A qualidade geral da casa se associa com várias features categóricas nominais, como Tipo da Cobertura da Alvenaria, Tipo da Fundação e Tipo da Garagem, mas principalmente com o bairro em que se localiza (pelo bairro, você pode esperar qual a qualidade da casa que vai encontrar);\n",
    "\n",
    "O bairro explica muito das características da casa;\n",
    "\n",
    "Além dessa, não há muita associação entre as features categóricas ordinais e nominais, com exceção do tipo de garagem e sua avaliação de qualidade / condições / acabamento."
   ]
  }
 ],
 "metadata": {
  "kernelspec": {
   "display_name": ".venv",
   "language": "python",
   "name": "python3"
  },
  "language_info": {
   "codemirror_mode": {
    "name": "ipython",
    "version": 3
   },
   "file_extension": ".py",
   "mimetype": "text/x-python",
   "name": "python",
   "nbconvert_exporter": "python",
   "pygments_lexer": "ipython3",
   "version": "3.11.3"
  },
  "orig_nbformat": 4
 },
 "nbformat": 4,
 "nbformat_minor": 2
}
