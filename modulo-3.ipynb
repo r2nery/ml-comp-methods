{
 "cells": [
  {
   "cell_type": "code",
   "execution_count": null,
   "metadata": {},
   "outputs": [],
   "source": [
    "import numpy as np\n",
    "import matplotlib.pyplot as plt\n",
    "np.random.seed(42)"
   ]
  },
  {
   "cell_type": "markdown",
   "metadata": {},
   "source": [
    "# Machine Learning"
   ]
  },
  {
   "cell_type": "markdown",
   "metadata": {},
   "source": [
    "#### 1) Gere uma amostra de 500 dados a partir de um polinômio de grau 4 com ruído. Compare os seguintes modelos Linear, Quadrático, Cúbico e Quártico construídos a partir de amostras com os seguintes tamanhos: 5, 10, 25, 50 e 100."
   ]
  },
  {
   "cell_type": "code",
   "execution_count": null,
   "metadata": {},
   "outputs": [],
   "source": [
    "def generate_data(coefficients, from_to, num_points, noise_scale):\n",
    "\n",
    "    # Gerando valores de x\n",
    "    x = np.linspace(*from_to, num_points)\n",
    "    # Gerando ruído\n",
    "    noise = np.random.normal(loc=0, scale=noise_scale, size=len(x))\n",
    "    # Gerando valores de y sem ruído\n",
    "    y_true = np.polyval(coefficients, x)\n",
    "    # Gerando valores de y com ruído\n",
    "    y = y_true + noise\n",
    "\n",
    "    return x, y, y_true"
   ]
  },
  {
   "cell_type": "code",
   "execution_count": null,
   "metadata": {},
   "outputs": [],
   "source": [
    "x, y, y_true = generate_data(coefficients=[1, -4, -1, 10, 0], from_to=[-2, 4], num_points=500, noise_scale=1)\n",
    "\n",
    "plt.scatter(x, y, label=\"Série com Ruído\", alpha=0.6, s=10)\n",
    "plt.plot(x, y_true, color=\"red\")\n",
    "plt.title(\"Dados Gerados\")\n",
    "plt.show()"
   ]
  },
  {
   "cell_type": "code",
   "execution_count": null,
   "metadata": {},
   "outputs": [],
   "source": [
    "# Função para ajustar um modelo polinomial a uma amostra de dados\n",
    "\n",
    "def fit_model(x, x_sample, y_sample, degree):\n",
    "    # Obtendo coeficientes de um polinômio de grau especificado que se ajusta à amostra\n",
    "    coeffs = np.polyfit(x_sample, y_sample, degree)\n",
    "    model = np.poly1d(coeffs)\n",
    "    y_pred = model(x)\n",
    "\n",
    "    return coeffs, model, y_pred\n",
    "\n",
    "def plot_model(x_range, x_sample, y_sample, y_true, y_pred, degree, ax):\n",
    "    # Plotando amostra, polinômio original e modelo ajustado\n",
    "    ax.scatter(x_sample, y_sample, label=f\"Amostra ({len(x_sample)})\", color='blue')\n",
    "    ax.plot(x_range, y_true, color='red', label=\"Polinômio Original\")\n",
    "    ax.plot(x_range, y_pred, color='green', label=\"Modelo Predito (Grau {})\".format(degree))\n",
    "    ax.legend()\n",
    "    ax.set_xlabel(\"x\")\n",
    "    ax.set_ylabel(\"y\")\n",
    "    ax.set_title(f\"Ajustando com grau {degree}\")\n",
    "\n",
    "# Criando uma matriz de plots para comparar modelos com diferentes graus\n",
    "fig, axs = plt.subplots(2, 2, figsize=(12, 10))\n",
    "fig.suptitle(\"Ajustando modelos de diferentes graus a uma amostra de dados\", fontsize=16)\n",
    "\n",
    "# Tamanho das amostras que serão usadas para ajustar os modelos de graus 1, 2, 3 e 4\n",
    "sample_sizes = [5, 15, 25, 50]\n",
    "\n",
    "# Gerando e ajustando modelos para diferentes graus\n",
    "for i, sample_size in enumerate(sample_sizes):\n",
    "    # Obtendo amostra de dados aleatória\n",
    "    xy = list(zip(x, y))\n",
    "    np.random.shuffle(xy)\n",
    "    x_sample, y_sample = zip(*xy[:sample_size])\n",
    "    degree = i + 1\n",
    "    \n",
    "    # Acessamos os plots da matriz usando axs[i // 2, i % 2] (divisa inteira e resto da divisão)\n",
    "    # i // 2 é a linha e i % 2 é a coluna\n",
    "    # i varia de 0 a 3, então i // 2 varia de 0 a 1 e i % 2 varia de 0 a 1\n",
    "    # assim, acessamos os plots (0, 0), (0, 1), (1, 0) e (1, 1) da matriz\n",
    "\n",
    "    coeffs, model, y_pred = fit_model(x, x_sample, y_sample, degree)\n",
    "    plot_model(x, x_sample, y_sample, y_true, y_pred, degree, axs[i // 2, i % 2])\n",
    "\n",
    "plt.tight_layout()\n",
    "plt.show()\n"
   ]
  },
  {
   "cell_type": "code",
   "execution_count": null,
   "metadata": {},
   "outputs": [],
   "source": [
    "x, y, y_true = generate_data(coefficients=[1, -4, -1, 10, 0], from_to=[-2, 4], num_points=40, noise_scale=1)"
   ]
  },
  {
   "cell_type": "code",
   "execution_count": null,
   "metadata": {},
   "outputs": [],
   "source": [
    "# Ajustando Modelos\n",
    "coeffs_1, model_1, y_pred_1 = fit_model(x=x, x_sample=x, y_sample=y, degree=1)\n",
    "coeffs_2, model_2, y_pred_2 = fit_model(x=x, x_sample=x, y_sample=y, degree=2)"
   ]
  },
  {
   "cell_type": "code",
   "execution_count": null,
   "metadata": {},
   "outputs": [],
   "source": [
    "# Plotando Modelos\n",
    "fig, ax = plt.subplots(figsize=(6, 5))\n",
    "plot_model(x_range=x, y_sample=y, x_sample=x, y_true=y_true, y_pred=y_pred_1, degree=1, ax=ax)\n",
    "fig2, ax2 = plt.subplots(figsize=(6, 5))\n",
    "plot_model(x_range=x, y_sample=y, x_sample=x, y_true=y_true, y_pred=y_pred_2, degree=2, ax=ax2)\n"
   ]
  },
  {
   "cell_type": "markdown",
   "metadata": {},
   "source": [
    "#### 2) Gere uma amostra de 40 dados a partir de um polinômio de grau 4 com ruído.\n",
    "##### a) Estime um modelo Linear e um modelo Quadrático e compare esses modelos usando um conjunto de validação.\n",
    "##### b) Explore o efeito do tamanho do conjunto de validação k na estimativa. Ou seja, brinque com um Monte Carlo para calcular a variância do Erro de validação e a variância de um dos parâmetros do modelo. Note que se o tamanho k do conjunto de validação aumenta, então o tamanho da amostra de treino 40 − k diminui."
   ]
  },
  {
   "cell_type": "code",
   "execution_count": null,
   "metadata": {},
   "outputs": [],
   "source": [
    "def split_data(x, y, validation_size):\n",
    "    # Embaralhando os índices dos dados\n",
    "    indices = np.arange(len(x))\n",
    "    np.random.shuffle(indices)\n",
    "\n",
    "    # Dividindo os dados em conjuntos de treinamento e validação\n",
    "    validation_indices = indices[:validation_size]\n",
    "    training_indices = indices[validation_size:]\n",
    "    x_validation, y_validation = x[validation_indices], y[validation_indices]\n",
    "    x_training, y_training = x[training_indices], y[training_indices]\n",
    "\n",
    "    return x_training, y_training, x_validation, y_validation"
   ]
  },
  {
   "cell_type": "code",
   "execution_count": null,
   "metadata": {},
   "outputs": [],
   "source": [
    "def evaluate_model(x_training, y_training, x_validation, y_validation, degree):\n",
    "    # Ajustando o modelo com os dados de treinamento\n",
    "    coeffs = np.polyfit(x_training, y_training, degree)\n",
    "    model = np.poly1d(coeffs)\n",
    "\n",
    "    # Predizendo valores de y com o modelo para os dados de validação\n",
    "    y_pred = model(x_validation)\n",
    "\n",
    "    def calculate_error(y_true, y_pred):\n",
    "        return np.mean((y_true - y_pred) ** 2)\n",
    "\n",
    "    # Calculando o erro de validação\n",
    "    error = calculate_error(y_validation, y_pred)\n",
    "\n",
    "    return error, coeffs\n",
    "\n",
    "\n",
    "def monte_carlo_experiment(x, y, degrees, validation_sizes, num_iterations):\n",
    "    errors = np.zeros((len(validation_sizes), len(degrees), num_iterations))\n",
    "    coeffs_dict = {degree:{i : [] for i in validation_sizes} for degree in degrees}\n",
    "    coeffs_variances = {degree:{i : [] for i in validation_sizes} for degree in degrees}\n",
    "\n",
    "\n",
    "    for d, degree in enumerate(degrees):\n",
    "        for v, validation_size in enumerate(validation_sizes):\n",
    "            for i in range(num_iterations):\n",
    "                x_training, y_training, x_validation, y_validation = split_data(x, y, validation_size=validation_size)\n",
    "                error, coeffs = evaluate_model(x_training, y_training, x_validation, y_validation, degree)\n",
    "\n",
    "                errors[v, d, i] = error\n",
    "                coeffs_dict[degree][validation_size].append(list(coeffs))\n",
    "\n",
    "                # if (i + 1) % 10 == 0:\n",
    "                #     print(f\"Iteração {i + 1}/{num_iterations} - Tamanho do conj. valid.: {validation_size} - Grau: {degree}\")\n",
    "                #     print(f\"Erro de Validação: {error:.4f} - Coeficientes: {coeffs}\\n\")\n",
    "\n",
    "    # Obtendo a variância de cada coeficiente para cada grau e tamanho de validação\n",
    "    for degree in coeffs_dict.keys():\n",
    "        for validation_size in coeffs_dict[degree].keys():\n",
    "            coeffs_variances[degree][validation_size] = list(np.var(coeffs_dict[degree][validation_size], axis=0))\n",
    "\n",
    "    # Calculando a média dos erros para cada grau e tamanho de validação\n",
    "    mean_errors = np.mean(errors, axis=2)\n",
    "    \n",
    "    return mean_errors, coeffs_variances"
   ]
  },
  {
   "cell_type": "code",
   "execution_count": null,
   "metadata": {},
   "outputs": [],
   "source": [
    "# Parâmetros do experimento de Monte Carlo\n",
    "degrees = [1, 2]  # Modelos de grau 1 e 2\n",
    "validation_sizes = [5, 10, 15, 20, 25, 30]  # Tamanhos de amostra para validação\n",
    "num_iterations = 10000  # Número de iterações do experimento\n",
    "\n",
    "mean_errors, coeffs_variances = monte_carlo_experiment(x, y, degrees, validation_sizes, num_iterations)"
   ]
  },
  {
   "cell_type": "code",
   "execution_count": null,
   "metadata": {},
   "outputs": [],
   "source": [
    "for (degree,var_count) in [(1,2),(2,3)]:\n",
    "    plt.figure(figsize=(8, 4))\n",
    "    plt.title(f\"Variância das variáveis no modelo de grau {degree}\")\n",
    "    plt.xlabel(\"Tamanho do conjunto de validação\")\n",
    "    plt.ylabel(\"Variância da variável\")\n",
    "    for var_index in range(0,var_count):  # Variables 1 and 2\n",
    "        vars = [coeffs_variances[degree][sample_size][var_index - 1] for sample_size in coeffs_variances[1]]\n",
    "        plt.plot(list(coeffs_variances[degree].keys()), vars,  marker='o', label=f\"Variável {var_index }\")\n",
    "    plt.legend()\n",
    "    plt.grid(True)\n",
    "    plt.show()\n"
   ]
  },
  {
   "cell_type": "code",
   "execution_count": null,
   "metadata": {},
   "outputs": [],
   "source": [
    "# Plot Validation Errors\n",
    "plt.figure(figsize=(8, 4))\n",
    "for d, degree in enumerate(degrees):\n",
    "    plt.plot(validation_sizes, mean_errors[:, d], marker='o', label=f\"Grau {degree}\")\n",
    "plt.xlabel(\"Tamanho do Conjunto de Validação\")\n",
    "plt.ylabel(\"Erro Médio de Validação\")\n",
    "plt.title(\"Erro Médio de Validação para Diferentes Graus\")\n",
    "plt.legend()\n",
    "plt.grid(True)\n",
    "plt.show()"
   ]
  }
 ],
 "metadata": {
  "kernelspec": {
   "display_name": ".venv",
   "language": "python",
   "name": "python3"
  },
  "language_info": {
   "codemirror_mode": {
    "name": "ipython",
    "version": 3
   },
   "file_extension": ".py",
   "mimetype": "text/x-python",
   "name": "python",
   "nbconvert_exporter": "python",
   "pygments_lexer": "ipython3",
   "version": "3.11.3"
  },
  "orig_nbformat": 4
 },
 "nbformat": 4,
 "nbformat_minor": 2
}
