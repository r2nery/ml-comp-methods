{
 "cells": [
  {
   "cell_type": "code",
   "execution_count": 35,
   "metadata": {},
   "outputs": [],
   "source": [
    "import timeit\n",
    "import math\n",
    "import matplotlib.pyplot as plt\n",
    "import numpy as np\n",
    "import random"
   ]
  },
  {
   "attachments": {},
   "cell_type": "markdown",
   "metadata": {},
   "source": [
    "# Programação Estruturada"
   ]
  },
  {
   "attachments": {},
   "cell_type": "markdown",
   "metadata": {},
   "source": [
    "### 1) Faça um programa iterativo e outro recursivo para fatorar um número inteiro."
   ]
  },
  {
   "cell_type": "code",
   "execution_count": 36,
   "metadata": {},
   "outputs": [],
   "source": [
    "# Objetivo: Decompor um número em fatores primos\n",
    "# Números primos: Divisíveis por 1 e por ele mesmo (2, 3, 5, 7, 11, 13, 17, 19, 23, 29, ...)\n",
    "\n",
    "\"\"\"\n",
    "Iniciamos a função com uma lista vazia de fatores primos e um divisor igual a 2.\n",
    "Enquanto o divisor for menor ou igual ao número, o loop continua. \n",
    "O loop veririca se o número é divisível pelo divisor atual (começando com 2)\n",
    "Se for, o divisor é adicionado à lista de fatores primos e o número é dividido por ele\n",
    "Se não for, o divisor é incrementado em 1 e o loop continua\n",
    "\"\"\"\n",
    "\n",
    "\n",
    "def fatorar_it(n):\n",
    "    fatores = []\n",
    "    div = 2\n",
    "\n",
    "    while div <= n:\n",
    "        if n % div == 0:\n",
    "            fatores.append(div)\n",
    "            n = n / div\n",
    "        else:\n",
    "            div += 1\n",
    "    return fatores\n",
    "\n",
    "\n",
    "\"\"\"\n",
    "Agora, a função é recursiva.\n",
    "Ela recebe um número e um divisor (que começa com 2)\n",
    "Nós colocamos o divisor nas variáveis de entrada para que ele possa ser modificado em chamadas recursivas da função.\n",
    "Se o número for 1, a função retorna uma lista vazia. Esse é o caso base.\n",
    "\n",
    "Se o número for divisível pelo divisor,\n",
    "A função retorna uma lista com o divisor + o resultado da função chamada com o número dividido pelo divisor.\n",
    "Se o número não for divisível pelo divisor,\n",
    "A função retorna a função chamada com o número e o divisor incrementado em 1.\n",
    "\n",
    "Sabemos que no python uma operação do tipo [a] + [b] retorna uma nova lista com os elementos a e b.\n",
    "Analisando atentamente o funcionamento da função, percebemos que ela retorna uma lista com todos os divisores.\n",
    "\"\"\"\n",
    "\n",
    "\n",
    "def fatorar_rec(n, div=2):\n",
    "    if n == 1:\n",
    "        return []\n",
    "    elif n % div == 0:\n",
    "        return [div] + fatorar_rec(n / div, div)\n",
    "    else:\n",
    "        return fatorar_rec(n, div + 1)"
   ]
  },
  {
   "cell_type": "code",
   "execution_count": 37,
   "metadata": {},
   "outputs": [
    {
     "name": "stdout",
     "output_type": "stream",
     "text": [
      "Decomposição de 441: [3, 3, 7, 7]\n",
      "Decomposição de 441: [3, 3, 7, 7]\n"
     ]
    }
   ],
   "source": [
    "'''\n",
    "Fatorando o número 441, temos:\n",
    "\n",
    "441 | 3\n",
    "147 | 3\n",
    "49  | 7\n",
    "7   | 7\n",
    "1   | 1\n",
    "'''\n",
    "\n",
    "fatores_it = fatorar_it(441)\n",
    "fatores_rec = fatorar_rec(441)\n",
    "\n",
    "print(f\"Decomposição de 441: {fatores_it}\")\n",
    "print(f\"Decomposição de 441: {fatores_rec}\")"
   ]
  },
  {
   "attachments": {},
   "cell_type": "markdown",
   "metadata": {},
   "source": [
    "### 2) Calcule a potencia de um número usando recursão. Pense numa solução eficiente."
   ]
  },
  {
   "cell_type": "code",
   "execution_count": 38,
   "metadata": {},
   "outputs": [],
   "source": [
    "\"\"\"\n",
    "Essa versão é ineficiente porque usa um loop que multiplica base por si mesma expoente vezes para calcular a potência. \n",
    "Ou seja, para calcular base elevado a n, essa função faz n multiplicações. Isso resulta em uma complexidade assintótica de O(n).\n",
    "\"\"\"\n",
    "\n",
    "\n",
    "def potencia_iterativa_ineficiente(base, expoente):\n",
    "    resultado = 1\n",
    "    for _ in range(expoente):\n",
    "        resultado *= base\n",
    "    return resultado\n",
    "\n",
    "\n",
    "\"\"\"\n",
    "Essa abordagem é recursiva, mas ainda ineficiente.\n",
    "Se o expoente for 0, a função retorna 1. Esse é o caso base.\n",
    "Se o expoente for maior que 0, a função retorna base multiplicada pelo resultado da função chamada com base e expoente - 1.\n",
    "Isso significa que ainda são feitas n multiplicações para calcular base elevado a n. Isso resulta em uma complexidade assintótica de O(n).\n",
    "\"\"\"\n",
    "\n",
    "\n",
    "def potencia_recursiva_ineficiente(base, expoente):\n",
    "    if expoente == 0:  # caso base: qualquer número elevado a 0 é 1\n",
    "        return 1\n",
    "    else:\n",
    "        return base * potencia_recursiva_ineficiente(base, expoente - 1)\n",
    "\n",
    "\n",
    "\"\"\"\n",
    "Essa abordagem é recursiva e eficiente.\n",
    "Se o expoente for 0, a função retorna 1. Esse é o caso base.\n",
    "Se o expoente for par, a função retorna o resultado da função chamada com base e expoente divididos por 2, elevado ao quadrado.\n",
    "Se o expoente for ímpar, a função retorna base multiplicada pelo resultado da função chamada com base e expoente - 1 divididos por 2, elevado ao quadrado.\n",
    "Essa abordagem é eficiente pois reduz o número de chamadas recursivas pela metade a cada vez que o expoente é dividido por 2, resultando em uma complexidade assintótica de O(log n).\n",
    "Chamamos isso de divisão e conquista: dividimos o problema em subproblemas menores e resolvemos cada subproblema recursivamente.\n",
    "\"\"\"\n",
    "\n",
    "\n",
    "def potencia_recursiva(base, expoente):\n",
    "    if expoente == 0:  # caso base: qualquer número elevado a 0 é 1\n",
    "        return 1\n",
    "\n",
    "    elif expoente % 2 == 0:  # caso expoente é par\n",
    "        temp = potencia_recursiva(base, expoente // 2)\n",
    "        return temp * temp\n",
    "\n",
    "    else:  # caso expoente é ímpar\n",
    "        temp = potencia_recursiva(base, (expoente - 1) // 2)\n",
    "        return base * temp * temp"
   ]
  },
  {
   "cell_type": "code",
   "execution_count": 39,
   "metadata": {},
   "outputs": [
    {
     "name": "stdout",
     "output_type": "stream",
     "text": [
      "16\n",
      "16\n",
      "16\n",
      "\n",
      "Tempo de execução:\n",
      "0.2536492500221357 segundos\n",
      "\n",
      "0.2734082500101067 segundos\n",
      "\n",
      "0.011854375014081597 segundos\n",
      "\n"
     ]
    }
   ],
   "source": [
    "print(potencia_iterativa_ineficiente(2,4))\n",
    "print(potencia_recursiva_ineficiente(2,4))\n",
    "print(potencia_recursiva(2,4))\n",
    "\n",
    "print(\"\\nTempo de execução:\")\n",
    "print(timeit.timeit(lambda: potencia_iterativa_ineficiente(99, 1000), number=1000), \"segundos\\n\")\n",
    "print(timeit.timeit(lambda: potencia_recursiva_ineficiente(99, 1000), number=1000), \"segundos\\n\")\n",
    "print(timeit.timeit(lambda: potencia_recursiva(99, 1000), number=1000), \"segundos\\n\")\n"
   ]
  },
  {
   "attachments": {},
   "cell_type": "markdown",
   "metadata": {},
   "source": [
    "### 3) Project Euler 2: Ache a soma de todos os elementos da série de Fibonacci pares que não excedem 4 milhões. \n",
    "Existe uma solução mais interessante que essa que você possivelmente apresentou?"
   ]
  },
  {
   "cell_type": "code",
   "execution_count": 40,
   "metadata": {},
   "outputs": [],
   "source": [
    "# Essa é uma pergunta que tem resposta correta, mas pode ser solucionada de várias formas.\n",
    "# O resultado é 4613732.\n",
    "\n",
    "\"\"\" \n",
    "Na função abaixo, x e y são os dois primeiros termos da sequência de Fibonacci.\n",
    "prox_termo é o próximo termo da sequência.\n",
    "soma é a soma dos termos pares.\n",
    "A função retorna a soma dos termos pares da sequência de Fibonacci até que o próximo termo seja maior que 4 milhões.\n",
    "\"\"\"\n",
    "\n",
    "\n",
    "def fib1():\n",
    "    x = 0\n",
    "    y = 1\n",
    "    prox_termo = 0\n",
    "    soma = 0\n",
    "    while prox_termo < 4000000:\n",
    "        prox_termo = x + y\n",
    "        x = y\n",
    "        y = prox_termo\n",
    "        if prox_termo % 2 == 0:\n",
    "            soma += prox_termo\n",
    "    return soma\n",
    "\n",
    "\n",
    "\"\"\"\n",
    "Considere a sequência de Fibonacci abaixo:\n",
    "1, 1, 2, 3, 5, 8, 13, 21, 34, 55, 89, 144, 233, 377, 610, ...\n",
    "Cada terceiro elemento na sequência de Fibonacci é par.\n",
    "Só o que nos interessa são os números pares. Então, a sequência de Fibonacci se torna:\n",
    "2, 8, 34, 144, 610, ...\n",
    "Para o número par n, a equação abaixo é válida:\n",
    "n = (4 * n-1) + (n-2)\n",
    "\n",
    "Exemplo:\n",
    "34 = (4 * 8) + 2, \n",
    "144 = (4 * 34) + 8\n",
    "610 = (4 * 144) + 34\n",
    "\n",
    "Aplicamos essa ideia na função abaixo.\n",
    "Definimos o primeiro par como 2 e o segundo par como 8.\n",
    "A cada iteração, calculamos o próximo par e somamos à soma dos pares.\n",
    "\"\"\"\n",
    "\n",
    "\n",
    "def fib2():\n",
    "    primeiro_par = 2\n",
    "    segundo_par = 8\n",
    "    soma_pares = primeiro_par + segundo_par\n",
    "    while soma_pares < 4000000:\n",
    "        fib_pares = (4 * segundo_par) + primeiro_par\n",
    "        soma_pares += fib_pares\n",
    "        primeiro_par, segundo_par = segundo_par, fib_pares\n",
    "    return soma_pares"
   ]
  },
  {
   "cell_type": "code",
   "execution_count": 41,
   "metadata": {},
   "outputs": [
    {
     "name": "stdout",
     "output_type": "stream",
     "text": [
      "4613732\n",
      "4613732\n",
      "\n",
      "Tempo de execução:\n",
      "0.01529512502020225 segundos\n",
      "\n",
      "0.004516042012255639 segundos\n",
      "\n"
     ]
    }
   ],
   "source": [
    "print(fib1())\n",
    "print(fib2())\n",
    "\n",
    "print(\"\\nTempo de execução:\")\n",
    "print(timeit.timeit(lambda: fib1(), number=10000), \"segundos\\n\")\n",
    "print(timeit.timeit(lambda: fib2(), number=10000), \"segundos\\n\")\n"
   ]
  },
  {
   "attachments": {},
   "cell_type": "markdown",
   "metadata": {},
   "source": [
    "### 4) Project Euler 3: Os fatores primos de 13195 são 5, 7, 13 e 29. Qual o maior primo fator de 600851475143? \n",
    "Existe uma solução mais interessante que essa que você possivelmente apresentou?"
   ]
  },
  {
   "cell_type": "code",
   "execution_count": 42,
   "metadata": {},
   "outputs": [],
   "source": [
    "\"\"\" \n",
    "Primeiro, definimos uma função que verifica se um número é primo.\n",
    "Se o número for menor que 2, ele não é primo.\n",
    "Se o número for divisível por qualquer número entre 2 e a raiz quadrada do número, ele não é primo.\n",
    "(lembrando, a raiz quadrada de um número é esse número elevado a 0.5)\n",
    "\n",
    "Depois, definimos n como o número que queremos fatorar.\n",
    "Definimos fator_primo_max como 1.\n",
    "Iteramos de 2 até a raiz quadrada de n + 1.\n",
    "Se n for divisível por i, verificamos se i é primo e se i é maior que fator_primo_max.\n",
    "Se as duas condições forem verdadeiras, atualizamos fator_primo_max.\n",
    "\"\"\"\n",
    "\n",
    "\n",
    "def sol1():\n",
    "    def for_primo(num):\n",
    "        if num < 2:\n",
    "            return False\n",
    "        for i in range(2, int(num**0.5) + 1):\n",
    "            if num % i == 0:\n",
    "                return False\n",
    "        return True\n",
    "\n",
    "    n = 600851475143\n",
    "    fator_primo_max = 1\n",
    "\n",
    "    for i in range(2, int(n**0.5) + 1):\n",
    "        if n % i == 0:\n",
    "            if for_primo(i) and i > fator_primo_max:\n",
    "                fator_primo_max = i\n",
    "\n",
    "    return fator_primo_max\n",
    "\n",
    "\n",
    "\"\"\" \n",
    "Esta é uma solução alternativa, muito mais eficiente.\n",
    "A solução começa inicializando o número dado n e um fator i=2. O loop externo itera enquanto i*i<n, o que significa que só precisamos verificar fatores até a raiz quadrada de n.\n",
    "Dentro do loop externo, temos outro loop que divide n por i enquanto é divisível sem resto. Isso remove todos os fatores de i de n. \n",
    "Quando este loop interno termina, sabemos que ou n não tem mais fatores de i restantes ou n em si se tornou um número menor porque o dividimos por i.\n",
    "Em seguida, incrementamos i em 1 e continuamos com o loop externo para verificar o próximo fator.\n",
    "Finalmente, a função retorna n, que será o maior fator primo de n original quando o loop externo terminar. \n",
    "Isso ocorre porque quaisquer fatores menores que i já foram divididos de n e quaisquer fatores maiores que i já foram encontrados e divididos em uma iteração anterior do loop externo.\n",
    "\n",
    "Esta abordagem é mais rápida que a solução anterior porque elimina a verificação de primalidade para cada fator. \n",
    "Em vez disso, ele divide diretamente todos os fatores até atingir o maior fator primo. Isso resulta em uma aceleração significativa para valores de entrada maiores.\n",
    "\"\"\"\n",
    "\n",
    "\n",
    "def sol2():\n",
    "    n = 600851475143\n",
    "    i = 2\n",
    "    while i * i < n:\n",
    "        while n % i == 0:\n",
    "            n = n // i\n",
    "        i = i + 1\n",
    "    return n"
   ]
  },
  {
   "cell_type": "code",
   "execution_count": 43,
   "metadata": {},
   "outputs": [
    {
     "name": "stdout",
     "output_type": "stream",
     "text": [
      "6857\n",
      "6857\n",
      "\n",
      "Tempo de execução:\n",
      "2.3839669590233825 segundos\n",
      "\n",
      "0.007703041017521173 segundos\n",
      "\n"
     ]
    }
   ],
   "source": [
    "print(sol1())\n",
    "print(sol2())\n",
    "\n",
    "print(\"\\nTempo de execução:\")\n",
    "print(timeit.timeit(lambda: sol1(), number=100), \"segundos\\n\")\n",
    "print(timeit.timeit(lambda: sol2(), number=100), \"segundos\\n\")"
   ]
  },
  {
   "attachments": {},
   "cell_type": "markdown",
   "metadata": {},
   "source": [
    "# Coleções de Dados"
   ]
  },
  {
   "attachments": {},
   "cell_type": "markdown",
   "metadata": {},
   "source": [
    "### 1) Implemente o algoritmo conhecido como Bubble sort na forma iterativa e recursiva."
   ]
  },
  {
   "cell_type": "code",
   "execution_count": 44,
   "metadata": {},
   "outputs": [],
   "source": [
    "\"\"\"\n",
    "Implementação Iterativa\n",
    "\n",
    "Obtemos o tamanho da lista.\n",
    "Iteramos por todos os elementos da lista, exceto os últimos, que já estão no lugar correto.\n",
    "Dentro do loop externo, iteramos por todos os elementos restantes da lista.\n",
    "Verificamos se o elemento atual é maior do que o próximo elemento.\n",
    "Se for, realizamos a troca dos elementos.\n",
    "Retornamos a lista ordenada.\n",
    "\"\"\"\n",
    "\n",
    "def bubble_sort_iterativo(arr):\n",
    "    n = len(arr)\n",
    "\n",
    "    for i in range(n - 1):\n",
    "        for j in range(n - i - 1):\n",
    "            if arr[j] > arr[j + 1]:\n",
    "                arr[j], arr[j + 1] = arr[j + 1], arr[j]\n",
    "\n",
    "    return arr\n",
    "\n",
    "\"\"\"\n",
    "Implementação Recursiva\n",
    "\n",
    "Iniciamos a função com a lista a ser ordenada e um parâmetro opcional n.\n",
    "Se o valor de n não for fornecido, definimos seu valor como o tamanho da lista.\n",
    "Caso base: Se a lista tiver tamanho 1, ela já está ordenada, então a retornamos.\n",
    "Iteramos por todos os elementos da lista, exceto o último.\n",
    "Verificamos se o elemento atual é maior do que o próximo elemento.\n",
    "Se for, realizamos a troca dos elementos.\n",
    "Chamamos recursivamente a função para os elementos restantes da lista.\n",
    "Retornamos a lista ordenada.\n",
    "\"\"\"\n",
    "\n",
    "def bubble_sort_recursivo(arr, n=None):\n",
    "    if n is None:\n",
    "        n = len(arr)\n",
    "\n",
    "    if n == 1:\n",
    "        return arr\n",
    "\n",
    "    for i in range(n - 1):\n",
    "        if arr[i] > arr[i + 1]:\n",
    "            arr[i], arr[i + 1] = arr[i + 1], arr[i]\n",
    "\n",
    "    return bubble_sort_recursivo(arr, n - 1)\n",
    "\n"
   ]
  },
  {
   "cell_type": "code",
   "execution_count": 45,
   "metadata": {},
   "outputs": [
    {
     "name": "stdout",
     "output_type": "stream",
     "text": [
      "[998, 845, 980, 8, 975, 258, 499, 470, 606, 412, 916, 161, 133, 42, 228, 865, 991, 73, 418, 777, 945, 110, 793, 372, 452, 701, 347, 263, 202, 50, 190, 743, 472, 946, 470, 54, 952, 11, 697, 249, 795, 109, 659, 232, 130, 686, 732, 739, 838, 195, 434, 10, 209, 757, 263, 416, 657, 891, 767, 496, 469, 439, 71, 214, 721, 21, 985, 905, 506, 823, 463, 279, 731, 811, 45, 138, 876, 16, 290, 228, 419, 155, 43, 2, 64, 758, 332, 421, 117, 820, 915, 401, 200, 206, 607, 119, 205, 172, 571, 701, 633, 28, 777, 496, 802, 880, 929, 287, 356, 301, 159, 408, 665, 843, 250, 807, 373, 407, 480, 329, 254, 614, 541, 271, 433, 527, 417, 480, 863, 470, 203, 516, 755, 712, 937, 758, 619, 635, 77, 409, 736, 304, 927, 130, 659, 925, 457, 205, 571, 611, 45, 397, 767, 127, 863, 882, 579, 9, 414, 820, 487, 107, 442, 827, 642, 11, 229, 505, 444, 940, 838, 515, 611, 142, 28, 541, 108, 981, 548, 580, 792, 248, 313, 882, 212, 110, 161, 401, 11, 843, 165, 693, 313, 252, 782, 667, 598, 35, 508, 964, 906, 281, 414, 787, 357, 512, 6, 597, 538, 69, 624, 906, 731, 587, 564, 81, 425, 235, 815, 816, 671, 611, 741, 904, 411, 881, 72, 316, 526, 569, 190, 320, 641, 21, 836, 376, 928, 689, 960, 398, 426, 502, 812, 784, 44, 137, 119, 920, 256, 197, 79, 320, 966, 245, 733, 157, 910, 998, 722, 595, 180, 437, 259, 652, 968, 526, 516, 557, 215, 528, 800, 106, 449, 571, 129, 636, 323, 625, 530, 64, 527, 330, 601, 307, 250, 597, 180, 253, 472, 793, 238, 339, 650, 562, 192, 32, 351, 365, 126, 123, 207, 478, 721, 553, 225, 793, 340, 372, 931, 261, 212, 996, 907, 602, 151, 891, 408, 475, 745, 166, 56, 657, 0, 580, 34, 662, 137, 698, 860, 648, 1, 160, 857, 687, 623, 345, 318, 865, 642, 787, 866, 166, 206, 893, 341, 546, 461, 35, 982, 414, 256, 854, 217, 739, 125, 278, 773, 566, 236, 105, 102, 285, 721, 547, 587, 585, 779, 727, 520, 331, 620, 952, 129, 293, 462, 682, 451, 794, 174, 547, 414, 778, 840, 221, 574, 695, 892, 125, 291, 649, 47, 760, 535, 504, 837, 778, 136, 429, 87, 290, 408, 295, 311, 838, 323, 869, 182, 189, 721, 616, 790, 432, 372, 432, 343, 386, 762, 982, 438, 929, 536, 614, 890, 554, 371, 864, 735, 435, 312, 369, 941, 465, 711, 766, 605, 710, 503, 441, 251, 783, 627, 617, 860, 748, 923, 593, 646, 949, 374, 304, 172, 823, 168, 138, 999, 292, 906, 108, 649, 821, 298, 731, 378, 503, 521, 309, 709, 959, 625, 363, 252, 307, 119, 44, 281, 614, 352, 549, 340, 51, 393, 405, 962, 980, 577, 192, 26, 647, 813, 479, 879, 301, 779, 411, 577, 978, 481, 718, 673, 154, 274, 14, 87, 665, 972, 46, 679, 764, 694, 996, 137, 913, 511, 218, 790, 417, 361, 449, 793, 689, 303, 831, 61, 421, 411, 380, 158, 229, 477, 18, 359, 166, 729, 847, 479, 780, 617, 559, 869, 725, 663, 924, 809, 779, 248, 601, 878, 574, 811, 4, 439, 559, 746, 681, 42, 65, 852, 940, 458, 673, 433, 316, 415, 678, 341, 160, 315, 147, 168, 936, 444, 133, 533, 558, 21, 443, 186, 685, 115, 960, 467, 396, 145, 783, 134, 570, 836, 421, 567, 209, 179, 594, 248, 849, 624, 280, 489, 291, 8, 129, 791, 689, 282, 683, 40, 561, 125, 602, 186, 377, 580, 217, 838, 590, 65, 315, 294, 994, 417, 812, 601, 282, 542, 322, 90, 469, 5, 130, 557, 443, 703, 62, 72, 722, 325, 260, 543, 836, 710, 214, 103, 709, 837, 25, 261, 992, 555, 303, 976, 673, 13, 301, 728, 165, 167, 949, 100, 449, 896, 488, 748, 37, 200, 617, 753, 924, 295, 333, 430, 141, 30, 652, 858, 658, 473, 695, 627, 525, 59, 323, 230, 302, 904, 473, 135, 960, 800, 807, 529, 78, 802, 205, 105, 856, 817, 657, 62, 758, 593, 915, 358, 484, 88, 477, 227, 873, 16, 12, 575, 326, 828, 696, 632, 677, 980, 595, 72, 853, 938, 897, 658, 823, 649, 226, 689, 961, 775, 174, 106, 833, 525, 141, 163, 277, 591, 711, 316, 117, 563, 56, 623, 124, 917, 379, 777, 812, 451, 805, 131, 287, 350, 465, 952, 981, 306, 66, 297, 80, 986, 717, 439, 505, 235, 57, 541, 781, 363, 680, 546, 246, 313, 133, 555, 582, 540, 151, 601, 443, 706, 987, 705, 431, 536, 357, 139, 393, 923, 491, 959, 847, 285, 486, 995, 196, 706, 736, 8, 409, 737, 250, 874, 820, 462, 237, 136, 354, 795, 610, 473, 399, 330, 553, 271, 608, 830, 841, 418, 560, 722, 780, 280, 118, 544, 714, 187, 780, 653, 74, 158, 588, 466, 816, 632, 790, 33, 112, 616, 908, 330, 515, 207, 866, 399, 433, 68, 503, 497, 602, 981, 469, 437, 90, 434, 101, 419, 938, 368, 348, 221, 439, 691, 305, 583, 910, 954, 667, 955, 228, 165, 945, 758, 501, 542, 461, 203, 214, 734, 944, 551, 154, 331, 623, 523, 429, 287, 365, 735, 621, 966, 742, 756, 327, 350, 461, 644, 235, 362, 566, 111, 712, 184, 52, 104, 19, 634, 657, 769, 784, 485, 879, 853, 233, 845, 558, 499, 380, 652, 88, 934, 747, 523, 106, 855, 12, 142, 582, 685, 194, 480, 891, 438, 504, 511, 108, 593, 480, 407, 35, 290, 895, 949, 627, 646, 947, 740, 126, 84, 136, 204, 938, 186, 13, 743, 457, 923, 126, 314, 354, 39, 807, 698, 550, 243, 625, 955, 342, 827, 965, 239, 333, 552, 620, 705, 191, 942, 659, 826, 344, 949, 206, 194, 940, 895, 273, 585, 584, 491, 323, 282, 82, 254, 146, 323, 4, 153, 447, 345, 723, 424, 686]\n",
      "[0, 1, 2, 4, 4, 5, 6, 8, 8, 8, 9, 10, 11, 11, 11, 12, 12, 13, 13, 14, 16, 16, 18, 19, 21, 21, 21, 25, 26, 28, 28, 30, 32, 33, 34, 35, 35, 35, 37, 39, 40, 42, 42, 43, 44, 44, 45, 45, 46, 47, 50, 51, 52, 54, 56, 56, 57, 59, 61, 62, 62, 64, 64, 65, 65, 66, 68, 69, 71, 72, 72, 72, 73, 74, 77, 78, 79, 80, 81, 82, 84, 87, 87, 88, 88, 90, 90, 100, 101, 102, 103, 104, 105, 105, 106, 106, 106, 107, 108, 108, 108, 109, 110, 110, 111, 112, 115, 117, 117, 118, 119, 119, 119, 123, 124, 125, 125, 125, 126, 126, 126, 127, 129, 129, 129, 130, 130, 130, 131, 133, 133, 133, 134, 135, 136, 136, 136, 137, 137, 137, 138, 138, 139, 141, 141, 142, 142, 145, 146, 147, 151, 151, 153, 154, 154, 155, 157, 158, 158, 159, 160, 160, 161, 161, 163, 165, 165, 165, 166, 166, 166, 167, 168, 168, 172, 172, 174, 174, 179, 180, 180, 182, 184, 186, 186, 186, 187, 189, 190, 190, 191, 192, 192, 194, 194, 195, 196, 197, 200, 200, 202, 203, 203, 204, 205, 205, 205, 206, 206, 206, 207, 207, 209, 209, 212, 212, 214, 214, 214, 215, 217, 217, 218, 221, 221, 225, 226, 227, 228, 228, 228, 229, 229, 230, 232, 233, 235, 235, 235, 236, 237, 238, 239, 243, 245, 246, 248, 248, 248, 249, 250, 250, 250, 251, 252, 252, 253, 254, 254, 256, 256, 258, 259, 260, 261, 261, 263, 263, 271, 271, 273, 274, 277, 278, 279, 280, 280, 281, 281, 282, 282, 282, 285, 285, 287, 287, 287, 290, 290, 290, 291, 291, 292, 293, 294, 295, 295, 297, 298, 301, 301, 301, 302, 303, 303, 304, 304, 305, 306, 307, 307, 309, 311, 312, 313, 313, 313, 314, 315, 315, 316, 316, 316, 318, 320, 320, 322, 323, 323, 323, 323, 323, 325, 326, 327, 329, 330, 330, 330, 331, 331, 332, 333, 333, 339, 340, 340, 341, 341, 342, 343, 344, 345, 345, 347, 348, 350, 350, 351, 352, 354, 354, 356, 357, 357, 358, 359, 361, 362, 363, 363, 365, 365, 368, 369, 371, 372, 372, 372, 373, 374, 376, 377, 378, 379, 380, 380, 386, 393, 393, 396, 397, 398, 399, 399, 401, 401, 405, 407, 407, 408, 408, 408, 409, 409, 411, 411, 411, 412, 414, 414, 414, 414, 415, 416, 417, 417, 417, 418, 418, 419, 419, 421, 421, 421, 424, 425, 426, 429, 429, 430, 431, 432, 432, 433, 433, 433, 434, 434, 435, 437, 437, 438, 438, 439, 439, 439, 439, 441, 442, 443, 443, 443, 444, 444, 447, 449, 449, 449, 451, 451, 452, 457, 457, 458, 461, 461, 461, 462, 462, 463, 465, 465, 466, 467, 469, 469, 469, 470, 470, 470, 472, 472, 473, 473, 473, 475, 477, 477, 478, 479, 479, 480, 480, 480, 480, 481, 484, 485, 486, 487, 488, 489, 491, 491, 496, 496, 497, 499, 499, 501, 502, 503, 503, 503, 504, 504, 505, 505, 506, 508, 511, 511, 512, 515, 515, 516, 516, 520, 521, 523, 523, 525, 525, 526, 526, 527, 527, 528, 529, 530, 533, 535, 536, 536, 538, 540, 541, 541, 541, 542, 542, 543, 544, 546, 546, 547, 547, 548, 549, 550, 551, 552, 553, 553, 554, 555, 555, 557, 557, 558, 558, 559, 559, 560, 561, 562, 563, 564, 566, 566, 567, 569, 570, 571, 571, 571, 574, 574, 575, 577, 577, 579, 580, 580, 580, 582, 582, 583, 584, 585, 585, 587, 587, 588, 590, 591, 593, 593, 593, 594, 595, 595, 597, 597, 598, 601, 601, 601, 601, 602, 602, 602, 605, 606, 607, 608, 610, 611, 611, 611, 614, 614, 614, 616, 616, 617, 617, 617, 619, 620, 620, 621, 623, 623, 623, 624, 624, 625, 625, 625, 627, 627, 627, 632, 632, 633, 634, 635, 636, 641, 642, 642, 644, 646, 646, 647, 648, 649, 649, 649, 650, 652, 652, 652, 653, 657, 657, 657, 657, 658, 658, 659, 659, 659, 662, 663, 665, 665, 667, 667, 671, 673, 673, 673, 677, 678, 679, 680, 681, 682, 683, 685, 685, 686, 686, 687, 689, 689, 689, 689, 691, 693, 694, 695, 695, 696, 697, 698, 698, 701, 701, 703, 705, 705, 706, 706, 709, 709, 710, 710, 711, 711, 712, 712, 714, 717, 718, 721, 721, 721, 721, 722, 722, 722, 723, 725, 727, 728, 729, 731, 731, 731, 732, 733, 734, 735, 735, 736, 736, 737, 739, 739, 740, 741, 742, 743, 743, 745, 746, 747, 748, 748, 753, 755, 756, 757, 758, 758, 758, 758, 760, 762, 764, 766, 767, 767, 769, 773, 775, 777, 777, 777, 778, 778, 779, 779, 779, 780, 780, 780, 781, 782, 783, 783, 784, 784, 787, 787, 790, 790, 790, 791, 792, 793, 793, 793, 793, 794, 795, 795, 800, 800, 802, 802, 805, 807, 807, 807, 809, 811, 811, 812, 812, 812, 813, 815, 816, 816, 817, 820, 820, 820, 821, 823, 823, 823, 826, 827, 827, 828, 830, 831, 833, 836, 836, 836, 837, 837, 838, 838, 838, 838, 840, 841, 843, 843, 845, 845, 847, 847, 849, 852, 853, 853, 854, 855, 856, 857, 858, 860, 860, 863, 863, 864, 865, 865, 866, 866, 869, 869, 873, 874, 876, 878, 879, 879, 880, 881, 882, 882, 890, 891, 891, 891, 892, 893, 895, 895, 896, 897, 904, 904, 905, 906, 906, 906, 907, 908, 910, 910, 913, 915, 915, 916, 917, 920, 923, 923, 923, 924, 924, 925, 927, 928, 929, 929, 931, 934, 936, 937, 938, 938, 938, 940, 940, 940, 941, 942, 944, 945, 945, 946, 947, 949, 949, 949, 949, 952, 952, 952, 954, 955, 955, 959, 959, 960, 960, 960, 961, 962, 964, 965, 966, 966, 968, 972, 975, 976, 978, 980, 980, 980, 981, 981, 981, 982, 982, 985, 986, 987, 991, 992, 994, 995, 996, 996, 998, 998, 999]\n",
      "[0, 1, 2, 4, 4, 5, 6, 8, 8, 8, 9, 10, 11, 11, 11, 12, 12, 13, 13, 14, 16, 16, 18, 19, 21, 21, 21, 25, 26, 28, 28, 30, 32, 33, 34, 35, 35, 35, 37, 39, 40, 42, 42, 43, 44, 44, 45, 45, 46, 47, 50, 51, 52, 54, 56, 56, 57, 59, 61, 62, 62, 64, 64, 65, 65, 66, 68, 69, 71, 72, 72, 72, 73, 74, 77, 78, 79, 80, 81, 82, 84, 87, 87, 88, 88, 90, 90, 100, 101, 102, 103, 104, 105, 105, 106, 106, 106, 107, 108, 108, 108, 109, 110, 110, 111, 112, 115, 117, 117, 118, 119, 119, 119, 123, 124, 125, 125, 125, 126, 126, 126, 127, 129, 129, 129, 130, 130, 130, 131, 133, 133, 133, 134, 135, 136, 136, 136, 137, 137, 137, 138, 138, 139, 141, 141, 142, 142, 145, 146, 147, 151, 151, 153, 154, 154, 155, 157, 158, 158, 159, 160, 160, 161, 161, 163, 165, 165, 165, 166, 166, 166, 167, 168, 168, 172, 172, 174, 174, 179, 180, 180, 182, 184, 186, 186, 186, 187, 189, 190, 190, 191, 192, 192, 194, 194, 195, 196, 197, 200, 200, 202, 203, 203, 204, 205, 205, 205, 206, 206, 206, 207, 207, 209, 209, 212, 212, 214, 214, 214, 215, 217, 217, 218, 221, 221, 225, 226, 227, 228, 228, 228, 229, 229, 230, 232, 233, 235, 235, 235, 236, 237, 238, 239, 243, 245, 246, 248, 248, 248, 249, 250, 250, 250, 251, 252, 252, 253, 254, 254, 256, 256, 258, 259, 260, 261, 261, 263, 263, 271, 271, 273, 274, 277, 278, 279, 280, 280, 281, 281, 282, 282, 282, 285, 285, 287, 287, 287, 290, 290, 290, 291, 291, 292, 293, 294, 295, 295, 297, 298, 301, 301, 301, 302, 303, 303, 304, 304, 305, 306, 307, 307, 309, 311, 312, 313, 313, 313, 314, 315, 315, 316, 316, 316, 318, 320, 320, 322, 323, 323, 323, 323, 323, 325, 326, 327, 329, 330, 330, 330, 331, 331, 332, 333, 333, 339, 340, 340, 341, 341, 342, 343, 344, 345, 345, 347, 348, 350, 350, 351, 352, 354, 354, 356, 357, 357, 358, 359, 361, 362, 363, 363, 365, 365, 368, 369, 371, 372, 372, 372, 373, 374, 376, 377, 378, 379, 380, 380, 386, 393, 393, 396, 397, 398, 399, 399, 401, 401, 405, 407, 407, 408, 408, 408, 409, 409, 411, 411, 411, 412, 414, 414, 414, 414, 415, 416, 417, 417, 417, 418, 418, 419, 419, 421, 421, 421, 424, 425, 426, 429, 429, 430, 431, 432, 432, 433, 433, 433, 434, 434, 435, 437, 437, 438, 438, 439, 439, 439, 439, 441, 442, 443, 443, 443, 444, 444, 447, 449, 449, 449, 451, 451, 452, 457, 457, 458, 461, 461, 461, 462, 462, 463, 465, 465, 466, 467, 469, 469, 469, 470, 470, 470, 472, 472, 473, 473, 473, 475, 477, 477, 478, 479, 479, 480, 480, 480, 480, 481, 484, 485, 486, 487, 488, 489, 491, 491, 496, 496, 497, 499, 499, 501, 502, 503, 503, 503, 504, 504, 505, 505, 506, 508, 511, 511, 512, 515, 515, 516, 516, 520, 521, 523, 523, 525, 525, 526, 526, 527, 527, 528, 529, 530, 533, 535, 536, 536, 538, 540, 541, 541, 541, 542, 542, 543, 544, 546, 546, 547, 547, 548, 549, 550, 551, 552, 553, 553, 554, 555, 555, 557, 557, 558, 558, 559, 559, 560, 561, 562, 563, 564, 566, 566, 567, 569, 570, 571, 571, 571, 574, 574, 575, 577, 577, 579, 580, 580, 580, 582, 582, 583, 584, 585, 585, 587, 587, 588, 590, 591, 593, 593, 593, 594, 595, 595, 597, 597, 598, 601, 601, 601, 601, 602, 602, 602, 605, 606, 607, 608, 610, 611, 611, 611, 614, 614, 614, 616, 616, 617, 617, 617, 619, 620, 620, 621, 623, 623, 623, 624, 624, 625, 625, 625, 627, 627, 627, 632, 632, 633, 634, 635, 636, 641, 642, 642, 644, 646, 646, 647, 648, 649, 649, 649, 650, 652, 652, 652, 653, 657, 657, 657, 657, 658, 658, 659, 659, 659, 662, 663, 665, 665, 667, 667, 671, 673, 673, 673, 677, 678, 679, 680, 681, 682, 683, 685, 685, 686, 686, 687, 689, 689, 689, 689, 691, 693, 694, 695, 695, 696, 697, 698, 698, 701, 701, 703, 705, 705, 706, 706, 709, 709, 710, 710, 711, 711, 712, 712, 714, 717, 718, 721, 721, 721, 721, 722, 722, 722, 723, 725, 727, 728, 729, 731, 731, 731, 732, 733, 734, 735, 735, 736, 736, 737, 739, 739, 740, 741, 742, 743, 743, 745, 746, 747, 748, 748, 753, 755, 756, 757, 758, 758, 758, 758, 760, 762, 764, 766, 767, 767, 769, 773, 775, 777, 777, 777, 778, 778, 779, 779, 779, 780, 780, 780, 781, 782, 783, 783, 784, 784, 787, 787, 790, 790, 790, 791, 792, 793, 793, 793, 793, 794, 795, 795, 800, 800, 802, 802, 805, 807, 807, 807, 809, 811, 811, 812, 812, 812, 813, 815, 816, 816, 817, 820, 820, 820, 821, 823, 823, 823, 826, 827, 827, 828, 830, 831, 833, 836, 836, 836, 837, 837, 838, 838, 838, 838, 840, 841, 843, 843, 845, 845, 847, 847, 849, 852, 853, 853, 854, 855, 856, 857, 858, 860, 860, 863, 863, 864, 865, 865, 866, 866, 869, 869, 873, 874, 876, 878, 879, 879, 880, 881, 882, 882, 890, 891, 891, 891, 892, 893, 895, 895, 896, 897, 904, 904, 905, 906, 906, 906, 907, 908, 910, 910, 913, 915, 915, 916, 917, 920, 923, 923, 923, 924, 924, 925, 927, 928, 929, 929, 931, 934, 936, 937, 938, 938, 938, 940, 940, 940, 941, 942, 944, 945, 945, 946, 947, 949, 949, 949, 949, 952, 952, 952, 954, 955, 955, 959, 959, 960, 960, 960, 961, 962, 964, 965, 966, 966, 968, 972, 975, 976, 978, 980, 980, 980, 981, 981, 981, 982, 982, 985, 986, 987, 991, 992, 994, 995, 996, 996, 998, 998, 999]\n"
     ]
    }
   ],
   "source": [
    "arr = [random.randint(0, 1000) for i in range(1000)]\n",
    "print(arr)\n",
    "\n",
    "print(bubble_sort_iterativo(arr))\n",
    "print(bubble_sort_recursivo(arr))"
   ]
  },
  {
   "attachments": {},
   "cell_type": "markdown",
   "metadata": {},
   "source": [
    "### 2) Faça um programa iterativo e outro recursivo para testar se um número é um palíndromo."
   ]
  },
  {
   "cell_type": "code",
   "execution_count": 46,
   "metadata": {},
   "outputs": [],
   "source": [
    "\"\"\"\n",
    "Implementação Iterativa\n",
    "\n",
    "Iniciamos a função convertendo o número em uma string para facilitar a comparação.\n",
    "Inicializamos dois ponteiros no início e no fim da string.\n",
    "Comparamos os caracteres das duas extremidades, movendo em direção ao centro.\n",
    "Enquanto o ponteiro esquerdo for menor que o ponteiro direito, continuamos o loop.\n",
    "Se os caracteres nas posições atuais não forem iguais, não é um palíndromo e retornamos False.\n",
    "Movemos os ponteiros para mais perto do centro.\n",
    "Se o loop terminar sem encontrar diferenças, é um palíndromo e retornamos True.\n",
    "\"\"\"\n",
    "\n",
    "def checar_palindromo_iterativo(num):\n",
    "    num_str = str(num)\n",
    "\n",
    "    left = 0\n",
    "    right = len(num_str) - 1\n",
    "\n",
    "    while left < right:\n",
    "        if num_str[left] != num_str[right]:\n",
    "            return False\n",
    "\n",
    "        left += 1\n",
    "        right -= 1\n",
    "\n",
    "    return True\n",
    "\n",
    "\n",
    "\"\"\"\n",
    "Implementação Recursiva\n",
    "\n",
    "Caso base: Se a string tiver 0 ou 1 caractere, é um palíndromo e retornamos True.\n",
    "Caso recursivo: Verificamos se o primeiro e último caracteres são iguais.\n",
    "Se não forem, não é um palíndromo e retornamos False.\n",
    "Chamada recursiva: Verificamos se a substring sem o primeiro e último caracteres é um palíndromo.\n",
    "Retornamos o resultado da chamada recursiva.\n",
    "\"\"\"\n",
    "\n",
    "def checar_palindromo_recursivo(num):\n",
    "    num_str = str(num)\n",
    "\n",
    "    if len(num_str) <= 1:\n",
    "        return True\n",
    "\n",
    "    if num_str[0] != num_str[-1]:\n",
    "        return False\n",
    "\n",
    "    return checar_palindromo_recursivo(num_str[1:-1])"
   ]
  },
  {
   "attachments": {},
   "cell_type": "markdown",
   "metadata": {},
   "source": [
    "### 3) Faça um programa iterativo e outro recursivo para calcular a raiz digital de um número.\n",
    "A raiz digital de um inteiro n é dividido como o resultado da soma dos dígitos\n",
    "repetidamente até que apenas um único dígito sobra. Por exemplo, a raiz\n",
    "digital de 3799 pode ser calculada como:\n",
    "- Passo 1: 3+7+9+9=28\n",
    "- Passo 2: 2+8=10\n",
    "- Passo 3: 1+0=1"
   ]
  },
  {
   "cell_type": "code",
   "execution_count": 47,
   "metadata": {},
   "outputs": [],
   "source": [
    "\"\"\"\n",
    "Implementação Iterativa\n",
    "\n",
    "Enquanto o número for maior ou igual a 10, ou seja, possuir mais de um dígito:\n",
    "Convertemos o número em uma lista de dígitos e somamos eles.\n",
    "Atualiza o número com a soma dos dígitos.\n",
    "Retorna o número resultante, que representa a raiz digital.\n",
    "\"\"\"\n",
    "\n",
    "def calcular_raiz_digital_iterativa(num):\n",
    "    while num >= 10:\n",
    "        digitos = [d for d in str(num)]\n",
    "        num = sum(digitos)\n",
    "    \n",
    "    return num\n",
    "\n",
    "\n",
    "\"\"\"\n",
    "Implementação Recursiva\n",
    "\n",
    "Calcula a raiz digital de forma recursiva.\n",
    "Caso base: Se o número possui apenas um dígito, retorna o próprio número.\n",
    "Convertemos o número em uma lista de dígitos e somamos eles.\n",
    "Chamada recursiva passando a soma como novo número.\n",
    "Retorna o resultado da chamada recursiva.\n",
    "\"\"\"\n",
    "\n",
    "def calcular_raiz_digital_recursiva(num):\n",
    "    if num < 10:\n",
    "        return num\n",
    "    \n",
    "    digitos = [d for d in str(num)]\n",
    "    soma = sum(digitos)\n",
    "    \n",
    "    return calcular_raiz_digital_recursiva(soma)\n"
   ]
  },
  {
   "attachments": {},
   "cell_type": "markdown",
   "metadata": {},
   "source": [
    "### 4) Implemente um programa para achar os dois pontos mais próximos em uma lista de tuplas (x1,y1),··· ,(xn,yn).\n",
    "Essa implementação é eficiente? Considere melhorar essa implementação."
   ]
  },
  {
   "cell_type": "code",
   "execution_count": 48,
   "metadata": {},
   "outputs": [],
   "source": [
    "\"\"\"\n",
    "Definimos uma função para calcular a distância entre dois pontos.\n",
    "Com isso, seguimos o princípio da responsabilidade única e mantemos o código mais organizado.\n",
    "Usamos a fórmula da distância euclidiana: a raiz quadrada da soma dos quadrados das diferenças entre as coordenadas.\n",
    "\"\"\"\n",
    "\n",
    "def distancia(p1, p2):\n",
    "    return math.sqrt((p1[0] - p2[0])**2 + (p1[1] - p2[1])**2)\n",
    "\n",
    "\"\"\"\n",
    "Uma possível implementação é iterar sobre todos os pontos e comparar cada ponto com todos os outros pontos seguintes.\n",
    "Chamamos essa abordagem de força bruta, pois não usamos nenhuma técnica para otimizar o algoritmo além da tentativa e erro exaustiva.\n",
    "Inicializamos a distância mínima como infinito para garantir que qualquer distância encontrada seja menor.\n",
    "Iteramos sobre os pontos, comparando cada ponto com todos os outros pontos seguintes.\n",
    "Calculamos a distância entre os pontos usando a função distancia().\n",
    "Se a distância calculada for menor do que a distância mínima atual, atualizamos a distância mínima.\n",
    "Retornamos a distância mínima encontrada.\n",
    "\"\"\"\n",
    "\n",
    "def forca_bruta(pontos):\n",
    "    min_distancia = float('inf')  \n",
    "\n",
    "    for i in range(len(pontos)):\n",
    "        for j in range(i+1, len(pontos)):\n",
    "            dist = distancia(pontos[i], pontos[j])\n",
    "            if dist < min_distancia:\n",
    "                min_distancia = dist\n",
    "\n",
    "    return min_distancia, pontos[i], pontos[j]\n",
    "\n",
    "\n",
    "\"\"\"\n",
    "Implementação mais eficiente: Divide and Conquer\n",
    "\n",
    "Essa é uma implementação mais eficiente do que a força bruta, pois utiliza a estratégia divide and conquer.\n",
    "Essa filosofia de algoritmos consiste em dividir o problema em subproblemas menores, \n",
    "resolvê-los recursivamente e combinar as soluções para resolver o problema original.\n",
    "\n",
    "Primeiramente, obtemos o número de pontos.\n",
    "Caso base: Se houver apenas dois ou três pontos, utilizamos o método de força bruta.\n",
    "Em seguida, ordenamos os pontos pela coordenada x e dividimos os pontos em dois grupos de tamanhos iguais.\n",
    "Chamamos recursivamente a função para encontrar a distância mínima em cada grupo.\n",
    "Determinamos a distância mínima entre as duas distâncias calculadas.\n",
    "Encontramos os pontos que estão mais próximos do que a distância mínima ao longo da linha de divisão.\n",
    "Comparamos os pontos na faixa e atualizamos a distância mínima, se necessário.\n",
    "Retornamos a distância mínima encontrada.\n",
    "\"\"\"\n",
    "\n",
    "import math\n",
    "\n",
    "def distancia(p1, p2):\n",
    "    return math.sqrt((p1[0] - p2[0])**2 + (p1[1] - p2[1])**2)\n",
    "\n",
    "def forca_bruta(pontos):\n",
    "    min_distancia = float('inf')\n",
    "    i_j_minimos = (0, 0)\n",
    "\n",
    "    for i in range(len(pontos)):\n",
    "        for j in range(i+1, len(pontos)):\n",
    "            dist = distancia(pontos[i], pontos[j])\n",
    "            if dist < min_distancia:\n",
    "                min_distancia = dist\n",
    "                i_j_minimos = (i, j)\n",
    "\n",
    "    return min_distancia, pontos[i_j_minimos[0]], pontos[i_j_minimos[1]]\n",
    "\n",
    "def encontrar_par_mais_proximo(pontos):\n",
    "    n = len(pontos)\n",
    "\n",
    "    if n <= 3:\n",
    "        return forca_bruta(pontos)\n",
    "\n",
    "    pontos.sort()\n",
    "\n",
    "    meio = n // 2\n",
    "    metade_esquerda = pontos[:meio]\n",
    "    metade_direita = pontos[meio:]\n",
    "\n",
    "    dist_min_esquerda, pto1_esq, pto2_esq = encontrar_par_mais_proximo(metade_esquerda)\n",
    "    dist_min_direita, pto1_dir, pto2_dir = encontrar_par_mais_proximo(metade_direita)\n",
    "\n",
    "    dist_min = min(dist_min_esquerda, dist_min_direita)\n",
    "\n",
    "    faixa = []\n",
    "    for ponto in pontos:\n",
    "        if abs(ponto[0] - pontos[meio][0]) < dist_min:\n",
    "            faixa.append(ponto)\n",
    "\n",
    "    faixa.sort(key=lambda ponto: ponto[1])\n",
    "\n",
    "    pto1, pto2 = pto1_esq, pto2_esq  # Initialize closest points as left points\n",
    "    for i in range(len(faixa)):\n",
    "        for j in range(i+1, min(i+7, len(faixa))):\n",
    "            dist = distancia(faixa[i], faixa[j])\n",
    "            if dist < dist_min:\n",
    "                dist_min = dist\n",
    "                pto1, pto2 = faixa[i], faixa[j]\n",
    "\n",
    "    return dist_min, pto1, pto2\n"
   ]
  },
  {
   "cell_type": "code",
   "execution_count": 49,
   "metadata": {},
   "outputs": [
    {
     "name": "stdout",
     "output_type": "stream",
     "text": [
      "A distância mínima está entre os pontos (1, 2) e (2, 2) e é de 1.0 unidades\n"
     ]
    }
   ],
   "source": [
    "pontos = [(1, 2), (3, 4), (5, 6), (2, 2), (4, 4), (1, 7)]\n",
    "distancia, pto1, pto2 = encontrar_par_mais_proximo(pontos)\n",
    "print(f\"A distância mínima está entre os pontos {pto1} e {pto2} e é de {distancia} unidades\")"
   ]
  },
  {
   "cell_type": "code",
   "execution_count": 50,
   "metadata": {},
   "outputs": [],
   "source": [
    "import math\n",
    "\n",
    "\"\"\"\n",
    "Definimos uma função para calcular a distância entre dois pontos.\n",
    "Com isso, seguimos o princípio da responsabilidade única e mantemos o código mais organizado.\n",
    "Usamos a fórmula da distância euclidiana: a raiz quadrada da soma dos quadrados das diferenças entre as coordenadas.\n",
    "\"\"\"\n",
    "def distancia(ponto1, ponto2):\n",
    "    return math.sqrt((ponto1[0] - ponto2[0]) ** 2 + (ponto1[1] - ponto2[1]) ** 2)\n",
    "\n",
    "\"\"\"\n",
    "Uma possível implementação é iterar sobre todos os pontos e comparar cada ponto com todos os outros pontos seguintes.\n",
    "Chamamos essa abordagem de força bruta, pois não usamos nenhuma técnica para otimizar o algoritmo além da tentativa e erro exaustiva.\n",
    "Inicializamos a distância mínima como infinito para garantir que qualquer distância encontrada seja menor.\n",
    "Iteramos sobre os pontos, comparando cada ponto com todos os outros pontos seguintes.\n",
    "Calculamos a distância entre os pontos usando a função distancia().\n",
    "Se a distância calculada for menor do que a distância mínima atual, atualizamos a distância mínima.\n",
    "Retornamos a distância mínima encontrada.\n",
    "\"\"\"\n",
    "def forca_bruta(pontos):\n",
    "    dist_min = float(\"inf\")\n",
    "    pontos_min = None\n",
    "\n",
    "    for i in range(len(pontos)):\n",
    "        for j in range(i + 1, len(pontos)):\n",
    "            dist = distancia(pontos[i], pontos[j])\n",
    "            if dist < dist_min:\n",
    "                dist_min = dist\n",
    "                pontos_min = (pontos[i], pontos[j])\n",
    "\n",
    "    return dist_min, pontos_min\n",
    "\n",
    "\"\"\"\n",
    "Implementação mais eficiente: Divisão e Conquista\n",
    "\n",
    "Essa é uma implementação mais eficiente do que a força bruta, pois utiliza a estratégia de divisão e conquista.\n",
    "Essa abordagem consiste em dividir o problema em subproblemas menores,\n",
    "resolvê-los recursivamente e combinar as soluções para resolver o problema original.\n",
    "\n",
    "Passo a passo da implementação:\n",
    "1. Obtemos o número de pontos no conjunto de entrada.\n",
    "2. Verificamos o caso base: se houver apenas dois ou três pontos, utilizamos o método de força bruta.\n",
    "3. Ordenamos os pontos pela coordenada x.\n",
    "4. Dividimos o conjunto de pontos em duas metades de tamanhos iguais.\n",
    "5. Chamamos recursivamente a função para encontrar a distância mínima em cada metade.\n",
    "\n",
    "Aqui, estamos muito perto de encontrar a distância mínima entre os pontos mais próximos.\n",
    "Temos duas distâncias mínimas que são boas candidatas para a distância mínima entre os pontos mais próximos.\n",
    "Porém, precisamos considerar a possibilidade de que os pontos mais próximos estejam em lados opostos da linha de divisão.\n",
    "Para isso, traçamos uma \"faixa\" de largura 2d ao redor da linha de divisão, onde d é a distância mínima encontrada nas metades.\n",
    "\n",
    "6. Determinamos a distância mínima entre as duas distâncias calculadas.\n",
    "7. Encontramos os pontos que estão mais próximos do que a distância mínima ao longo da linha de divisão.\n",
    "8. Comparamos os pontos na faixa e atualizamos a distância mínima, se necessário.\n",
    "9. Retornamos a distância mínima encontrada, juntamente com as coordenadas dos pontos mais próximos.\n",
    "\n",
    "Essa estratégia de divisão e conquista nos permite reduzir a complexidade do problema,\n",
    "aproveitando a ordenação dos pontos e explorando a propriedade de que os pontos mais próximos\n",
    "estarão em regiões próximas uns dos outros. Ao retornar as coordenadas dos pontos mais próximos,\n",
    "obtemos a informação completa sobre esses pontos para análises ou uso posterior.\n",
    "\n",
    "\"\"\"\n",
    "def pontos_mais_proximos(pontos):\n",
    "    n = len(pontos)\n",
    "\n",
    "    # Caso base: Se houver apenas dois ou três pontos, utiliza-se o método de força bruta.\n",
    "    if n <= 3:\n",
    "        return forca_bruta(pontos)\n",
    "\n",
    "    # Ordenamos os pontos pela coordenada x.\n",
    "    pontos.sort()\n",
    "\n",
    "    meio = n // 2\n",
    "    metade_esquerda = pontos[:meio]\n",
    "    metade_direita = pontos[meio:]\n",
    "\n",
    "    # Chama recursivamente a função para encontrar a distância mínima em cada grupo.\n",
    "    dist_min_esquerda, pontos_esq = pontos_mais_proximos(metade_esquerda)\n",
    "    dist_min_direita, pontos_dir = pontos_mais_proximos(metade_direita)\n",
    "\n",
    "    # Determina a distância mínima entre as duas distâncias calculadas.\n",
    "    dist_min = min(dist_min_esquerda, dist_min_direita)\n",
    "\n",
    "    # Encontra os pontos que estão mais próximos da linha de divisão do que a distância mínima encontrada.\n",
    "    # Salvamos esses pontos em uma \"faixa\" que tem tamanho 2 * dist_min.\n",
    "    faixa = []\n",
    "    for ponto in pontos:\n",
    "        if abs(ponto[0] - pontos[meio][0]) < dist_min:\n",
    "            faixa.append(ponto)\n",
    "\n",
    "    # Ordena os pontos na faixa pela coordenada y.\n",
    "    faixa.sort(key=lambda ponto: ponto[1])\n",
    "\n",
    "    # Encontra os pontos mais próximos na faixa e atualiza a distância mínima, se necessário.\n",
    "    dist_tira, pontos_tira = pontos_mais_proximos_faixa(faixa, dist_min)\n",
    "    if dist_tira < dist_min:\n",
    "        return dist_tira, pontos_tira\n",
    "\n",
    "    # Caso os pontos mais próximos não estejam na faixa, retorna a distância mínima encontrada.\n",
    "    dist_min, pontos_min = dist_min_esquerda, pontos_esq\n",
    "    if dist_min_direita < dist_min:\n",
    "        dist_min, pontos_min = dist_min_direita, pontos_dir\n",
    "\n",
    "    return dist_min, pontos_min\n",
    "\n",
    "# Função para encontrar os pontos mais próximos na faixa ao longo da linha de divisão.\n",
    "def pontos_mais_proximos_faixa(faixa, d):\n",
    "    dist_min = d\n",
    "    pontos_min = None\n",
    "    tamanho_faixa = len(faixa)\n",
    "\n",
    "    for i in range(tamanho_faixa):\n",
    "        for j in range(i + 1, tamanho_faixa):\n",
    "            if faixa[j][1] - faixa[i][1] >= dist_min:\n",
    "                break\n",
    "            dist = distancia(faixa[i], faixa[j])\n",
    "            if dist < dist_min:\n",
    "                dist_min = dist\n",
    "                pontos_min = (faixa[i], faixa[j])\n",
    "\n",
    "    return dist_min, pontos_min"
   ]
  },
  {
   "cell_type": "code",
   "execution_count": 51,
   "metadata": {},
   "outputs": [],
   "source": [
    "# Exemplo de uso\n",
    "num_pontos = 10000\n",
    "faixa_minima, faixa_maxima = -1000000, 1000000\n",
    "pontos = [(random.randint(faixa_minima, faixa_maxima), random.randint(faixa_minima, faixa_maxima)) for _ in range(num_pontos)]"
   ]
  },
  {
   "cell_type": "code",
   "execution_count": 52,
   "metadata": {},
   "outputs": [
    {
     "name": "stdout",
     "output_type": "stream",
     "text": [
      "A menor distância é 68.81860213634101\n",
      "Os pontos mais próximos são ((-787436, -508003), (-787492, -508043))\n"
     ]
    }
   ],
   "source": [
    "# Chamada da função principal para encontrar os pontos mais próximos.\n",
    "distancia_minima, pontos_mais_prox = forca_bruta(pontos)\n",
    "\n",
    "print(\"A menor distância é\", distancia_minima)\n",
    "print(\"Os pontos mais próximos são\", pontos_mais_prox)"
   ]
  },
  {
   "cell_type": "code",
   "execution_count": 53,
   "metadata": {},
   "outputs": [
    {
     "name": "stdout",
     "output_type": "stream",
     "text": [
      "A menor distância é 68.81860213634101\n",
      "Os pontos mais próximos são ((-787492, -508043), (-787436, -508003))\n"
     ]
    }
   ],
   "source": [
    "# Chamada da função principal para encontrar os pontos mais próximos.\n",
    "distancia_minima, pontos_mais_prox = pontos_mais_proximos(pontos)\n",
    "\n",
    "print(\"A menor distância é\", distancia_minima)\n",
    "print(\"Os pontos mais próximos são\", pontos_mais_prox)"
   ]
  },
  {
   "attachments": {},
   "cell_type": "markdown",
   "metadata": {},
   "source": [
    "### 5) Represente cada matriz como uma lista de listas e implemente um programa que calcule o produto de duas matrizes."
   ]
  },
  {
   "cell_type": "code",
   "execution_count": 54,
   "metadata": {},
   "outputs": [],
   "source": [
    "\"\"\"\n",
    "Primeiro, precisamos checar se a multiplicação é possível.\n",
    "Em seguida, obtemos as dimensões das matrizes e criamos uma matriz de resultado preenchida com zeros.\n",
    "Realizamos a multiplicação das matrizes:\n",
    "para cada linha da primeira matriz,\n",
    "para cada coluna da segunda matriz,\n",
    "para cada coluna da primeira matriz,\n",
    "realizamos a multiplicação de cada par de elementos correspondentes e somamos ao elemento correspondente da matriz de resultado.\n",
    "\"\"\"\n",
    "\n",
    "def produto_de_matrizes(matriz1, matriz2):\n",
    "    if len(matriz1[0]) != len(matriz2):\n",
    "        raise ValueError(\"Não é possível multiplicar as matrizes! colunas1 != linhas2\")\n",
    "\n",
    "    linhas1 = len(matriz1)\n",
    "    colunas1 = len(matriz1[0])\n",
    "    colunas2 = len(matriz2[0])\n",
    "\n",
    "    resultado = [[0 for _ in range(colunas2)] for _ in range(linhas1)]\n",
    "\n",
    "    for i in range(linhas1):\n",
    "        for j in range(colunas2):\n",
    "            for k in range(colunas1):\n",
    "                resultado[i][j] += matriz1[i][k] * matriz2[k][j]\n",
    "\n",
    "    return resultado\n"
   ]
  },
  {
   "cell_type": "code",
   "execution_count": 55,
   "metadata": {},
   "outputs": [
    {
     "name": "stdout",
     "output_type": "stream",
     "text": [
      "[[19, 22], [43, 50]]\n"
     ]
    }
   ],
   "source": [
    "matrix1 = [[1, 2], [3, 4]]\n",
    "matrix2 = [[5, 6], [7, 8]]\n",
    "\n",
    "result = produto_de_matrizes(matrix1, matrix2)\n",
    "print(result)"
   ]
  },
  {
   "attachments": {},
   "cell_type": "markdown",
   "metadata": {},
   "source": [
    "### 6) Considere a representação de um polinômio de grau n dada por uma lista de tamanho n +1. Então escreva uma função que receba de entrada 2 polinômios de graus quaisquer, gere uma lista de saída com o polinômio produto."
   ]
  },
  {
   "cell_type": "code",
   "execution_count": 56,
   "metadata": {},
   "outputs": [],
   "source": [
    "\"\"\"\n",
    "Obtemos os graus dos polinômios e do polinômio resultante.\n",
    "Em seguida, criamos uma lista preenchida com zeros para armazenar o polinômio produto.\n",
    "Para cada termo do primeiro polinômio,\n",
    "Para cada termo do segundo polinômio,\n",
    "Multiplicamos os coeficientes dos termos correspondentes e adicionamos ao coeficiente correspondente do polinômio produto.\n",
    "\"\"\"\n",
    "\n",
    "def multiplicar_polinomios(poly1, poly2):\n",
    "    grau1 = len(poly1) - 1\n",
    "    grau2 = len(poly2) - 1\n",
    "\n",
    "    grau_resultante = grau1 + grau2\n",
    "\n",
    "    produto = [0] * (grau_resultante + 1)\n",
    "\n",
    "    for i in range(grau1 + 1):\n",
    "        for j in range(grau2 + 1):\n",
    "            produto[i + j] += poly1[i] * poly2[j]\n",
    "\n",
    "    return produto\n"
   ]
  },
  {
   "cell_type": "code",
   "execution_count": 57,
   "metadata": {},
   "outputs": [
    {
     "name": "stdout",
     "output_type": "stream",
     "text": [
      "[8, -8, -2, 2]\n"
     ]
    }
   ],
   "source": [
    "poly1 = [2, -3, 1]  # 2x^2 - 3x + 1\n",
    "poly2 = [4, 2]     # 4x + 2\n",
    "# resultado: 8x^3 - 8x^2 - 2x + 2\n",
    "\n",
    "result = multiplicar_polinomios(poly1, poly2)\n",
    "print(result)"
   ]
  },
  {
   "attachments": {},
   "cell_type": "markdown",
   "metadata": {},
   "source": [
    "### 7) Use numpy para calcular em uma linha e de forma vetorizada o produto interno entre dois vetores."
   ]
  },
  {
   "cell_type": "code",
   "execution_count": 58,
   "metadata": {},
   "outputs": [
    {
     "name": "stdout",
     "output_type": "stream",
     "text": [
      "32\n"
     ]
    }
   ],
   "source": [
    "vector1 = np.array([1, 2, 3])\n",
    "vector2 = np.array([4, 5, 6])\n",
    "\n",
    "dot_product = np.dot(vector1, vector2)\n",
    "print(dot_product)"
   ]
  },
  {
   "attachments": {},
   "cell_type": "markdown",
   "metadata": {},
   "source": [
    "# Orientação a Objetos"
   ]
  },
  {
   "attachments": {},
   "cell_type": "markdown",
   "metadata": {},
   "source": [
    "### 1) Crie uma classe “Polinomials\" que tenha os métodos que permitam somar, multiplicar e escrever no console os polinômios."
   ]
  },
  {
   "cell_type": "code",
   "execution_count": 59,
   "metadata": {},
   "outputs": [],
   "source": [
    "\"\"\"\n",
    "Para essa classe, métodos mágicos são usados para definir o comportamento de operadores como +, -, * e /.\n",
    "Inicializamos a classe revertendo a ordem dos coeficientes para facilitar a manipulação.\n",
    "Definimos um método de representação em string do polinômio.\n",
    "\n",
    "Definimos um método de adição de polinômios:\n",
    "Obtemos o grau máximo entre os dois polinômios, para determinar o comprimento das listas de coeficientes.\n",
    "Criamos uma lista de zeros para armazenar os coeficientes resultantes.\n",
    "Realiza a adição dos polinômios, somando os coeficientes correspondentes.\n",
    "\n",
    "Definimos um método de multiplicação de polinômios:\n",
    "Determinamos o grau do polinômio resultante e criamos uma lista de zeros para armazenar os coeficientes.\n",
    "Realiza a multiplicação dos polinômios, multiplicando os coeficientes correspondentes \n",
    "e somando ao coeficiente correspondente do polinômio resultante.\n",
    "\"\"\"\n",
    "\n",
    "class Polynomials:\n",
    "    def __init__(self, coeffs):\n",
    "        self.coeffs = coeffs[::-1] \n",
    "\n",
    "    def __str__(self):\n",
    "        grau = len(self.coeffs) - 1\n",
    "        termos = []\n",
    "\n",
    "        for potencia, coef in enumerate(self.coeffs):\n",
    "            termo = f\"{coef}x^{grau - potencia}\"\n",
    "            termos.append(termo)\n",
    "\n",
    "        return \" + \".join(termos)\n",
    "\n",
    "    def __add__(self, outro):\n",
    "        grau_maximo = max(len(self.coeffs), len(outro.coeffs))\n",
    "\n",
    "        coeffs1 = self.coeffs + [0] * (grau_maximo - len(self.coeffs))\n",
    "        coeffs2 = outro.coeffs + [0] * (grau_maximo - len(outro.coeffs))\n",
    "\n",
    "        coeffs_resultantes = [coef1 + coef2 for coef1, coef2 in zip(coeffs1, coeffs2)]\n",
    "\n",
    "        return Polynomials(coeffs_resultantes[::-1])\n",
    "\n",
    "    def __mul__(self, outro):\n",
    "        grau_resultante = len(self.coeffs) + len(outro.coeffs) - 2\n",
    "\n",
    "        coeffs_resultantes = [0] * (grau_resultante + 1)\n",
    "\n",
    "        for i, coef1 in enumerate(self.coeffs):\n",
    "            for j, coef2 in enumerate(outro.coeffs):\n",
    "                coeffs_resultantes[i + j] += coef1 * coef2\n",
    "\n",
    "        return Polynomials(coeffs_resultantes[::-1])\n"
   ]
  },
  {
   "cell_type": "code",
   "execution_count": 60,
   "metadata": {},
   "outputs": [
    {
     "name": "stdout",
     "output_type": "stream",
     "text": [
      "9x^2 + 7x^1 + 5x^0\n",
      "18x^4 + 27x^3 + 28x^2 + 13x^1 + 4x^0\n"
     ]
    }
   ],
   "source": [
    "poly1 = Polynomials([1, 2, 3])  # 3x^2 + 2x + 1\n",
    "poly2 = Polynomials([4, 5, 6])  # 6x^2 + 5x + 4\n",
    "\n",
    "# Adição \n",
    "result_add = poly1 + poly2\n",
    "print(result_add) \n",
    "\n",
    "# Multiplicação\n",
    "result_mul = poly1 * poly2\n",
    "print(result_mul) "
   ]
  },
  {
   "attachments": {},
   "cell_type": "markdown",
   "metadata": {},
   "source": [
    "### 2) Crie uma classe “StraightLine\" que defina uma reta a partir de 2 pontos, cheque se uma outra reta é igual a ela e cheque se uma outra reta é paralela a ela."
   ]
  },
  {
   "cell_type": "code",
   "execution_count": 61,
   "metadata": {},
   "outputs": [],
   "source": [
    "\"\"\"\n",
    "Inicializamos a classe com os dois pontos que definem a linha.\n",
    "Definimos um método de representação em string da linha.\n",
    "\n",
    "Definimos métodos para calcular a inclinação e o intercepto em y da linha.\n",
    "Definimos um método para verificar se duas linhas são paralelas.\n",
    "\n",
    "Usando o método mágico de igualdade, verificamos se duas linhas são iguais de acordo com suas inclinações e interceptos.\n",
    "\"\"\"\n",
    "\n",
    "class StraightLine:\n",
    "    def __init__(self, ponto1, ponto2):\n",
    "        self.ponto1 = ponto1\n",
    "        self.ponto2 = ponto2\n",
    "\n",
    "    def __str__(self):\n",
    "        return f\"Reta que cruza {self.ponto1} e {self.ponto2}\"\n",
    "    \n",
    "    def __eq__(self, outro):\n",
    "        return self.inclinacao() == outro.inclinacao() and self.intercepcao() == outro.intercepcao()\n",
    "\n",
    "    def inclinacao(self):\n",
    "        x1, y1 = self.ponto1\n",
    "        x2, y2 = self.ponto2\n",
    "        return (y2 - y1) / (x2 - x1)\n",
    "\n",
    "    def intercepcao(self):\n",
    "        x1, y1 = self.ponto1\n",
    "        return y1 - self.inclinacao() * x1\n",
    "\n",
    "    def paralela(self, outro):\n",
    "        return self.inclinacao() == outro.inclinacao()\n"
   ]
  },
  {
   "cell_type": "code",
   "execution_count": 62,
   "metadata": {},
   "outputs": [
    {
     "name": "stdout",
     "output_type": "stream",
     "text": [
      "True\n",
      "False\n",
      "True\n",
      "False\n"
     ]
    }
   ],
   "source": [
    "line1 = StraightLine((1, 2), (3, 4))\n",
    "line2 = StraightLine((2, 3), (4, 5))\n",
    "line3 = StraightLine((1, 2), (3, 6))\n",
    "\n",
    "print(line1 == line2) \n",
    "print(line1 == line3)\n",
    "\n",
    "print(line1.paralela(line2))\n",
    "print(line1.paralela(line3))  "
   ]
  },
  {
   "attachments": {},
   "cell_type": "markdown",
   "metadata": {},
   "source": [
    "### 3) Crie uma classe “PlotStraightLine\" que seja uma filha da classe do exercício anterior e desenhe a reta no eixo xy."
   ]
  },
  {
   "cell_type": "code",
   "execution_count": 63,
   "metadata": {},
   "outputs": [],
   "source": [
    "\"\"\"\n",
    "Ao usar a função super(), podemos acessar os métodos da classe pai, repetindo o método de inicialização herdado.\n",
    "Desenhamos a linha utilizando a biblioteca matplotlib.\n",
    "\"\"\"\n",
    "\n",
    "class PlotStraightLine(StraightLine):\n",
    "    def __init__(self, ponto1, ponto2):\n",
    "        super().__init__(ponto1, ponto2)\n",
    "\n",
    "    def desenhar_linha(self):\n",
    "        x_valores = [self.ponto1[0], self.ponto2[0]]\n",
    "        y_valores = [self.ponto1[1], self.ponto2[1]]\n",
    "        plt.plot(x_valores, y_valores)\n",
    "        plt.xlabel('X')\n",
    "        plt.ylabel('Y')\n",
    "        plt.title('Gráfico de Reta')\n",
    "        plt.grid(True)\n",
    "        plt.show()\n"
   ]
  },
  {
   "cell_type": "code",
   "execution_count": 64,
   "metadata": {},
   "outputs": [
    {
     "data": {
      "image/png": "[encoded data removed]",
      "text/plain": [
       "<Figure size 640x480 with 1 Axes>"
      ]
     },
     "metadata": {},
     "output_type": "display_data"
    }
   ],
   "source": [
    "line = PlotStraightLine((1, 2), (5, 6))\n",
    "line.desenhar_linha()"
   ]
  },
  {
   "attachments": {},
   "cell_type": "markdown",
   "metadata": {},
   "source": [
    "# Programação Funcional"
   ]
  },
  {
   "attachments": {},
   "cell_type": "markdown",
   "metadata": {},
   "source": [
    "### 1) Faça um loop para encontrar todos os multiplos de 3 cujo o último algarismo é 1 no intervalo [0,n]. Compare o tempo de execução de um loop convencional com um loop usando compreensão de listas."
   ]
  },
  {
   "cell_type": "code",
   "execution_count": 65,
   "metadata": {},
   "outputs": [
    {
     "name": "stdout",
     "output_type": "stream",
     "text": [
      "[21, 51, 81, 111, 141, 171, 201, 231, 261, 291] 333333\n",
      "[21, 51, 81, 111, 141, 171, 201, 231, 261, 291] 333333\n",
      "0.3344657499692403 segundos\n",
      "\n",
      "0.32435262500075623 segundos\n",
      "\n"
     ]
    }
   ],
   "source": [
    "# Loop convencional\n",
    "def encontrar_mult(n):\n",
    "    multiplos = []\n",
    "    for i in range(n + 1):\n",
    "        if i % 3 == 0 and i % 10 == 1:\n",
    "            multiplos.append(i)\n",
    "    return multiplos\n",
    "\n",
    "# Compreensão de listas\n",
    "def encontrar_mult_lc(n):\n",
    "    return [i for i in range(n + 1) if i % 3 == 0 and i % 10 == 1]\n",
    "\n",
    "n = 10000000\n",
    "mult = encontrar_mult(n)\n",
    "mult_lc = encontrar_mult_lc(n)\n",
    "print(mult[:10], len(mult))\n",
    "print(mult_lc[:10], len(mult_lc))\n",
    "\n",
    "# Comparando os resultados e tempos de execução\n",
    "print(timeit.timeit(lambda: encontrar_mult(n), number=1), \"segundos\\n\")\n",
    "print(timeit.timeit(lambda: encontrar_mult_lc(n), number=1), \"segundos\\n\")"
   ]
  },
  {
   "attachments": {},
   "cell_type": "markdown",
   "metadata": {},
   "source": [
    "### 2) Use compreensão de listas para encontrar todos os pares (i,j) tal que i ∈ {1,2,3,4,5} e j ∈ {a,b,c}."
   ]
  },
  {
   "cell_type": "code",
   "execution_count": 66,
   "metadata": {},
   "outputs": [
    {
     "name": "stdout",
     "output_type": "stream",
     "text": [
      "[(1, 'a'), (1, 'b'), (1, 'c'), (2, 'a'), (2, 'b'), (2, 'c'), (3, 'a'), (3, 'b'), (3, 'c'), (4, 'a'), (4, 'b'), (4, 'c'), (5, 'a'), (5, 'b'), (5, 'c')]\n"
     ]
    }
   ],
   "source": [
    "pares = [(i, j) for i in [1,2,3,4,5] for j in [\"a\", \"b\", \"c\"]]\n",
    "print(pares)"
   ]
  },
  {
   "attachments": {},
   "cell_type": "markdown",
   "metadata": {},
   "source": [
    "### 3) Dado um número real e uma lista com os coeficientes de um polinômio [a0,...,an], use map e reduce para calcular o valor de um polinômio num ponto."
   ]
  },
  {
   "cell_type": "code",
   "execution_count": 67,
   "metadata": {},
   "outputs": [
    {
     "name": "stdout",
     "output_type": "stream",
     "text": [
      "O valor do polinômio em x = 2.5 é 18.25\n"
     ]
    }
   ],
   "source": [
    "from functools import reduce\n",
    "\n",
    "def avaliar_poli(x, coefs):\n",
    "    potencias = range(len(coefs))\n",
    "    termos = map(lambda potencia, coef: coef * (x ** potencia), potencias, coefs)\n",
    "    resultado = reduce(lambda a, b: a + b, termos) # equivalente a sum(termos)\n",
    "    return resultado\n",
    "\n",
    "# Exemplo de uso\n",
    "x = 2.5\n",
    "coeficientes = [2, -1, 3] \n",
    "\n",
    "valor_polinomio = avaliar_poli(x, coeficientes)\n",
    "print(\"O valor do polinômio em x =\", x, \"é\", valor_polinomio)"
   ]
  },
  {
   "attachments": {},
   "cell_type": "markdown",
   "metadata": {},
   "source": [
    "### 4) Crie uma closure para multiplicar números por um número fixo."
   ]
  },
  {
   "cell_type": "code",
   "execution_count": 68,
   "metadata": {},
   "outputs": [
    {
     "name": "stdout",
     "output_type": "stream",
     "text": [
      "50\n"
     ]
    }
   ],
   "source": [
    "def multiplicador_por_numero_fixo(numero_fixo):\n",
    "    def multiplicar(numero):\n",
    "        return numero * numero_fixo\n",
    "    return multiplicar\n",
    "\n",
    "# Exemplo de uso\n",
    "multiplicar_por_5 = multiplicador_por_numero_fixo(5)\n",
    "resultado = multiplicar_por_5(10)\n",
    "print(resultado)"
   ]
  },
  {
   "attachments": {},
   "cell_type": "markdown",
   "metadata": {},
   "source": [
    "### 5) Escreva um código seguindo os princípios de programação funcional para encontrar todos os primos em um determinado intervalo."
   ]
  },
  {
   "cell_type": "code",
   "execution_count": 69,
   "metadata": {},
   "outputs": [
    {
     "name": "stdout",
     "output_type": "stream",
     "text": [
      "Primos no intervalo: [2, 3, 5, 7, 11, 13, 17, 19]\n"
     ]
    }
   ],
   "source": [
    "def checar_primo(n):\n",
    "    if n < 2:\n",
    "        return False\n",
    "    # checa se é divisível por algum número entre 2 e raiz(n)\n",
    "    for i in range(2, math.isqrt(n) + 1): \n",
    "        if n % i == 0:\n",
    "            return False\n",
    "    return True\n",
    "\n",
    "def encontrar_primos(start, end):\n",
    "    primos = filter(checar_primo, range(start, end + 1))\n",
    "    return list(primos)\n",
    "\n",
    "primos = encontrar_primos(1, 20)\n",
    "print(f\"Primos no intervalo: {primos}\")"
   ]
  }
 ],
 "metadata": {
  "kernelspec": {
   "display_name": ".venv",
   "language": "python",
   "name": "python3"
  },
  "language_info": {
   "codemirror_mode": {
    "name": "ipython",
    "version": 3
   },
   "file_extension": ".py",
   "mimetype": "text/x-python",
   "name": "python",
   "nbconvert_exporter": "python",
   "pygments_lexer": "ipython3",
   "version": "3.11.3"
  },
  "orig_nbformat": 4
 },
 "nbformat": 4,
 "nbformat_minor": 2
}
