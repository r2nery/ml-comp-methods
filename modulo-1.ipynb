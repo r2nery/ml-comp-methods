{
 "cells": [
  {
   "cell_type": "code",
   "execution_count": 139,
   "metadata": {},
   "outputs": [],
   "source": [
    "import timeit\n",
    "import math"
   ]
  },
  {
   "attachments": {},
   "cell_type": "markdown",
   "metadata": {},
   "source": [
    "# Programação Estruturada"
   ]
  },
  {
   "attachments": {},
   "cell_type": "markdown",
   "metadata": {},
   "source": [
    "### 1) Faça um programa iterativo e outro recursivo para fatorar um número inteiro."
   ]
  },
  {
   "cell_type": "code",
   "execution_count": 140,
   "metadata": {},
   "outputs": [],
   "source": [
    "# Objetivo: Decompor um número em fatores primos\n",
    "# Números primos: Divisíveis por 1 e por ele mesmo (2, 3, 5, 7, 11, 13, 17, 19, 23, 29, ...)\n",
    "\n",
    "\"\"\"\n",
    "Iniciamos a função com uma lista vazia de fatores primos e um divisor igual a 2.\n",
    "Enquanto o divisor for menor ou igual ao número, o loop continua. \n",
    "O loop veririca se o número é divisível pelo divisor atual (começando com 2)\n",
    "Se for, o divisor é adicionado à lista de fatores primos e o número é dividido por ele\n",
    "Se não for, o divisor é incrementado em 1 e o loop continua\n",
    "\"\"\"\n",
    "\n",
    "\n",
    "def fatorar_it(n):\n",
    "    fatores = []\n",
    "    div = 2\n",
    "\n",
    "    while div <= n:\n",
    "        if n % div == 0:\n",
    "            fatores.append(div)\n",
    "            n = n / div\n",
    "        else:\n",
    "            div += 1\n",
    "    return fatores\n",
    "\n",
    "\n",
    "\"\"\"\n",
    "Agora, a função é recursiva.\n",
    "Ela recebe um número e um divisor (que começa com 2)\n",
    "Nós colocamos o divisor nas variáveis de entrada para que ele possa ser modificado em chamadas recursivas da função.\n",
    "Se o número for 1, a função retorna uma lista vazia. Esse é o caso base.\n",
    "\n",
    "Se o número for divisível pelo divisor,\n",
    "A função retorna uma lista com o divisor + o resultado da função chamada com o número dividido pelo divisor.\n",
    "Se o número não for divisível pelo divisor,\n",
    "A função retorna a função chamada com o número e o divisor incrementado em 1.\n",
    "\n",
    "Sabemos que no python uma operação do tipo [a] + [b] retorna uma nova lista com os elementos a e b.\n",
    "Analisando atentamente o funcionamento da função, percebemos que ela retorna uma lista com todos os divisores.\n",
    "\"\"\"\n",
    "\n",
    "\n",
    "def fatorar_rec(n, div=2):\n",
    "    if n == 1:\n",
    "        return []\n",
    "    elif n % div == 0:\n",
    "        return [div] + fatorar_rec(n / div, div)\n",
    "    else:\n",
    "        return fatorar_rec(n, div + 1)"
   ]
  },
  {
   "cell_type": "code",
   "execution_count": 141,
   "metadata": {},
   "outputs": [
    {
     "name": "stdout",
     "output_type": "stream",
     "text": [
      "Decomposição de 441: [3, 3, 7, 7]\n",
      "Decomposição de 441: [3, 3, 7, 7]\n"
     ]
    }
   ],
   "source": [
    "'''\n",
    "Fatorando o número 441, temos:\n",
    "\n",
    "441 | 3\n",
    "147 | 3\n",
    "49  | 7\n",
    "7   | 7\n",
    "1   | 1\n",
    "'''\n",
    "\n",
    "fatores_it = fatorar_it(441)\n",
    "fatores_rec = fatorar_rec(441)\n",
    "\n",
    "print(f\"Decomposição de 441: {fatores_it}\")\n",
    "print(f\"Decomposição de 441: {fatores_rec}\")"
   ]
  },
  {
   "attachments": {},
   "cell_type": "markdown",
   "metadata": {},
   "source": [
    "### 2) Calcule a potencia de um número usando recursão. Pense numa solução eficiente."
   ]
  },
  {
   "cell_type": "code",
   "execution_count": 142,
   "metadata": {},
   "outputs": [],
   "source": [
    "\"\"\"\n",
    "Essa versão é ineficiente porque usa um loop que multiplica base por si mesma expoente vezes para calcular a potência. \n",
    "Ou seja, para calcular base elevado a n, essa função faz n multiplicações. Isso resulta em uma complexidade assintótica de O(n).\n",
    "\"\"\"\n",
    "\n",
    "\n",
    "def potencia_iterativa_ineficiente(base, expoente):\n",
    "    resultado = 1\n",
    "    for _ in range(expoente):\n",
    "        resultado *= base\n",
    "    return resultado\n",
    "\n",
    "\n",
    "\"\"\"\n",
    "Essa abordagem é recursiva, mas ainda ineficiente.\n",
    "Se o expoente for 0, a função retorna 1. Esse é o caso base.\n",
    "Se o expoente for maior que 0, a função retorna base multiplicada pelo resultado da função chamada com base e expoente - 1.\n",
    "Isso significa que ainda são feitas n multiplicações para calcular base elevado a n. Isso resulta em uma complexidade assintótica de O(n).\n",
    "\"\"\"\n",
    "\n",
    "\n",
    "def potencia_recursiva_ineficiente(base, expoente):\n",
    "    if expoente == 0:  # caso base: qualquer número elevado a 0 é 1\n",
    "        return 1\n",
    "    else:\n",
    "        return base * potencia_recursiva_ineficiente(base, expoente - 1)\n",
    "\n",
    "\n",
    "\"\"\"\n",
    "Essa abordagem é recursiva e eficiente.\n",
    "Se o expoente for 0, a função retorna 1. Esse é o caso base.\n",
    "Se o expoente for par, a função retorna o resultado da função chamada com base e expoente divididos por 2, elevado ao quadrado.\n",
    "Se o expoente for ímpar, a função retorna base multiplicada pelo resultado da função chamada com base e expoente - 1 divididos por 2, elevado ao quadrado.\n",
    "Essa abordagem é eficiente pois reduz o número de chamadas recursivas pela metade a cada vez que o expoente é dividido por 2, resultando em uma complexidade assintótica de O(log n).\n",
    "Chamamos isso de divisão e conquista: dividimos o problema em subproblemas menores e resolvemos cada subproblema recursivamente.\n",
    "\"\"\"\n",
    "\n",
    "\n",
    "def potencia_recursiva(base, expoente):\n",
    "    if expoente == 0:  # caso base: qualquer número elevado a 0 é 1\n",
    "        return 1\n",
    "\n",
    "    elif expoente % 2 == 0:  # caso expoente é par\n",
    "        temp = potencia_recursiva(base, expoente // 2)\n",
    "        return temp * temp\n",
    "\n",
    "    else:  # caso expoente é ímpar\n",
    "        temp = potencia_recursiva(base, (expoente - 1) // 2)\n",
    "        return base * temp * temp"
   ]
  },
  {
   "cell_type": "code",
   "execution_count": 143,
   "metadata": {},
   "outputs": [
    {
     "name": "stdout",
     "output_type": "stream",
     "text": [
      "16\n",
      "16\n",
      "16\n",
      "\n",
      "Tempo de execução:\n",
      "0.2370779999982915 segundos\n",
      "\n",
      "0.27754691599693615 segundos\n",
      "\n",
      "0.011894916999153793 segundos\n",
      "\n"
     ]
    }
   ],
   "source": [
    "print(potencia_iterativa_ineficiente(2,4))\n",
    "print(potencia_recursiva_ineficiente(2,4))\n",
    "print(potencia_recursiva(2,4))\n",
    "\n",
    "print(\"\\nTempo de execução:\")\n",
    "print(timeit.timeit(lambda: potencia_iterativa_ineficiente(99, 1000), number=1000), \"segundos\\n\")\n",
    "print(timeit.timeit(lambda: potencia_recursiva_ineficiente(99, 1000), number=1000), \"segundos\\n\")\n",
    "print(timeit.timeit(lambda: potencia_recursiva(99, 1000), number=1000), \"segundos\\n\")\n"
   ]
  },
  {
   "attachments": {},
   "cell_type": "markdown",
   "metadata": {},
   "source": [
    "### Project Euler 2: Ache a soma de todos os elementos da série de Fibonacci pares que não excedem 4 milhões. \n",
    "Existe uma solução mais interessante que essa que você possivelmente apresentou?"
   ]
  },
  {
   "cell_type": "code",
   "execution_count": 144,
   "metadata": {},
   "outputs": [],
   "source": [
    "# Essa é uma pergunta que tem resposta correta, mas pode ser solucionada de várias formas.\n",
    "# O resultado é 4613732.\n",
    "\n",
    "\"\"\" \n",
    "Na função abaixo, x e y são os dois primeiros termos da sequência de Fibonacci.\n",
    "prox_termo é o próximo termo da sequência.\n",
    "soma é a soma dos termos pares.\n",
    "A função retorna a soma dos termos pares da sequência de Fibonacci até que o próximo termo seja maior que 4 milhões.\n",
    "\"\"\"\n",
    "\n",
    "\n",
    "def fib1():\n",
    "    x = 0\n",
    "    y = 1\n",
    "    prox_termo = 0\n",
    "    soma = 0\n",
    "    while prox_termo < 4000000:\n",
    "        prox_termo = x + y\n",
    "        x = y\n",
    "        y = prox_termo\n",
    "        if prox_termo % 2 == 0:\n",
    "            soma += prox_termo\n",
    "    return soma\n",
    "\n",
    "\n",
    "\"\"\"\n",
    "Considere a sequência de Fibonacci abaixo:\n",
    "1, 1, 2, 3, 5, 8, 13, 21, 34, 55, 89, 144, 233, 377, 610, ...\n",
    "Cada terceiro elemento na sequência de Fibonacci é par.\n",
    "Só o que nos interessa são os números pares. Então, a sequência de Fibonacci se torna:\n",
    "2, 8, 34, 144, 610, ...\n",
    "Para o número par n, a equação abaixo é válida:\n",
    "n = (4 * n-1) + (n-2)\n",
    "\n",
    "Exemplo:\n",
    "34 = (4 * 8) + 2, \n",
    "144 = (4 * 34) + 8\n",
    "610 = (4 * 144) + 34\n",
    "\n",
    "Aplicamos essa ideia na função abaixo.\n",
    "Definimos o primeiro par como 2 e o segundo par como 8.\n",
    "A cada iteração, calculamos o próximo par e somamos à soma dos pares.\n",
    "\"\"\"\n",
    "\n",
    "\n",
    "def fib2():\n",
    "    primeiro_par = 2\n",
    "    segundo_par = 8\n",
    "    soma_pares = primeiro_par + segundo_par\n",
    "    while soma_pares < 4000000:\n",
    "        fib_pares = (4 * segundo_par) + primeiro_par\n",
    "        soma_pares += fib_pares\n",
    "        primeiro_par, segundo_par = segundo_par, fib_pares\n",
    "    return soma_pares"
   ]
  },
  {
   "cell_type": "code",
   "execution_count": 145,
   "metadata": {},
   "outputs": [
    {
     "name": "stdout",
     "output_type": "stream",
     "text": [
      "4613732\n",
      "4613732\n",
      "\n",
      "Tempo de execução:\n",
      "0.014703042004839517 segundos\n",
      "\n",
      "0.004297084000427276 segundos\n",
      "\n"
     ]
    }
   ],
   "source": [
    "print(fib1())\n",
    "print(fib2())\n",
    "\n",
    "print(\"\\nTempo de execução:\")\n",
    "print(timeit.timeit(lambda: fib1(), number=10000), \"segundos\\n\")\n",
    "print(timeit.timeit(lambda: fib2(), number=10000), \"segundos\\n\")\n"
   ]
  },
  {
   "attachments": {},
   "cell_type": "markdown",
   "metadata": {},
   "source": [
    "### 3) Project Euler 3: Os fatores primos de 13195 são 5, 7, 13 e 29. Qual o maior primo fator de 600851475143? \n",
    "Existe uma solução mais interessante que essa que você possivelmente apresentou?"
   ]
  },
  {
   "cell_type": "code",
   "execution_count": 146,
   "metadata": {},
   "outputs": [],
   "source": [
    "\"\"\" \n",
    "Primeiro, definimos uma função que verifica se um número é primo.\n",
    "Se o número for menor que 2, ele não é primo.\n",
    "Se o número for divisível por qualquer número entre 2 e a raiz quadrada do número, ele não é primo.\n",
    "(lembrando, a raiz quadrada de um número é esse número elevado a 0.5)\n",
    "\n",
    "Depois, definimos n como o número que queremos fatorar.\n",
    "Definimos fator_primo_max como 1.\n",
    "Iteramos de 2 até a raiz quadrada de n + 1.\n",
    "Se n for divisível por i, verificamos se i é primo e se i é maior que fator_primo_max.\n",
    "Se as duas condições forem verdadeiras, atualizamos fator_primo_max.\n",
    "\"\"\"\n",
    "\n",
    "\n",
    "def sol1():\n",
    "    def for_primo(num):\n",
    "        if num < 2:\n",
    "            return False\n",
    "        for i in range(2, int(num**0.5) + 1):\n",
    "            if num % i == 0:\n",
    "                return False\n",
    "        return True\n",
    "\n",
    "    n = 600851475143\n",
    "    fator_primo_max = 1\n",
    "\n",
    "    for i in range(2, int(n**0.5) + 1):\n",
    "        if n % i == 0:\n",
    "            if for_primo(i) and i > fator_primo_max:\n",
    "                fator_primo_max = i\n",
    "\n",
    "    return fator_primo_max\n",
    "\n",
    "\n",
    "\"\"\" \n",
    "Esta é uma solução alternativa, muito mais eficiente.\n",
    "A solução começa inicializando o número dado n e um fator i=2. O loop externo itera enquanto i*i<n, o que significa que só precisamos verificar fatores até a raiz quadrada de n.\n",
    "Dentro do loop externo, temos outro loop que divide n por i enquanto é divisível sem resto. Isso remove todos os fatores de i de n. \n",
    "Quando este loop interno termina, sabemos que ou n não tem mais fatores de i restantes ou n em si se tornou um número menor porque o dividimos por i.\n",
    "Em seguida, incrementamos i em 1 e continuamos com o loop externo para verificar o próximo fator.\n",
    "Finalmente, a função retorna n, que será o maior fator primo de n original quando o loop externo terminar. \n",
    "Isso ocorre porque quaisquer fatores menores que i já foram divididos de n e quaisquer fatores maiores que i já foram encontrados e divididos em uma iteração anterior do loop externo.\n",
    "\n",
    "Esta abordagem é mais rápida que a solução anterior porque elimina a verificação de primalidade para cada fator. \n",
    "Em vez disso, ele divide diretamente todos os fatores até atingir o maior fator primo. Isso resulta em uma aceleração significativa para valores de entrada maiores.\n",
    "\"\"\"\n",
    "\n",
    "\n",
    "def sol2():\n",
    "    n = 600851475143\n",
    "    i = 2\n",
    "    while i * i < n:\n",
    "        while n % i == 0:\n",
    "            n = n // i\n",
    "        i = i + 1\n",
    "    return n"
   ]
  },
  {
   "cell_type": "code",
   "execution_count": 147,
   "metadata": {},
   "outputs": [
    {
     "name": "stdout",
     "output_type": "stream",
     "text": [
      "6857\n",
      "6857\n",
      "\n",
      "Tempo de execução:\n",
      "2.39140370899986 segundos\n",
      "\n",
      "0.00782745800097473 segundos\n",
      "\n"
     ]
    }
   ],
   "source": [
    "print(sol1())\n",
    "print(sol2())\n",
    "\n",
    "print(\"\\nTempo de execução:\")\n",
    "print(timeit.timeit(lambda: sol1(), number=100), \"segundos\\n\")\n",
    "print(timeit.timeit(lambda: sol2(), number=100), \"segundos\\n\")"
   ]
  }
 ],
 "metadata": {
  "kernelspec": {
   "display_name": ".venv",
   "language": "python",
   "name": "python3"
  },
  "language_info": {
   "codemirror_mode": {
    "name": "ipython",
    "version": 3
   },
   "file_extension": ".py",
   "mimetype": "text/x-python",
   "name": "python",
   "nbconvert_exporter": "python",
   "pygments_lexer": "ipython3",
   "version": "3.11.3"
  },
  "orig_nbformat": 4
 },
 "nbformat": 4,
 "nbformat_minor": 2
}
