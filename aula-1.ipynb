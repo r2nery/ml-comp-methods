{
 "cells": [
  {
   "cell_type": "code",
   "execution_count": 12,
   "metadata": {},
   "outputs": [],
   "source": [
    "import timeit\n",
    "import math\n",
    "import random\n",
    "import numpy as np\n",
    "import matplotlib.pyplot as plt"
   ]
  },
  {
   "attachments": {},
   "cell_type": "markdown",
   "metadata": {},
   "source": [
    "# Programação Estruturada"
   ]
  },
  {
   "attachments": {},
   "cell_type": "markdown",
   "metadata": {},
   "source": [
    "### 1) Faça um programa iterativo e outro recursivo para fatorar um número inteiro."
   ]
  },
  {
   "cell_type": "code",
   "execution_count": 49,
   "metadata": {},
   "outputs": [],
   "source": [
    "# 20 | 2\n",
    "# 10 | 2\n",
    "# 5 | 5\n",
    "# 1\n",
    "\n",
    "def fatorar_it(n):\n",
    "    # lista de fatores\n",
    "    fatores = []\n",
    "    div = 2\n",
    "\n",
    "    # checar se div é menor ou igual a n\n",
    "    while div <= n:\n",
    "        # caso em que é divisível sem resto\n",
    "        if n % div == 0:\n",
    "            fatores.append(div) # fatores += [div]\n",
    "            n = n/div\n",
    "        #caso não seja divisível,\n",
    "        else:\n",
    "            div += 1\n",
    "\n",
    "    return fatores\n",
    "\n",
    "def fatorar_rec(n, div=2):\n",
    "    # caso base\n",
    "    if n==1:\n",
    "        return []\n",
    "    # caso recursivo\n",
    "    # se n for divisível por div,\n",
    "    elif n % div == 0:\n",
    "        return [div] + fatorar_rec(n/div, div)\n",
    "    else:\n",
    "        return fatorar_rec(n, div+1)"
   ]
  },
  {
   "cell_type": "code",
   "execution_count": 52,
   "metadata": {},
   "outputs": [
    {
     "data": {
      "text/plain": [
       "[5, 7, 13, 29]"
      ]
     },
     "execution_count": 52,
     "metadata": {},
     "output_type": "execute_result"
    }
   ],
   "source": [
    "fatorar_rec(13195)\n",
    "fatorar_it(13195)"
   ]
  },
  {
   "attachments": {},
   "cell_type": "markdown",
   "metadata": {},
   "source": [
    "### 2) Calcule a potencia de um número usando recursão. Pense numa solução eficiente."
   ]
  },
  {
   "cell_type": "code",
   "execution_count": 64,
   "metadata": {},
   "outputs": [],
   "source": [
    "def potencia_it(base, expoente):\n",
    "    resultado = 1\n",
    "    for _ in range(expoente):\n",
    "        resultado *= base\n",
    "    return resultado\n",
    "\n",
    "def potencia_rec(base,expoente):\n",
    "    if expoente == 0:\n",
    "        return 1\n",
    "    else:\n",
    "        return base * potencia_rec(base, expoente-1)\n",
    "    \n",
    "def potencia_dc(base, expoente):\n",
    "    if expoente == 0:\n",
    "        return 1\n",
    "    \n",
    "    elif expoente % 2 == 0:\n",
    "        temp = potencia_dc(base, expoente // 2)\n",
    "        return temp ** 2\n",
    "\n",
    "    else:\n",
    "        temp = potencia_dc(base, (expoente-1) // 2)\n",
    "        return base * temp ** 2"
   ]
  },
  {
   "cell_type": "code",
   "execution_count": 66,
   "metadata": {},
   "outputs": [
    {
     "name": "stdout",
     "output_type": "stream",
     "text": [
      "tempo de execução:\n",
      "\n",
      "2.388238083018223 segundos\n",
      "2.897858125012135 segundos\n",
      "0.12219237498356961 segundos\n",
      "32768\n"
     ]
    }
   ],
   "source": [
    "print(\"tempo de execução:\\n\")\n",
    "print(timeit.timeit(lambda: potencia_it(99,1000), number=10000), \"segundos\")\n",
    "print(timeit.timeit(lambda: potencia_rec(99,1000), number=10000), \"segundos\")\n",
    "print(timeit.timeit(lambda: potencia_dc(99,1000), number=10000), \"segundos\")\n",
    "\n",
    "print(potencia_dc(2,15))\n"
   ]
  },
  {
   "attachments": {},
   "cell_type": "markdown",
   "metadata": {},
   "source": [
    "### 3) Project Euler 2: Ache a soma de todos os elementos da série de Fibonacci pares que não excedem 4 milhões. \n",
    "Existe uma solução mais interessante que essa que você possivelmente apresentou? Resultado: 4613732"
   ]
  },
  {
   "cell_type": "code",
   "execution_count": 71,
   "metadata": {},
   "outputs": [],
   "source": [
    "\n",
    "# 1, 1, 2, 3, 5, 8\n",
    "# x, x, 2, x, x, 8 ....\n",
    "\n",
    "# prox_par = (4*segundo_par) + primeiro_par\n",
    "\n",
    "def fib1():\n",
    "    # primeiros termos\n",
    "    x = 0\n",
    "    y = 1\n",
    "    prox_termo = 0\n",
    "    soma = 0\n",
    "    while prox_termo < 4000000:\n",
    "        prox_termo = x + y \n",
    "        \n",
    "        x = y\n",
    "        y = prox_termo\n",
    "\n",
    "        # se for par, adicionamos à soma\n",
    "        if prox_termo % 2 ==0:\n",
    "            soma += prox_termo\n",
    "    return soma\n",
    "\n",
    "def fib2():\n",
    "    primeiro_par = 2\n",
    "    segundo_par = 8\n",
    "    soma_pares = primeiro_par + segundo_par\n",
    "\n",
    "    while soma_pares < 4000000:\n",
    "        prox_par = (4 * segundo_par) + primeiro_par\n",
    "        soma_pares += prox_par\n",
    "        primeiro_par = segundo_par\n",
    "        segundo_par = prox_par\n",
    "\n",
    "    return soma_pares"
   ]
  },
  {
   "cell_type": "code",
   "execution_count": 70,
   "metadata": {},
   "outputs": [
    {
     "name": "stdout",
     "output_type": "stream",
     "text": [
      "tempo de execução:\n",
      "\n",
      "0.0238034579961095 segundos\n",
      "0.00589841598412022 segundos\n"
     ]
    }
   ],
   "source": [
    "print(\"tempo de execução:\\n\")\n",
    "print(timeit.timeit(lambda: fib1(), number=100000), \"segundos\")\n",
    "print(timeit.timeit(lambda: fib2(), number=100000), \"segundos\")"
   ]
  },
  {
   "attachments": {},
   "cell_type": "markdown",
   "metadata": {},
   "source": [
    "### 4) Project Euler 3: Os fatores primos de 13195 são 5, 7, 13 e 29. Qual o maior primo fator de 600851475143? \n",
    "Existe uma solução mais interessante que essa que você possivelmente apresentou?"
   ]
  },
  {
   "attachments": {},
   "cell_type": "markdown",
   "metadata": {},
   "source": [
    "# Coleções de Dados"
   ]
  },
  {
   "attachments": {},
   "cell_type": "markdown",
   "metadata": {},
   "source": [
    "### 1) Implemente o algoritmo conhecido como Bubble sort na forma iterativa e recursiva."
   ]
  },
  {
   "cell_type": "code",
   "execution_count": 87,
   "metadata": {},
   "outputs": [],
   "source": [
    "# bubble sort iterativo\n",
    "def bubble_sort_it(lista):\n",
    "    n = len(lista)\n",
    "\n",
    "    # iterando por todos os elementos da lista:\n",
    "    for i in range(n-1):\n",
    "        # os últimos i elementos já estão no lugar\n",
    "        for j in range(n - i - 1):\n",
    "            # trocamos caso o elemento encontrado seja maior que o próximo elemento\n",
    "            if lista[j] > lista[j+1]:\n",
    "                lista[j], lista[j+1] = lista[j+1], lista[j]\n",
    "    return lista\n",
    "\n",
    "def bubble_sort_rec(lista, n=None):\n",
    "    if n is None:\n",
    "        n = len(lista)\n",
    "\n",
    "    if n==1:\n",
    "        return lista\n",
    "    \n",
    "    for i in range(n-1):\n",
    "        print(lista)\n",
    "        if lista[i]>lista[i+1]:\n",
    "            lista[i], lista[i+1] = lista[i+1], lista[i]\n",
    "\n",
    "    # chamada recursiva: elementos restantes da lista \n",
    "    return bubble_sort_rec(lista,n-1)"
   ]
  },
  {
   "cell_type": "code",
   "execution_count": null,
   "metadata": {},
   "outputs": [],
   "source": [
    "print(bubble_sort_it([3,5,7,5,4,3]))\n",
    "print(bubble_sort_rec([3,5,7,5,4,3]))"
   ]
  },
  {
   "attachments": {},
   "cell_type": "markdown",
   "metadata": {},
   "source": [
    "### 2) Faça um programa iterativo e outro recursivo para testar se um número é um palíndromo."
   ]
  },
  {
   "cell_type": "code",
   "execution_count": null,
   "metadata": {},
   "outputs": [],
   "source": [
    "\n",
    "def checar_palindromo_iterativo(num):\n",
    "    num_str = str(num)\n",
    "\n",
    "    # inicializando ponteiros\n",
    "    esq = 0\n",
    "    dir = len(num_str) - 1 \n",
    "\n",
    "    # comparando extremidades\n",
    "    while esq<dir:\n",
    "        # se os caracteres nas posições observadas não forem iguais, esse número não é um palíndromo\n",
    "        if num_str[esq] != num_str[dir]:\n",
    "            return False\n",
    "        \n",
    "        # estreitamos as extremidades e rodamos de novo\n",
    "        left += 1 \n",
    "        right -= 1\n",
    "\n",
    "    return True\n",
    "\n",
    "def checar_palindromo_recursivo(num):\n",
    "    num_str = str(num)\n",
    "\n",
    "    # caso base\n",
    "    if len(num_str) <= 1:\n",
    "        return True\n",
    "    \n",
    "    if num_str[0] != num_str[-1]:\n",
    "        return False\n",
    "    \n",
    "    # chamada recursiva:\n",
    "    return checar_palindromo_recursivo(num_str[1:-1])"
   ]
  },
  {
   "attachments": {},
   "cell_type": "markdown",
   "metadata": {},
   "source": [
    "### 3) Faça um programa iterativo e outro recursivo para calcular a raiz digital de um número.\n",
    "A raiz digital de um inteiro n é dividido como o resultado da soma dos dígitos\n",
    "repetidamente até que apenas um único dígito sobra. Por exemplo, a raiz\n",
    "digital de 3799 pode ser calculada como:\n",
    "- Passo 1: 3+7+9+9=28\n",
    "- Passo 2: 2+8=10\n",
    "- Passo 3: 1+0=1"
   ]
  },
  {
   "cell_type": "code",
   "execution_count": 7,
   "metadata": {},
   "outputs": [],
   "source": [
    "def calcular_raiz_digital_it(num):\n",
    "    while num >= 10:\n",
    "        digitos = [int(d) for d in str(num)]\n",
    "        soma = sum(digitos)\n",
    "        num = soma\n",
    "    return soma\n",
    "\n",
    "def calcular_raiz_digital_rec(num):\n",
    "    \n",
    "    if num < 10:\n",
    "        return num\n",
    "    \n",
    "    digitos = [int(d) for d in str(num)]\n",
    "    soma = sum(digitos)\n",
    "\n",
    "    return calcular_raiz_digital_rec(soma)\n"
   ]
  },
  {
   "cell_type": "code",
   "execution_count": 10,
   "metadata": {},
   "outputs": [
    {
     "data": {
      "text/plain": [
       "1"
      ]
     },
     "execution_count": 10,
     "metadata": {},
     "output_type": "execute_result"
    }
   ],
   "source": [
    "calcular_raiz_digital_rec(3799)"
   ]
  },
  {
   "attachments": {},
   "cell_type": "markdown",
   "metadata": {},
   "source": [
    "### 4) Implemente um programa para achar os dois pontos mais próximos em uma lista de tuplas (x1,y1),··· ,(xn,yn).\n",
    "Essa implementação é eficiente? Considere melhorar essa implementação."
   ]
  },
  {
   "cell_type": "code",
   "execution_count": 19,
   "metadata": {},
   "outputs": [],
   "source": [
    "def distancia(p1,p2):\n",
    "    return math.sqrt((p1[0] - p2[0])**2 + (p1[1] - p1[1])**2)\n",
    "\n",
    "def forca_bruta(pontos):\n",
    "    dist_minima = float('inf')\n",
    "\n",
    "    for i in range(len(pontos)):\n",
    "        for j in range(i+1, len(pontos)):\n",
    "            dist = distancia(pontos[i], pontos[j])\n",
    "            if dist < dist_minima:\n",
    "                dist_minima = dist\n",
    "    \n",
    "    return dist_minima, pontos[i], pontos[j]"
   ]
  },
  {
   "cell_type": "code",
   "execution_count": 20,
   "metadata": {},
   "outputs": [
    {
     "name": "stdout",
     "output_type": "stream",
     "text": [
      "[(557585, 596413), (-606479, 376761), (167185, 660895), (746156, -884767), (-649754, 827432)]\n"
     ]
    }
   ],
   "source": [
    "num_pontos = 100\n",
    "faixa_minima, faixa_maxima = -1000000, 1000000\n",
    "pontos= [(random.randint(faixa_minima, faixa_maxima), random.randint(faixa_minima, faixa_maxima)) for _ in range(num_pontos)]\n",
    "print(pontos[:5])"
   ]
  },
  {
   "cell_type": "code",
   "execution_count": 18,
   "metadata": {},
   "outputs": [
    {
     "name": "stdout",
     "output_type": "stream",
     "text": [
      "(134.0, (365505, 510243), (365505, 510243))\n"
     ]
    }
   ],
   "source": [
    "print(forca_bruta(pontos))"
   ]
  },
  {
   "attachments": {},
   "cell_type": "markdown",
   "metadata": {},
   "source": [
    "### 5) Represente cada matriz como uma lista de listas e implemente um programa que calcule o produto de duas matrizes."
   ]
  },
  {
   "cell_type": "code",
   "execution_count": 23,
   "metadata": {},
   "outputs": [],
   "source": [
    "# 1 2\n",
    "# 3 4\n",
    "\n",
    "l = [[1,2],[3,4]]\n",
    "\n",
    "def produto_de_matrizes(matriz1,matriz2):\n",
    "    # checar se col 1 != lin 2:\n",
    "    if len(matriz1[0]) != len(matriz2):\n",
    "        raise ValueError(\"As matrizes não podem ser multiplicadas!\")\n",
    "    \n",
    "    linhas1 = len(matriz1)\n",
    "    colunas1 = len(matriz1[0])\n",
    "    colunas2 = len(matriz2[0])\n",
    "\n",
    "    resultado= [[0 for _ in range(colunas2)] for _ in range(linhas1)]\n",
    "\n",
    "    for i in range(linhas1):\n",
    "        for j in range(colunas2):\n",
    "            for k in range(colunas1):\n",
    "                resultado[i][j] += matriz1[i][k] * matriz2[k][j]\n",
    "\n",
    "    return resultado\n",
    "\n"
   ]
  },
  {
   "cell_type": "code",
   "execution_count": 24,
   "metadata": {},
   "outputs": [
    {
     "name": "stdout",
     "output_type": "stream",
     "text": [
      "[[19, 22], [43, 50]]\n"
     ]
    }
   ],
   "source": [
    "matriz1 = [[1,2], [3,4]]\n",
    "matriz2 = [[5,6], [7,8]]\n",
    "print(produto_de_matrizes(matriz1,matriz2))"
   ]
  },
  {
   "attachments": {},
   "cell_type": "markdown",
   "metadata": {},
   "source": [
    "### 6) Considere a representação de um polinômio de grau n dada por uma lista de tamanho n +1. Então escreva uma função que receba de entrada 2 polinômios de graus quaisquer, gere uma lista de saída com o polinômio produto."
   ]
  },
  {
   "cell_type": "code",
   "execution_count": null,
   "metadata": {},
   "outputs": [],
   "source": []
  },
  {
   "attachments": {},
   "cell_type": "markdown",
   "metadata": {},
   "source": [
    "### 7) Use numpy para calcular em uma linha e de forma vetorizada o produto interno entre dois vetores."
   ]
  },
  {
   "cell_type": "code",
   "execution_count": 25,
   "metadata": {},
   "outputs": [
    {
     "name": "stdout",
     "output_type": "stream",
     "text": [
      "32\n"
     ]
    }
   ],
   "source": [
    "vetor1 = np.array([1,2,3])\n",
    "vetor2 = np.array([4,5,6])\n",
    "\n",
    "produto_interno = np.dot(vetor1,vetor2)\n",
    "print(produto_interno)"
   ]
  },
  {
   "attachments": {},
   "cell_type": "markdown",
   "metadata": {},
   "source": [
    "# Orientação a Objetos"
   ]
  },
  {
   "cell_type": "code",
   "execution_count": 29,
   "metadata": {},
   "outputs": [
    {
     "name": "stdout",
     "output_type": "stream",
     "text": [
      "texto 4 text\n"
     ]
    }
   ],
   "source": []
  },
  {
   "cell_type": "code",
   "execution_count": 32,
   "metadata": {},
   "outputs": [
    {
     "name": "stdout",
     "output_type": "stream",
     "text": [
      "ab\n"
     ]
    }
   ],
   "source": []
  },
  {
   "attachments": {},
   "cell_type": "markdown",
   "metadata": {},
   "source": [
    "### 1) Crie uma classe “Polinomials\" que tenha os métodos que permitam somar, multiplicar e escrever no console os polinômios."
   ]
  },
  {
   "cell_type": "code",
   "execution_count": 26,
   "metadata": {},
   "outputs": [],
   "source": [
    "class Polynomials:\n",
    "    def __init__(self,coeffs):\n",
    "        self.coeffs = coeffs[::-1]\n",
    "\n",
    "    def __str__(self):\n",
    "        grau = len(self.coeffs)-1\n",
    "        termos = []\n",
    "\n",
    "        for potencia, coef in enumerate(self.coeffs):\n",
    "            termo = f\"{coef}x^1{grau-potencia}\"\n",
    "            termos.append(termo)\n",
    "\n",
    "        return \" + \".join(termos)\n",
    "    \n",
    "    def __add__(self, outro):\n",
    "        grau_maximo = max(len(self.coeffs),len(outro.coeffs))\n",
    "\n",
    "        coeffs1 = self.coeffs + [0] * (grau_maximo - len(self.coeffs))\n",
    "        coeffs2 = outro.coeffs + [0] * (grau_maximo - len(outro.coeffs))\n",
    "\n",
    "        coeffs_resultantes = [coef1 + coef2 for coef1, coef2 in zip(coeffs1, coeffs2)]\n",
    "\n",
    "        return Polynomials(coeffs_resultantes[::-1])\n"
   ]
  },
  {
   "attachments": {},
   "cell_type": "markdown",
   "metadata": {},
   "source": [
    "### 2) Crie uma classe “StraightLine\" que defina uma reta a partir de 2 pontos, cheque se uma outra reta é igual a ela e cheque se uma outra reta é paralela a ela."
   ]
  },
  {
   "cell_type": "code",
   "execution_count": null,
   "metadata": {},
   "outputs": [],
   "source": []
  },
  {
   "attachments": {},
   "cell_type": "markdown",
   "metadata": {},
   "source": [
    "### 3) Crie uma classe “PlotStraightLine\" que seja uma filha da classe do exercício anterior e desenhe a reta no eixo xy."
   ]
  },
  {
   "cell_type": "code",
   "execution_count": null,
   "metadata": {},
   "outputs": [],
   "source": []
  }
 ],
 "metadata": {
  "kernelspec": {
   "display_name": ".venv",
   "language": "python",
   "name": "python3"
  },
  "language_info": {
   "codemirror_mode": {
    "name": "ipython",
    "version": 3
   },
   "file_extension": ".py",
   "mimetype": "text/x-python",
   "name": "python",
   "nbconvert_exporter": "python",
   "pygments_lexer": "ipython3",
   "version": "3.11.3"
  },
  "orig_nbformat": 4
 },
 "nbformat": 4,
 "nbformat_minor": 2
}
